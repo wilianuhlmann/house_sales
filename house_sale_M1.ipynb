{
 "cells": [
  {
   "cell_type": "markdown",
   "id": "a5de63eb",
   "metadata": {},
   "source": [
    "# CEO Questions/Perguntas do CEO\n",
    "### 1 - How many houses are available?/Quantas casas estão disponiveis?\n",
    "### 2 - How many attributes do the houses have?/Quantos atruibutos as casas possuem?\n",
    "### 3 - What are the attributes of houses?/Quais são os atributos das casas?\n",
    "### 4 - What is the most expensive house (house with the highest sale value)?/Qual a casa mais cara(casa com maior valor de venda)?\n",
    "### 5 - Which house has the most rooms?/Qual a casa com maior numero de quartos?\n",
    "### 6. What is the total sum of quarters in the dataset?/Qual a soma total de quartos do conjunto de dados?\n",
    "### 7. How many homes have 2 bathrooms?/Quantas casas possuem 2 banheiros?\n",
    "### 8. What is the average price of all houses in the dataset?/Qual o preço médio de todas as casas no conjunto de dados?\n",
    "### 9. What is the average price of 2-bathroom homes?/Qual o preço médio de casas com 2 banheiros?\n",
    "### 10. What is the minimum price among 3-bedroom homes?/Qual o preço mínimo entre as casas com 3 quartos?\n",
    "### 11. How many homes have more than 300 square meters in the living room?/Quantas casas possuem mais de 300 metros quadrados na sala de estar?\n",
    "### 12. How many houses have more than 2 floors?/Quantas casas tem mais de 2 andares?\n",
    "### 13. How many houses have an ocean view?/Quantas casas tem vista para o mar?\n",
    "### 14. Of the houses with an ocean view, how many have 3 bedrooms?/Das casas com vista para o mar, quantas tem 3 quartos?\n",
    "### 15. Of the homes with more than 300 square meters of living room, how many have more than 2 bathrooms?/Das casas com mais de 300 metros quadrados de sala de estar, quantas tem mais de 2 banheiros?\n",
    "    "
   ]
  },
  {
   "cell_type": "code",
   "execution_count": 46,
   "id": "e7828069",
   "metadata": {
    "ExecuteTime": {
     "end_time": "2021-10-26T03:57:52.734995Z",
     "start_time": "2021-10-26T03:57:52.719365Z"
    }
   },
   "outputs": [],
   "source": [
    "import numpy as np\n",
    "import pandas as pd\n",
    "import seaborn as sns\n",
    "from matplotlib import pyplot as plt\n",
    "import plotly.express as px"
   ]
  },
  {
   "cell_type": "code",
   "execution_count": 47,
   "id": "f000f2f4",
   "metadata": {
    "ExecuteTime": {
     "end_time": "2021-10-26T03:57:53.567197Z",
     "start_time": "2021-10-26T03:57:53.472447Z"
    }
   },
   "outputs": [],
   "source": [
    "datahouses = pd.read_csv(\"kc_house_data.csv\")  "
   ]
  },
  {
   "cell_type": "markdown",
   "id": "850c5f2a",
   "metadata": {},
   "source": [
    "# 1 - How many houses are available/Quantas casas estão disponiveis?"
   ]
  },
  {
   "cell_type": "markdown",
   "id": "fe88fbfa",
   "metadata": {},
   "source": [
    "#### Estão disponiveis 21436 casas para vendas."
   ]
  },
  {
   "cell_type": "code",
   "execution_count": 48,
   "id": "9113736f",
   "metadata": {
    "ExecuteTime": {
     "end_time": "2021-10-26T03:57:57.682823Z",
     "start_time": "2021-10-26T03:57:57.667349Z"
    }
   },
   "outputs": [
    {
     "name": "stdout",
     "output_type": "stream",
     "text": [
      "21436\n"
     ]
    }
   ],
   "source": [
    "# Quantas casas estão disponiveis para compra?\n",
    "df = len(datahouses['id'].unique())\n",
    "print(df)"
   ]
  },
  {
   "cell_type": "markdown",
   "id": "d21abec7",
   "metadata": {},
   "source": [
    "# 2  - How many attributes do the houses have/Quantos atruibutos as casas possuem?"
   ]
  },
  {
   "cell_type": "markdown",
   "id": "91ae7a94",
   "metadata": {},
   "source": [
    "#### O numero de atributos da casa é 19"
   ]
  },
  {
   "cell_type": "code",
   "execution_count": 49,
   "id": "f3316de3",
   "metadata": {
    "ExecuteTime": {
     "end_time": "2021-10-26T03:58:00.098137Z",
     "start_time": "2021-10-26T03:58:00.066632Z"
    }
   },
   "outputs": [
    {
     "name": "stdout",
     "output_type": "stream",
     "text": [
      "19\n"
     ]
    }
   ],
   "source": [
    "# Quais são os atributos das casa?\n",
    "# atributos são a quantidade de colunas que o .csv possue, ID e DATA não devem ser considerados\n",
    "num_attributes = len(datahouses.columns) -2\n",
    "print(num_attributes)"
   ]
  },
  {
   "cell_type": "markdown",
   "id": "ac35cb2d",
   "metadata": {},
   "source": [
    "# 3 - What are the attributes of houses/Quais são os atributos das casas?"
   ]
  },
  {
   "cell_type": "markdown",
   "id": "dfbf4f4f",
   "metadata": {},
   "source": [
    "#### ['price', 'bedrooms', 'bathrooms', 'sqft_living', 'sqft_lot', 'floors', 'waterfront', 'view', 'condition', 'grade', 'sqft_above', 'sqft_basement', 'yr_built', 'yr_renovated', 'zipcode', 'lat', 'long', 'sqft_living15', 'sqft_lot15']"
   ]
  },
  {
   "cell_type": "code",
   "execution_count": 28,
   "id": "f251e2d3",
   "metadata": {
    "ExecuteTime": {
     "end_time": "2021-10-26T03:57:02.325561Z",
     "start_time": "2021-10-26T03:57:02.296894Z"
    }
   },
   "outputs": [
    {
     "name": "stdout",
     "output_type": "stream",
     "text": [
      "['price', 'bedrooms', 'bathrooms', 'sqft_living', 'sqft_lot', 'floors', 'waterfront', 'view', 'condition', 'grade', 'sqft_above', 'sqft_basement', 'yr_built', 'yr_renovated', 'zipcode', 'lat', 'long', 'sqft_living15', 'sqft_lot15']\n"
     ]
    }
   ],
   "source": [
    "# Quais os atributos da casa?\n",
    "# ID e DATA não são atributos então podemos apenas excluilos e exibir as colunas disponiveis nos dados que possuiemos\n",
    "df = datahouses.drop(['id', 'date'], axis=1)\n",
    "print(df.columns.tolist())"
   ]
  },
  {
   "cell_type": "markdown",
   "id": "6d626d92",
   "metadata": {},
   "source": [
    "#### Os atributos das casas são:\n",
    "['price', 'bedrooms', 'bathrooms', 'sqft_living', 'sqft_lot', 'floors', 'waterfront', 'view', 'condition', 'grade', 'sqft_above', 'sqft_basement', 'yr_built', 'yr_renovated', 'zipcode', 'lat', 'long', 'sqft_living15', 'sqft_lot15']\n"
   ]
  },
  {
   "cell_type": "markdown",
   "id": "9592696d",
   "metadata": {},
   "source": [
    "# 4 - What is the most expensive house (house with the highest sale value)/Qual a casa mais cara(casa com maior valor de venda)?"
   ]
  },
  {
   "cell_type": "markdown",
   "id": "47ead997",
   "metadata": {},
   "source": [
    "#### A casa mais cara é a de ID 72552, com valor de 7129300520"
   ]
  },
  {
   "cell_type": "code",
   "execution_count": 29,
   "id": "3f5c9460",
   "metadata": {
    "ExecuteTime": {
     "end_time": "2021-10-26T03:57:02.592252Z",
     "start_time": "2021-10-26T03:57:02.561031Z"
    }
   },
   "outputs": [
    {
     "name": "stdout",
     "output_type": "stream",
     "text": [
      "Most expensive house: 7129300520\n"
     ]
    }
   ],
   "source": [
    "# Qual a casa mais cara?\n",
    "# Stratégia: Selecionar a coluna \"id\", \"price\", ordenar as casas pela coluna \"price\" em ordem decrescente e\n",
    "# escolher o imóvel do primeiro id.\n",
    "house_expensive = datahouses[['id', 'price']].sort_values( 'price', ascending=False ).loc[0,'id']\n",
    "print( 'Most expensive house: {}'.format( house_expensive ) )"
   ]
  },
  {
   "cell_type": "markdown",
   "id": "eb708db9",
   "metadata": {},
   "source": [
    "# 5 - Which house has the most rooms/Qual a casa com maior numero de quartos?"
   ]
  },
  {
   "cell_type": "markdown",
   "id": "bacee80e",
   "metadata": {},
   "source": [
    "#### A casa com maior numero de quartos é a de ID 2402100895 com 33 quartos"
   ]
  },
  {
   "cell_type": "code",
   "execution_count": 30,
   "id": "4049417d",
   "metadata": {
    "ExecuteTime": {
     "end_time": "2021-10-26T03:57:02.796281Z",
     "start_time": "2021-10-26T03:57:02.718155Z"
    }
   },
   "outputs": [
    {
     "data": {
      "text/html": [
       "<div>\n",
       "<style scoped>\n",
       "    .dataframe tbody tr th:only-of-type {\n",
       "        vertical-align: middle;\n",
       "    }\n",
       "\n",
       "    .dataframe tbody tr th {\n",
       "        vertical-align: top;\n",
       "    }\n",
       "\n",
       "    .dataframe thead th {\n",
       "        text-align: right;\n",
       "    }\n",
       "</style>\n",
       "<table border=\"1\" class=\"dataframe\">\n",
       "  <thead>\n",
       "    <tr style=\"text-align: right;\">\n",
       "      <th></th>\n",
       "      <th>id</th>\n",
       "      <th>date</th>\n",
       "      <th>price</th>\n",
       "      <th>bedrooms</th>\n",
       "      <th>bathrooms</th>\n",
       "      <th>sqft_living</th>\n",
       "      <th>sqft_lot</th>\n",
       "      <th>floors</th>\n",
       "      <th>waterfront</th>\n",
       "      <th>view</th>\n",
       "      <th>...</th>\n",
       "      <th>grade</th>\n",
       "      <th>sqft_above</th>\n",
       "      <th>sqft_basement</th>\n",
       "      <th>yr_built</th>\n",
       "      <th>yr_renovated</th>\n",
       "      <th>zipcode</th>\n",
       "      <th>lat</th>\n",
       "      <th>long</th>\n",
       "      <th>sqft_living15</th>\n",
       "      <th>sqft_lot15</th>\n",
       "    </tr>\n",
       "  </thead>\n",
       "  <tbody>\n",
       "    <tr>\n",
       "      <th>15870</th>\n",
       "      <td>2402100895</td>\n",
       "      <td>20140625T000000</td>\n",
       "      <td>640000.0</td>\n",
       "      <td>33</td>\n",
       "      <td>1.75</td>\n",
       "      <td>1620</td>\n",
       "      <td>6000</td>\n",
       "      <td>1.0</td>\n",
       "      <td>0</td>\n",
       "      <td>0</td>\n",
       "      <td>...</td>\n",
       "      <td>7</td>\n",
       "      <td>1040</td>\n",
       "      <td>580</td>\n",
       "      <td>1947</td>\n",
       "      <td>0</td>\n",
       "      <td>98103</td>\n",
       "      <td>47.6878</td>\n",
       "      <td>-122.331</td>\n",
       "      <td>1330</td>\n",
       "      <td>4700</td>\n",
       "    </tr>\n",
       "    <tr>\n",
       "      <th>8757</th>\n",
       "      <td>1773100755</td>\n",
       "      <td>20140821T000000</td>\n",
       "      <td>520000.0</td>\n",
       "      <td>11</td>\n",
       "      <td>3.00</td>\n",
       "      <td>3000</td>\n",
       "      <td>4960</td>\n",
       "      <td>2.0</td>\n",
       "      <td>0</td>\n",
       "      <td>0</td>\n",
       "      <td>...</td>\n",
       "      <td>7</td>\n",
       "      <td>2400</td>\n",
       "      <td>600</td>\n",
       "      <td>1918</td>\n",
       "      <td>1999</td>\n",
       "      <td>98106</td>\n",
       "      <td>47.5560</td>\n",
       "      <td>-122.363</td>\n",
       "      <td>1420</td>\n",
       "      <td>4960</td>\n",
       "    </tr>\n",
       "    <tr>\n",
       "      <th>15161</th>\n",
       "      <td>5566100170</td>\n",
       "      <td>20141029T000000</td>\n",
       "      <td>650000.0</td>\n",
       "      <td>10</td>\n",
       "      <td>2.00</td>\n",
       "      <td>3610</td>\n",
       "      <td>11914</td>\n",
       "      <td>2.0</td>\n",
       "      <td>0</td>\n",
       "      <td>0</td>\n",
       "      <td>...</td>\n",
       "      <td>7</td>\n",
       "      <td>3010</td>\n",
       "      <td>600</td>\n",
       "      <td>1958</td>\n",
       "      <td>0</td>\n",
       "      <td>98006</td>\n",
       "      <td>47.5705</td>\n",
       "      <td>-122.175</td>\n",
       "      <td>2040</td>\n",
       "      <td>11914</td>\n",
       "    </tr>\n",
       "    <tr>\n",
       "      <th>13314</th>\n",
       "      <td>627300145</td>\n",
       "      <td>20140814T000000</td>\n",
       "      <td>1148000.0</td>\n",
       "      <td>10</td>\n",
       "      <td>5.25</td>\n",
       "      <td>4590</td>\n",
       "      <td>10920</td>\n",
       "      <td>1.0</td>\n",
       "      <td>0</td>\n",
       "      <td>2</td>\n",
       "      <td>...</td>\n",
       "      <td>9</td>\n",
       "      <td>2500</td>\n",
       "      <td>2090</td>\n",
       "      <td>2008</td>\n",
       "      <td>0</td>\n",
       "      <td>98004</td>\n",
       "      <td>47.5861</td>\n",
       "      <td>-122.113</td>\n",
       "      <td>2730</td>\n",
       "      <td>10400</td>\n",
       "    </tr>\n",
       "    <tr>\n",
       "      <th>19254</th>\n",
       "      <td>8812401450</td>\n",
       "      <td>20141229T000000</td>\n",
       "      <td>660000.0</td>\n",
       "      <td>10</td>\n",
       "      <td>3.00</td>\n",
       "      <td>2920</td>\n",
       "      <td>3745</td>\n",
       "      <td>2.0</td>\n",
       "      <td>0</td>\n",
       "      <td>0</td>\n",
       "      <td>...</td>\n",
       "      <td>7</td>\n",
       "      <td>1860</td>\n",
       "      <td>1060</td>\n",
       "      <td>1913</td>\n",
       "      <td>0</td>\n",
       "      <td>98105</td>\n",
       "      <td>47.6635</td>\n",
       "      <td>-122.320</td>\n",
       "      <td>1810</td>\n",
       "      <td>3745</td>\n",
       "    </tr>\n",
       "    <tr>\n",
       "      <th>...</th>\n",
       "      <td>...</td>\n",
       "      <td>...</td>\n",
       "      <td>...</td>\n",
       "      <td>...</td>\n",
       "      <td>...</td>\n",
       "      <td>...</td>\n",
       "      <td>...</td>\n",
       "      <td>...</td>\n",
       "      <td>...</td>\n",
       "      <td>...</td>\n",
       "      <td>...</td>\n",
       "      <td>...</td>\n",
       "      <td>...</td>\n",
       "      <td>...</td>\n",
       "      <td>...</td>\n",
       "      <td>...</td>\n",
       "      <td>...</td>\n",
       "      <td>...</td>\n",
       "      <td>...</td>\n",
       "      <td>...</td>\n",
       "      <td>...</td>\n",
       "    </tr>\n",
       "    <tr>\n",
       "      <th>19452</th>\n",
       "      <td>3980300371</td>\n",
       "      <td>20140926T000000</td>\n",
       "      <td>142000.0</td>\n",
       "      <td>0</td>\n",
       "      <td>0.00</td>\n",
       "      <td>290</td>\n",
       "      <td>20875</td>\n",
       "      <td>1.0</td>\n",
       "      <td>0</td>\n",
       "      <td>0</td>\n",
       "      <td>...</td>\n",
       "      <td>1</td>\n",
       "      <td>290</td>\n",
       "      <td>0</td>\n",
       "      <td>1963</td>\n",
       "      <td>0</td>\n",
       "      <td>98024</td>\n",
       "      <td>47.5308</td>\n",
       "      <td>-121.888</td>\n",
       "      <td>1620</td>\n",
       "      <td>22850</td>\n",
       "    </tr>\n",
       "    <tr>\n",
       "      <th>8484</th>\n",
       "      <td>2310060040</td>\n",
       "      <td>20140925T000000</td>\n",
       "      <td>240000.0</td>\n",
       "      <td>0</td>\n",
       "      <td>2.50</td>\n",
       "      <td>1810</td>\n",
       "      <td>5669</td>\n",
       "      <td>2.0</td>\n",
       "      <td>0</td>\n",
       "      <td>0</td>\n",
       "      <td>...</td>\n",
       "      <td>7</td>\n",
       "      <td>1810</td>\n",
       "      <td>0</td>\n",
       "      <td>2003</td>\n",
       "      <td>0</td>\n",
       "      <td>98038</td>\n",
       "      <td>47.3493</td>\n",
       "      <td>-122.053</td>\n",
       "      <td>1810</td>\n",
       "      <td>5685</td>\n",
       "    </tr>\n",
       "    <tr>\n",
       "      <th>875</th>\n",
       "      <td>6306400140</td>\n",
       "      <td>20140612T000000</td>\n",
       "      <td>1095000.0</td>\n",
       "      <td>0</td>\n",
       "      <td>0.00</td>\n",
       "      <td>3064</td>\n",
       "      <td>4764</td>\n",
       "      <td>3.5</td>\n",
       "      <td>0</td>\n",
       "      <td>2</td>\n",
       "      <td>...</td>\n",
       "      <td>7</td>\n",
       "      <td>3064</td>\n",
       "      <td>0</td>\n",
       "      <td>1990</td>\n",
       "      <td>0</td>\n",
       "      <td>98102</td>\n",
       "      <td>47.6362</td>\n",
       "      <td>-122.322</td>\n",
       "      <td>2360</td>\n",
       "      <td>4000</td>\n",
       "    </tr>\n",
       "    <tr>\n",
       "      <th>8477</th>\n",
       "      <td>2569500210</td>\n",
       "      <td>20141117T000000</td>\n",
       "      <td>339950.0</td>\n",
       "      <td>0</td>\n",
       "      <td>2.50</td>\n",
       "      <td>2290</td>\n",
       "      <td>8319</td>\n",
       "      <td>2.0</td>\n",
       "      <td>0</td>\n",
       "      <td>0</td>\n",
       "      <td>...</td>\n",
       "      <td>8</td>\n",
       "      <td>2290</td>\n",
       "      <td>0</td>\n",
       "      <td>1985</td>\n",
       "      <td>0</td>\n",
       "      <td>98042</td>\n",
       "      <td>47.3473</td>\n",
       "      <td>-122.151</td>\n",
       "      <td>2500</td>\n",
       "      <td>8751</td>\n",
       "    </tr>\n",
       "    <tr>\n",
       "      <th>9773</th>\n",
       "      <td>3374500520</td>\n",
       "      <td>20150429T000000</td>\n",
       "      <td>355000.0</td>\n",
       "      <td>0</td>\n",
       "      <td>0.00</td>\n",
       "      <td>2460</td>\n",
       "      <td>8049</td>\n",
       "      <td>2.0</td>\n",
       "      <td>0</td>\n",
       "      <td>0</td>\n",
       "      <td>...</td>\n",
       "      <td>8</td>\n",
       "      <td>2460</td>\n",
       "      <td>0</td>\n",
       "      <td>1990</td>\n",
       "      <td>0</td>\n",
       "      <td>98031</td>\n",
       "      <td>47.4095</td>\n",
       "      <td>-122.168</td>\n",
       "      <td>2520</td>\n",
       "      <td>8050</td>\n",
       "    </tr>\n",
       "  </tbody>\n",
       "</table>\n",
       "<p>21613 rows × 21 columns</p>\n",
       "</div>"
      ],
      "text/plain": [
       "               id             date      price  bedrooms  bathrooms  \\\n",
       "15870  2402100895  20140625T000000   640000.0        33       1.75   \n",
       "8757   1773100755  20140821T000000   520000.0        11       3.00   \n",
       "15161  5566100170  20141029T000000   650000.0        10       2.00   \n",
       "13314   627300145  20140814T000000  1148000.0        10       5.25   \n",
       "19254  8812401450  20141229T000000   660000.0        10       3.00   \n",
       "...           ...              ...        ...       ...        ...   \n",
       "19452  3980300371  20140926T000000   142000.0         0       0.00   \n",
       "8484   2310060040  20140925T000000   240000.0         0       2.50   \n",
       "875    6306400140  20140612T000000  1095000.0         0       0.00   \n",
       "8477   2569500210  20141117T000000   339950.0         0       2.50   \n",
       "9773   3374500520  20150429T000000   355000.0         0       0.00   \n",
       "\n",
       "       sqft_living  sqft_lot  floors  waterfront  view  ...  grade  \\\n",
       "15870         1620      6000     1.0           0     0  ...      7   \n",
       "8757          3000      4960     2.0           0     0  ...      7   \n",
       "15161         3610     11914     2.0           0     0  ...      7   \n",
       "13314         4590     10920     1.0           0     2  ...      9   \n",
       "19254         2920      3745     2.0           0     0  ...      7   \n",
       "...            ...       ...     ...         ...   ...  ...    ...   \n",
       "19452          290     20875     1.0           0     0  ...      1   \n",
       "8484          1810      5669     2.0           0     0  ...      7   \n",
       "875           3064      4764     3.5           0     2  ...      7   \n",
       "8477          2290      8319     2.0           0     0  ...      8   \n",
       "9773          2460      8049     2.0           0     0  ...      8   \n",
       "\n",
       "       sqft_above  sqft_basement  yr_built  yr_renovated  zipcode      lat  \\\n",
       "15870        1040            580      1947             0    98103  47.6878   \n",
       "8757         2400            600      1918          1999    98106  47.5560   \n",
       "15161        3010            600      1958             0    98006  47.5705   \n",
       "13314        2500           2090      2008             0    98004  47.5861   \n",
       "19254        1860           1060      1913             0    98105  47.6635   \n",
       "...           ...            ...       ...           ...      ...      ...   \n",
       "19452         290              0      1963             0    98024  47.5308   \n",
       "8484         1810              0      2003             0    98038  47.3493   \n",
       "875          3064              0      1990             0    98102  47.6362   \n",
       "8477         2290              0      1985             0    98042  47.3473   \n",
       "9773         2460              0      1990             0    98031  47.4095   \n",
       "\n",
       "          long  sqft_living15  sqft_lot15  \n",
       "15870 -122.331           1330        4700  \n",
       "8757  -122.363           1420        4960  \n",
       "15161 -122.175           2040       11914  \n",
       "13314 -122.113           2730       10400  \n",
       "19254 -122.320           1810        3745  \n",
       "...        ...            ...         ...  \n",
       "19452 -121.888           1620       22850  \n",
       "8484  -122.053           1810        5685  \n",
       "875   -122.322           2360        4000  \n",
       "8477  -122.151           2500        8751  \n",
       "9773  -122.168           2520        8050  \n",
       "\n",
       "[21613 rows x 21 columns]"
      ]
     },
     "execution_count": 30,
     "metadata": {},
     "output_type": "execute_result"
    }
   ],
   "source": [
    "# Qual a casa com maior numero de quartos?\n",
    "datahouses.sort_values(by='bedrooms', ascending=False)"
   ]
  },
  {
   "cell_type": "markdown",
   "id": "6d3af7be",
   "metadata": {},
   "source": [
    "### Tambem é possivel a forma abaixo:"
   ]
  },
  {
   "cell_type": "code",
   "execution_count": 31,
   "id": "55ce479f",
   "metadata": {
    "ExecuteTime": {
     "end_time": "2021-10-26T03:57:02.859319Z",
     "start_time": "2021-10-26T03:57:02.843712Z"
    }
   },
   "outputs": [
    {
     "name": "stdout",
     "output_type": "stream",
     "text": [
      "House with biggest number of bedrooms: 2402100895\n"
     ]
    }
   ],
   "source": [
    "# Estratégia:\n",
    "# 1. Selecionar a coluna \"id\", \"bedroom\"\n",
    "# 2. Ordenar os imóveis pelo numero de quartos de ordem decrescente\n",
    "# 3. Selecionar a primeira coluna \"id\"\n",
    "df = datahouses[['id', 'bedrooms']].sort_values( 'bedrooms', ascending=False )\n",
    "print( 'House with biggest number of bedrooms: {}'.format( df.iloc[0, 0] ) )"
   ]
  },
  {
   "cell_type": "markdown",
   "id": "7b745c4e",
   "metadata": {},
   "source": [
    "# 6. What is the total sum of quarters in the dataset/Qual a soma total de quartos do conjunto de dados?"
   ]
  },
  {
   "cell_type": "markdown",
   "id": "5153cf6c",
   "metadata": {},
   "source": [
    "#### A soma de quartos é 72854"
   ]
  },
  {
   "cell_type": "code",
   "execution_count": 32,
   "id": "4727c89f",
   "metadata": {
    "ExecuteTime": {
     "end_time": "2021-10-26T03:57:03.016303Z",
     "start_time": "2021-10-26T03:57:02.984957Z"
    }
   },
   "outputs": [
    {
     "name": "stdout",
     "output_type": "stream",
     "text": [
      "The sum of bedrooms is 72854\n"
     ]
    }
   ],
   "source": [
    "df = datahouses['bedrooms'].sum()\n",
    "print(f'The sum of bedrooms is {df}') "
   ]
  },
  {
   "cell_type": "markdown",
   "id": "4aed7c7a",
   "metadata": {},
   "source": [
    "# 7. How many homes have 2 bathrooms/Quantas casas possuem 2 banheiros?"
   ]
  },
  {
   "cell_type": "markdown",
   "id": "7dc8942a",
   "metadata": {},
   "source": [
    "#### O 1930 casa possuem exatamente 2 quartos"
   ]
  },
  {
   "cell_type": "code",
   "execution_count": 33,
   "id": "2e0a2ae7",
   "metadata": {
    "ExecuteTime": {
     "end_time": "2021-10-26T03:57:03.188455Z",
     "start_time": "2021-10-26T03:57:03.157272Z"
    }
   },
   "outputs": [
    {
     "name": "stdout",
     "output_type": "stream",
     "text": [
      "1930\n"
     ]
    }
   ],
   "source": [
    "df = datahouses.loc[datahouses['bathrooms']== 2, :]\n",
    "num_houses = len(df)\n",
    "print(num_houses)"
   ]
  },
  {
   "cell_type": "markdown",
   "id": "e341ad27",
   "metadata": {},
   "source": [
    "# 8. What is the average price of all houses in the dataset/Qual o preço médio de todas as casas no conjunto de dados?"
   ]
  },
  {
   "cell_type": "markdown",
   "id": "e9c550c5",
   "metadata": {},
   "source": [
    "#### O preço medio de todas as casas é de 540088.14"
   ]
  },
  {
   "cell_type": "code",
   "execution_count": 34,
   "id": "4f369d6b",
   "metadata": {
    "ExecuteTime": {
     "end_time": "2021-10-26T03:57:03.330093Z",
     "start_time": "2021-10-26T03:57:03.314445Z"
    }
   },
   "outputs": [
    {
     "name": "stdout",
     "output_type": "stream",
     "text": [
      "540088.1417665294\n"
     ]
    }
   ],
   "source": [
    "df = datahouses['price'].mean()\n",
    "print(df)"
   ]
  },
  {
   "cell_type": "markdown",
   "id": "50905e7a",
   "metadata": {},
   "source": [
    "# 9.  What is the average price of 2-bathroom homes/Qual o preço médio de casas com 2 banheiros?"
   ]
  },
  {
   "cell_type": "markdown",
   "id": "16f0f015",
   "metadata": {},
   "source": [
    "#### O preço medio de casas com 2 quartos é de: 401372.68"
   ]
  },
  {
   "cell_type": "code",
   "execution_count": 35,
   "id": "e37523b8",
   "metadata": {
    "ExecuteTime": {
     "end_time": "2021-10-26T03:57:03.486434Z",
     "start_time": "2021-10-26T03:57:03.455219Z"
    }
   },
   "outputs": [
    {
     "name": "stdout",
     "output_type": "stream",
     "text": [
      "457889.7186528497\n"
     ]
    }
   ],
   "source": [
    "df = datahouses.loc[datahouses['bathrooms']== 2, :]\n",
    "mean_price_bathrooms = df['price'].mean()\n",
    "print(mean_price_bathrooms)"
   ]
  },
  {
   "cell_type": "markdown",
   "id": "11101258",
   "metadata": {},
   "source": [
    "# 10. What is the minimum price among 3-bedroom homes/Qual o preço mínimo entre as casas com 3 quartos?"
   ]
  },
  {
   "cell_type": "markdown",
   "id": "01f6d830",
   "metadata": {},
   "source": [
    "#### O preço minimo entre casa com 3 quartos é de: 82000.0"
   ]
  },
  {
   "cell_type": "code",
   "execution_count": 36,
   "id": "f32e25c0",
   "metadata": {
    "ExecuteTime": {
     "end_time": "2021-10-26T03:57:03.643632Z",
     "start_time": "2021-10-26T03:57:03.612354Z"
    }
   },
   "outputs": [
    {
     "name": "stdout",
     "output_type": "stream",
     "text": [
      "82000.0\n"
     ]
    }
   ],
   "source": [
    "df = datahouses.loc[datahouses['bedrooms'] == 3, :]\n",
    "min_price_bedrooms = df['price'].min()\n",
    "print(min_price_bedrooms)"
   ]
  },
  {
   "cell_type": "markdown",
   "id": "120865bb",
   "metadata": {},
   "source": [
    "# 11. How many homes have more than 300 square meters in the living room/Quantas casas possuem mais de 300 metros quadrados na sala de estar?"
   ]
  },
  {
   "cell_type": "markdown",
   "id": "4bb30961",
   "metadata": {},
   "source": [
    "#### 21613 possuem mais de 300 metros² na sala de estar"
   ]
  },
  {
   "cell_type": "code",
   "execution_count": 37,
   "id": "379304d0",
   "metadata": {
    "ExecuteTime": {
     "end_time": "2021-10-26T03:57:03.832270Z",
     "start_time": "2021-10-26T03:57:03.784718Z"
    }
   },
   "outputs": [
    {
     "name": "stdout",
     "output_type": "stream",
     "text": [
      "               id             date     price  bedrooms  bathrooms  \\\n",
      "0      7129300520  20141013T000000  221900.0         3       1.00   \n",
      "1      6414100192  20141209T000000  538000.0         3       2.25   \n",
      "4      1954400510  20150218T000000  510000.0         3       2.00   \n",
      "6      1321400060  20140627T000000  257500.0         3       2.25   \n",
      "7      2008000270  20150115T000000  291850.0         3       1.50   \n",
      "...           ...              ...       ...       ...        ...   \n",
      "21603  7852140040  20140825T000000  507250.0         3       2.50   \n",
      "21604  9834201367  20150126T000000  429000.0         3       2.00   \n",
      "21607  2997800021  20150219T000000  475000.0         3       2.50   \n",
      "21608   263000018  20140521T000000  360000.0         3       2.50   \n",
      "21611   291310100  20150116T000000  400000.0         3       2.50   \n",
      "\n",
      "       sqft_living  sqft_lot  floors  waterfront  view  ...  sqft_above  \\\n",
      "0             1180      5650     1.0           0     0  ...        1180   \n",
      "1             2570      7242     2.0           0     0  ...        2170   \n",
      "4             1680      8080     1.0           0     0  ...        1680   \n",
      "6             1715      6819     2.0           0     0  ...        1715   \n",
      "7             1060      9711     1.0           0     0  ...        1060   \n",
      "...            ...       ...     ...         ...   ...  ...         ...   \n",
      "21603         2270      5536     2.0           0     0  ...        2270   \n",
      "21604         1490      1126     3.0           0     0  ...        1490   \n",
      "21607         1310      1294     2.0           0     0  ...        1180   \n",
      "21608         1530      1131     3.0           0     0  ...        1530   \n",
      "21611         1600      2388     2.0           0     0  ...        1600   \n",
      "\n",
      "       sqft_basement  yr_built  yr_renovated  zipcode      lat     long  \\\n",
      "0                  0      1955             0    98178  47.5112 -122.257   \n",
      "1                400      1951          1991    98125  47.7210 -122.319   \n",
      "4                  0      1987             0    98074  47.6168 -122.045   \n",
      "6                  0      1995             0    98003  47.3097 -122.327   \n",
      "7                  0      1963             0    98198  47.4095 -122.315   \n",
      "...              ...       ...           ...      ...      ...      ...   \n",
      "21603              0      2003             0    98065  47.5389 -121.881   \n",
      "21604              0      2014             0    98144  47.5699 -122.288   \n",
      "21607            130      2008             0    98116  47.5773 -122.409   \n",
      "21608              0      2009             0    98103  47.6993 -122.346   \n",
      "21611              0      2004             0    98027  47.5345 -122.069   \n",
      "\n",
      "       sqft_living15  sqft_lot15       m2  \n",
      "0               1340        5650  124.620  \n",
      "1               1690        7639  157.170  \n",
      "4               1800        7503  167.400  \n",
      "6               2238        6819  208.134  \n",
      "7               1650        9711  153.450  \n",
      "...              ...         ...      ...  \n",
      "21603           2270        5731  211.110  \n",
      "21604           1400        1230  130.200  \n",
      "21607           1330        1265  123.690  \n",
      "21608           1530        1509  142.290  \n",
      "21611           1410        1287  131.130  \n",
      "\n",
      "[9824 rows x 22 columns]\n"
     ]
    },
    {
     "name": "stderr",
     "output_type": "stream",
     "text": [
      "C:\\Users\\Wilian\\AppData\\Local\\Temp/ipykernel_6452/2703179625.py:1: SettingWithCopyWarning: \n",
      "A value is trying to be set on a copy of a slice from a DataFrame.\n",
      "Try using .loc[row_indexer,col_indexer] = value instead\n",
      "\n",
      "See the caveats in the documentation: https://pandas.pydata.org/pandas-docs/stable/user_guide/indexing.html#returning-a-view-versus-a-copy\n",
      "  df['m2'] = datahouses['sqft_living15'] * 0.093 # converting square feet for meters\n"
     ]
    }
   ],
   "source": [
    "df['m2'] = datahouses['sqft_living15'] * 0.093 # converting square feet for meters\n",
    "len(df.loc[df['m2'] > 300, 'id'])\n",
    "print(df)"
   ]
  },
  {
   "cell_type": "code",
   "execution_count": 38,
   "id": "608079a6",
   "metadata": {
    "ExecuteTime": {
     "end_time": "2021-10-26T03:57:03.879164Z",
     "start_time": "2021-10-26T03:57:03.847898Z"
    }
   },
   "outputs": [
    {
     "name": "stdout",
     "output_type": "stream",
     "text": [
      "9824\n"
     ]
    }
   ],
   "source": [
    "df1 = df.loc[df['sqft_living15'] >= 300, 'id'].shape[0]\n",
    "print(df1)"
   ]
  },
  {
   "cell_type": "markdown",
   "id": "2f13e914",
   "metadata": {},
   "source": [
    "# 12. How many houses have more than 2 floors/Quantas casas tem mais de 2 andares?"
   ]
  },
  {
   "cell_type": "markdown",
   "id": "fc7f8d59",
   "metadata": {},
   "source": [
    "#### A quantidade de casas com mais de 2 andares é de: 782"
   ]
  },
  {
   "cell_type": "code",
   "execution_count": 50,
   "id": "1e47f79e",
   "metadata": {
    "ExecuteTime": {
     "end_time": "2021-10-26T03:58:10.570911Z",
     "start_time": "2021-10-26T03:58:10.555318Z"
    }
   },
   "outputs": [
    {
     "name": "stdout",
     "output_type": "stream",
     "text": [
      "               id  floors\n",
      "0      7129300520     1.0\n",
      "1      6414100192     2.0\n",
      "2      5631500400     1.0\n",
      "3      2487200875     1.0\n",
      "4      1954400510     1.0\n",
      "...           ...     ...\n",
      "21608   263000018     3.0\n",
      "21609  6600060120     2.0\n",
      "21610  1523300141     2.0\n",
      "21611   291310100     2.0\n",
      "21612  1523300157     2.0\n",
      "\n",
      "[21613 rows x 2 columns]\n"
     ]
    }
   ],
   "source": [
    "df = datahouses[['id', 'floors']]\n",
    "print(df)"
   ]
  },
  {
   "cell_type": "code",
   "execution_count": 52,
   "id": "0b0e0293",
   "metadata": {
    "ExecuteTime": {
     "end_time": "2021-10-26T03:58:16.274127Z",
     "start_time": "2021-10-26T03:58:16.242864Z"
    }
   },
   "outputs": [
    {
     "name": "stdout",
     "output_type": "stream",
     "text": [
      "9023\n"
     ]
    }
   ],
   "source": [
    "df1 = df.loc[df['floors'] >= 2 , 'id'].shape[0]\n",
    "print(df1)"
   ]
  },
  {
   "cell_type": "markdown",
   "id": "860f4224",
   "metadata": {},
   "source": [
    "# 13. How many houses have an ocean view/Quantas casas tem vista para o mar?"
   ]
  },
  {
   "cell_type": "markdown",
   "id": "cc2e5065",
   "metadata": {},
   "source": [
    "#### A quantidade de casas que tem vistra para o mar é de: 163"
   ]
  },
  {
   "cell_type": "code",
   "execution_count": 41,
   "id": "62646072",
   "metadata": {
    "ExecuteTime": {
     "end_time": "2021-10-26T03:57:04.271895Z",
     "start_time": "2021-10-26T03:57:04.240730Z"
    }
   },
   "outputs": [
    {
     "name": "stdout",
     "output_type": "stream",
     "text": [
      "163\n"
     ]
    }
   ],
   "source": [
    "df = datahouses[['id', 'waterfront']]\n",
    "df1 = df.loc[df['waterfront'] == 1, :].shape[0]\n",
    "print(df1) "
   ]
  },
  {
   "cell_type": "markdown",
   "id": "8feb1328",
   "metadata": {},
   "source": [
    "# 14. Of the houses with an ocean view, how many have 3 bedrooms/Das casas com vista para o mar, quantas tem 3 quartos?"
   ]
  },
  {
   "cell_type": "markdown",
   "id": "0046fc4e",
   "metadata": {},
   "source": [
    "#### Das casas com vista para o mar **127** tem 3 quartos"
   ]
  },
  {
   "cell_type": "code",
   "execution_count": 42,
   "id": "f3c8b740",
   "metadata": {
    "ExecuteTime": {
     "end_time": "2021-10-26T03:57:04.444678Z",
     "start_time": "2021-10-26T03:57:04.413411Z"
    }
   },
   "outputs": [
    {
     "name": "stdout",
     "output_type": "stream",
     "text": [
      "127\n"
     ]
    }
   ],
   "source": [
    "df = datahouses[['id','waterfront', 'bedrooms']]\n",
    "df1 = df.loc[(df['waterfront'] == 1) & (df['bedrooms'] >= 3), 'id'].shape[0]\n",
    "print(df1)"
   ]
  },
  {
   "cell_type": "markdown",
   "id": "d3d23c3b",
   "metadata": {},
   "source": [
    "# 15. Of the homes with more than 300 square meters of living room, how many have more than 2 bathrooms/Das casas com mais de 300 metros quadrados de sala de estar, quantas tem mais de 2 banheiros?"
   ]
  },
  {
   "cell_type": "markdown",
   "id": "a9581618",
   "metadata": {},
   "source": [
    "#### Das casas com mais de 300 metros quadrados de sala de estar, 11242 tem mais de 2 banheiros."
   ]
  },
  {
   "cell_type": "code",
   "execution_count": 43,
   "id": "f5524e91",
   "metadata": {
    "ExecuteTime": {
     "end_time": "2021-10-26T03:57:04.633453Z",
     "start_time": "2021-10-26T03:57:04.602496Z"
    }
   },
   "outputs": [
    {
     "name": "stdout",
     "output_type": "stream",
     "text": [
      "11242\n"
     ]
    }
   ],
   "source": [
    "df = datahouses[['id','sqft_living15', 'bathrooms']]\n",
    "df1 = df.loc[(df['sqft_living15'] >= 300) & (df['bathrooms'] > 2), 'id'].shape[0]\n",
    "print(df1)"
   ]
  },
  {
   "cell_type": "code",
   "execution_count": null,
   "id": "959f210d",
   "metadata": {},
   "outputs": [],
   "source": []
  },
  {
   "cell_type": "code",
   "execution_count": null,
   "id": "bca36f82",
   "metadata": {},
   "outputs": [],
   "source": []
  },
  {
   "cell_type": "code",
   "execution_count": null,
   "id": "595c4b8b",
   "metadata": {},
   "outputs": [],
   "source": []
  },
  {
   "cell_type": "code",
   "execution_count": null,
   "id": "7c1bde6b",
   "metadata": {},
   "outputs": [],
   "source": []
  },
  {
   "cell_type": "code",
   "execution_count": null,
   "id": "99e60c0b",
   "metadata": {},
   "outputs": [],
   "source": []
  },
  {
   "cell_type": "code",
   "execution_count": null,
   "id": "42e27852",
   "metadata": {},
   "outputs": [],
   "source": []
  },
  {
   "cell_type": "code",
   "execution_count": null,
   "id": "49d031c9",
   "metadata": {},
   "outputs": [],
   "source": []
  }
 ],
 "metadata": {
  "kernelspec": {
   "display_name": "Python 3 (ipykernel)",
   "language": "python",
   "name": "python3"
  },
  "language_info": {
   "codemirror_mode": {
    "name": "ipython",
    "version": 3
   },
   "file_extension": ".py",
   "mimetype": "text/x-python",
   "name": "python",
   "nbconvert_exporter": "python",
   "pygments_lexer": "ipython3",
   "version": "3.8.11"
  }
 },
 "nbformat": 4,
 "nbformat_minor": 5
}
