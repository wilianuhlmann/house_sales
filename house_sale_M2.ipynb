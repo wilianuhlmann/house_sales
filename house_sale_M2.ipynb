{
 "cells": [
  {
   "cell_type": "markdown",
   "id": "8f0fe625",
   "metadata": {},
   "source": [
    "# Novas perguntas do CEO \n",
    "\n",
    "\n",
    "#### 1 - Crie uma nova coluna chamada: “house_age”\n",
    "Se o valor da coluna “date” for maior que 2014-01-01 => ‘new_house’Se o valor da coluna “date” for menor que 2014-01-01 => ‘old_house’\n",
    "#### 2 - Crie uma nova coluna chamada: “dormitory_type”\n",
    "Se o valor da coluna “bedrooms” for igual à 1 => ‘studio’Se o valor da coluna “bedrooms” for igual a 2 => ‘apartament’Se o valor da coluna “bedrooms” for maior que 2 => ‘house’\n",
    "#### 3 - Crie uma nova coluna chamada: “condition_type”\n",
    "Se o valor da coluna “condition” for menor ou igual à 2 => ‘bad’Se o valor da coluna “condition” for igual à 3 ou 4 => ‘regular’Se o valor da coluna “condition” for igual à 5 => ‘good’\n",
    "\n",
    "\n",
    "#### 4 - Modifique o TIPO a Coluna “condition” para STRING\n",
    "\n",
    "#### 5 - Delete as colunas: “sqft_living15” e “sqft_lot15”\n",
    "\n",
    "#### 6 - Modifique o TIPO a Coluna “yr_build” para DATE\n",
    "\n",
    "#### 7 - Modifique o TIPO a Coluna “yr_renovated” para DATE\n",
    "\n",
    "#### 8 - Qual a data mais antiga de construção de um imóvel?\n",
    "\n",
    "#### 9 - Qual a data mais antiga de renovação de um imóvel?\n",
    "\n",
    "#### 10 - Quantos imóveis tem 2 andares?\n",
    "\n",
    "#### 11 - Quantos imóveis estão com a condição igual a “regular” ?\n",
    "\n",
    "#### 12 - Quantos imóveis estão com a condição igual a “bad”e possuem “vista para água” ?\n",
    "\n",
    "#### 13 - Quantos imóveis estão com a condição igual a “good” e são “new_house”?\n",
    "\n",
    "#### 14 - Qual o valor do imóvel mais caro do tipo “studio” ?\n",
    "\n",
    "#### 15 - Quantos imóveis do tipo “apartment” foram reformados em 2015 ?\n",
    "\n",
    "#### 16 - Qual o maior número de quartos que um imóveis do tipo “house” possui ?\n",
    "\n",
    "#### 17 - Quantos imóveis “new_house” foram reformados no ano de 2014?\n",
    "\n",
    "#### 18 - Selecione as colunas: “id”, “date”, “price”, “floors”, “zipcode” pelo método:\n",
    "Direto pelo nome das colunas.Pelos Índices.Pelos Índices das linhas e o nome das colunasÍndices Booleanos        \n",
    "\n",
    "\n",
    "#### 19 - Salve um arquivo .csv com somente as colunas do item 10 ao 17.\n",
    "\n",
    "Modifique a cor dos pontos no mapa de “pink” para “verde-escuro”"
   ]
  },
  {
   "cell_type": "code",
   "execution_count": 106,
   "id": "382950e4",
   "metadata": {
    "ExecuteTime": {
     "end_time": "2021-10-27T01:21:28.537102Z",
     "start_time": "2021-10-27T01:21:24.211245Z"
    }
   },
   "outputs": [],
   "source": [
    "import pandas as pd\n",
    "import numpy as np\n",
    "import seaborn as sns\n",
    "from matplotlib import pyplot as plt\n",
    "import plotly.express as px"
   ]
  },
  {
   "cell_type": "code",
   "execution_count": 107,
   "id": "14cd15a5",
   "metadata": {
    "ExecuteTime": {
     "end_time": "2021-10-27T01:46:58.537192Z",
     "start_time": "2021-10-27T01:46:58.442117Z"
    }
   },
   "outputs": [],
   "source": [
    "datahouses = pd.read_csv('kc_house_data.csv')\n",
    "datahouses['date'] = pd.to_datetime( datahouses['date'], format='%Y-%m-%d' )"
   ]
  },
  {
   "cell_type": "markdown",
   "id": "76a351e1",
   "metadata": {},
   "source": [
    "#### 1 - Crie uma nova coluna chamada: “house_age”\n",
    "\n",
    " ###### Se o valor da coluna “date” for maior que 2014-01-01 => ‘new_house’\n",
    " ###### Se o valor da coluna “date” for menor que 2014-01-01 => ‘old_house’"
   ]
  },
  {
   "cell_type": "code",
   "execution_count": 108,
   "id": "df890fd6",
   "metadata": {
    "ExecuteTime": {
     "end_time": "2021-10-27T01:47:00.894327Z",
     "start_time": "2021-10-27T01:47:00.880329Z"
    }
   },
   "outputs": [
    {
     "data": {
      "text/plain": [
       "Index(['id', 'date', 'price', 'bedrooms', 'bathrooms', 'sqft_living',\n",
       "       'sqft_lot', 'floors', 'waterfront', 'view', 'condition', 'grade',\n",
       "       'sqft_above', 'sqft_basement', 'yr_built', 'yr_renovated', 'zipcode',\n",
       "       'lat', 'long', 'sqft_living15', 'sqft_lot15'],\n",
       "      dtype='object')"
      ]
     },
     "execution_count": 108,
     "metadata": {},
     "output_type": "execute_result"
    }
   ],
   "source": [
    "datahouses.columns"
   ]
  },
  {
   "cell_type": "code",
   "execution_count": 142,
   "id": "f3dcecbf",
   "metadata": {},
   "outputs": [
    {
     "data": {
      "text/plain": [
       "id                           int64\n",
       "date                datetime64[ns]\n",
       "price                      float64\n",
       "bedrooms                     int64\n",
       "bathrooms                  float64\n",
       "sqft_living                  int64\n",
       "sqft_lot                     int64\n",
       "floors                     float64\n",
       "waterfront                   int64\n",
       "view                         int64\n",
       "condition                   object\n",
       "grade                        int64\n",
       "sqft_above                   int64\n",
       "sqft_basement                int64\n",
       "yr_built                     int64\n",
       "yr_renovated                 int64\n",
       "zipcode                      int64\n",
       "lat                        float64\n",
       "long                       float64\n",
       "sqft_living15                int64\n",
       "sqft_lot15                   int64\n",
       "house_age                   object\n",
       "dormitory_type              object\n",
       "conditional_type            object\n",
       "dtype: object"
      ]
     },
     "execution_count": 142,
     "metadata": {},
     "output_type": "execute_result"
    }
   ],
   "source": [
    "datahouses.dtypes"
   ]
  },
  {
   "cell_type": "code",
   "execution_count": 110,
   "id": "09597b13",
   "metadata": {
    "ExecuteTime": {
     "end_time": "2021-10-27T01:47:01.050527Z",
     "start_time": "2021-10-27T01:47:01.030533Z"
    }
   },
   "outputs": [],
   "source": [
    "datahouses['house_age'] = 'NA'"
   ]
  },
  {
   "cell_type": "code",
   "execution_count": 111,
   "id": "bfbda4e1",
   "metadata": {
    "ExecuteTime": {
     "end_time": "2021-10-27T01:47:01.221630Z",
     "start_time": "2021-10-27T01:47:01.199664Z"
    }
   },
   "outputs": [
    {
     "data": {
      "text/plain": [
       "Index(['id', 'date', 'price', 'bedrooms', 'bathrooms', 'sqft_living',\n",
       "       'sqft_lot', 'floors', 'waterfront', 'view', 'condition', 'grade',\n",
       "       'sqft_above', 'sqft_basement', 'yr_built', 'yr_renovated', 'zipcode',\n",
       "       'lat', 'long', 'sqft_living15', 'sqft_lot15', 'house_age'],\n",
       "      dtype='object')"
      ]
     },
     "execution_count": 111,
     "metadata": {},
     "output_type": "execute_result"
    }
   ],
   "source": [
    "datahouses.columns"
   ]
  },
  {
   "cell_type": "code",
   "execution_count": 112,
   "id": "be5173ca",
   "metadata": {
    "ExecuteTime": {
     "end_time": "2021-10-27T01:47:01.612081Z",
     "start_time": "2021-10-27T01:47:01.595077Z"
    }
   },
   "outputs": [],
   "source": [
    "datahouses.loc[datahouses['date'] > '2014-01-01', 'house_age'] = 'new_house'\n",
    "datahouses.loc[datahouses['date'] < '2014-01-01', 'house_age'] = 'old_house'"
   ]
  },
  {
   "cell_type": "code",
   "execution_count": 113,
   "id": "5ea24b0b",
   "metadata": {},
   "outputs": [
    {
     "ename": "SyntaxError",
     "evalue": "invalid syntax (Temp/ipykernel_11688/244998344.py, line 3)",
     "output_type": "error",
     "traceback": [
      "\u001b[1;36m  File \u001b[1;32m\"C:\\Users\\uhlmannw\\AppData\\Local\\Temp/ipykernel_11688/244998344.py\"\u001b[1;36m, line \u001b[1;32m3\u001b[0m\n\u001b[1;33m    datahouses['house_age'] = datahouses['date'].apply(lambda x: 'new_house' if x > pd.to_datetime('2014-01-01, format='%Y-%m-%d)\u001b[0m\n\u001b[1;37m                                                                                                                           ^\u001b[0m\n\u001b[1;31mSyntaxError\u001b[0m\u001b[1;31m:\u001b[0m invalid syntax\n"
     ]
    }
   ],
   "source": [
    "# Segunda forma de fazer e convertendo tipo de dados\n",
    "datahouses['date'] = pd.to_datetime(datahouses['date'], format='%Y-%m-%d')\n",
    "datahouses['house_age'] = datahouses['date'].apply(lambda x: 'new_house' if x > pd.to_datetime('2014-01-01, format='%Y-%m-%d)"
   ]
  },
  {
   "cell_type": "code",
   "execution_count": 114,
   "id": "68eb2cc1",
   "metadata": {
    "ExecuteTime": {
     "end_time": "2021-10-27T01:47:02.570145Z",
     "start_time": "2021-10-27T01:47:02.520460Z"
    }
   },
   "outputs": [
    {
     "data": {
      "text/plain": [
       "<bound method NDFrame.head of                id       date     price  bedrooms  bathrooms  sqft_living  \\\n",
       "0      7129300520 2014-10-13  221900.0         3       1.00         1180   \n",
       "1      6414100192 2014-12-09  538000.0         3       2.25         2570   \n",
       "2      5631500400 2015-02-25  180000.0         2       1.00          770   \n",
       "3      2487200875 2014-12-09  604000.0         4       3.00         1960   \n",
       "4      1954400510 2015-02-18  510000.0         3       2.00         1680   \n",
       "...           ...        ...       ...       ...        ...          ...   \n",
       "21608   263000018 2014-05-21  360000.0         3       2.50         1530   \n",
       "21609  6600060120 2015-02-23  400000.0         4       2.50         2310   \n",
       "21610  1523300141 2014-06-23  402101.0         2       0.75         1020   \n",
       "21611   291310100 2015-01-16  400000.0         3       2.50         1600   \n",
       "21612  1523300157 2014-10-15  325000.0         2       0.75         1020   \n",
       "\n",
       "       sqft_lot  floors  waterfront  view  ...  sqft_above  sqft_basement  \\\n",
       "0          5650     1.0           0     0  ...        1180              0   \n",
       "1          7242     2.0           0     0  ...        2170            400   \n",
       "2         10000     1.0           0     0  ...         770              0   \n",
       "3          5000     1.0           0     0  ...        1050            910   \n",
       "4          8080     1.0           0     0  ...        1680              0   \n",
       "...         ...     ...         ...   ...  ...         ...            ...   \n",
       "21608      1131     3.0           0     0  ...        1530              0   \n",
       "21609      5813     2.0           0     0  ...        2310              0   \n",
       "21610      1350     2.0           0     0  ...        1020              0   \n",
       "21611      2388     2.0           0     0  ...        1600              0   \n",
       "21612      1076     2.0           0     0  ...        1020              0   \n",
       "\n",
       "       yr_built  yr_renovated  zipcode      lat     long  sqft_living15  \\\n",
       "0          1955             0    98178  47.5112 -122.257           1340   \n",
       "1          1951          1991    98125  47.7210 -122.319           1690   \n",
       "2          1933             0    98028  47.7379 -122.233           2720   \n",
       "3          1965             0    98136  47.5208 -122.393           1360   \n",
       "4          1987             0    98074  47.6168 -122.045           1800   \n",
       "...         ...           ...      ...      ...      ...            ...   \n",
       "21608      2009             0    98103  47.6993 -122.346           1530   \n",
       "21609      2014             0    98146  47.5107 -122.362           1830   \n",
       "21610      2009             0    98144  47.5944 -122.299           1020   \n",
       "21611      2004             0    98027  47.5345 -122.069           1410   \n",
       "21612      2008             0    98144  47.5941 -122.299           1020   \n",
       "\n",
       "       sqft_lot15  house_age  \n",
       "0            5650  new_house  \n",
       "1            7639  new_house  \n",
       "2            8062  new_house  \n",
       "3            5000  new_house  \n",
       "4            7503  new_house  \n",
       "...           ...        ...  \n",
       "21608        1509  new_house  \n",
       "21609        7200  new_house  \n",
       "21610        2007  new_house  \n",
       "21611        1287  new_house  \n",
       "21612        1357  new_house  \n",
       "\n",
       "[21613 rows x 22 columns]>"
      ]
     },
     "execution_count": 114,
     "metadata": {},
     "output_type": "execute_result"
    }
   ],
   "source": [
    "datahouses.head"
   ]
  },
  {
   "cell_type": "markdown",
   "id": "de4bcf61",
   "metadata": {},
   "source": [
    "#### 2 - Crie uma nova coluna chamada: “dormitory_type”\n",
    "\n",
    "###### Se o valor da coluna “bedrooms” for igual à 1 => ‘studio’Se o valor da coluna “bedrooms” for igual a 2 => ‘apartament’Se o valor da coluna “bedrooms” for maior que 2 => ‘house’"
   ]
  },
  {
   "cell_type": "code",
   "execution_count": 115,
   "id": "e4be6619",
   "metadata": {},
   "outputs": [],
   "source": [
    "datahouses['dormitory_type'] = 'NA'"
   ]
  },
  {
   "cell_type": "code",
   "execution_count": 116,
   "id": "e0785bbd",
   "metadata": {},
   "outputs": [],
   "source": [
    "datahouses.loc[datahouses['bedrooms'] == 1, 'dormitory_type'] = 'studio'\n",
    "datahouses.loc[datahouses['bedrooms'] == 2, 'dormitory_type'] = 'apartament'\n",
    "datahouses.loc[datahouses['bedrooms'] >= 3, 'dormitory_type'] = 'house'"
   ]
  },
  {
   "cell_type": "code",
   "execution_count": 117,
   "id": "f560f1ee",
   "metadata": {},
   "outputs": [
    {
     "data": {
      "text/plain": [
       "<bound method NDFrame.head of                id       date     price  bedrooms  bathrooms  sqft_living  \\\n",
       "0      7129300520 2014-10-13  221900.0         3       1.00         1180   \n",
       "1      6414100192 2014-12-09  538000.0         3       2.25         2570   \n",
       "2      5631500400 2015-02-25  180000.0         2       1.00          770   \n",
       "3      2487200875 2014-12-09  604000.0         4       3.00         1960   \n",
       "4      1954400510 2015-02-18  510000.0         3       2.00         1680   \n",
       "...           ...        ...       ...       ...        ...          ...   \n",
       "21608   263000018 2014-05-21  360000.0         3       2.50         1530   \n",
       "21609  6600060120 2015-02-23  400000.0         4       2.50         2310   \n",
       "21610  1523300141 2014-06-23  402101.0         2       0.75         1020   \n",
       "21611   291310100 2015-01-16  400000.0         3       2.50         1600   \n",
       "21612  1523300157 2014-10-15  325000.0         2       0.75         1020   \n",
       "\n",
       "       sqft_lot  floors  waterfront  view  ...  sqft_basement  yr_built  \\\n",
       "0          5650     1.0           0     0  ...              0      1955   \n",
       "1          7242     2.0           0     0  ...            400      1951   \n",
       "2         10000     1.0           0     0  ...              0      1933   \n",
       "3          5000     1.0           0     0  ...            910      1965   \n",
       "4          8080     1.0           0     0  ...              0      1987   \n",
       "...         ...     ...         ...   ...  ...            ...       ...   \n",
       "21608      1131     3.0           0     0  ...              0      2009   \n",
       "21609      5813     2.0           0     0  ...              0      2014   \n",
       "21610      1350     2.0           0     0  ...              0      2009   \n",
       "21611      2388     2.0           0     0  ...              0      2004   \n",
       "21612      1076     2.0           0     0  ...              0      2008   \n",
       "\n",
       "       yr_renovated  zipcode      lat     long  sqft_living15  sqft_lot15  \\\n",
       "0                 0    98178  47.5112 -122.257           1340        5650   \n",
       "1              1991    98125  47.7210 -122.319           1690        7639   \n",
       "2                 0    98028  47.7379 -122.233           2720        8062   \n",
       "3                 0    98136  47.5208 -122.393           1360        5000   \n",
       "4                 0    98074  47.6168 -122.045           1800        7503   \n",
       "...             ...      ...      ...      ...            ...         ...   \n",
       "21608             0    98103  47.6993 -122.346           1530        1509   \n",
       "21609             0    98146  47.5107 -122.362           1830        7200   \n",
       "21610             0    98144  47.5944 -122.299           1020        2007   \n",
       "21611             0    98027  47.5345 -122.069           1410        1287   \n",
       "21612             0    98144  47.5941 -122.299           1020        1357   \n",
       "\n",
       "       house_age  dormitory_type  \n",
       "0      new_house           house  \n",
       "1      new_house           house  \n",
       "2      new_house      apartament  \n",
       "3      new_house           house  \n",
       "4      new_house           house  \n",
       "...          ...             ...  \n",
       "21608  new_house           house  \n",
       "21609  new_house           house  \n",
       "21610  new_house      apartament  \n",
       "21611  new_house           house  \n",
       "21612  new_house      apartament  \n",
       "\n",
       "[21613 rows x 23 columns]>"
      ]
     },
     "execution_count": 117,
     "metadata": {},
     "output_type": "execute_result"
    }
   ],
   "source": [
    "datahouses.head"
   ]
  },
  {
   "cell_type": "markdown",
   "id": "79f72f96",
   "metadata": {},
   "source": [
    "#### 3 - Crie uma nova coluna chamada: “condition_type”\n",
    "\n",
    "###### Se o valor da coluna “condition” for menor ou igual à 2 => ‘bad’Se o valor da coluna “condition” for igual à 3 ou 4 => ‘regular’Se o valor da coluna “condition” for igual à 5 => ‘good’"
   ]
  },
  {
   "cell_type": "code",
   "execution_count": 118,
   "id": "ad757593",
   "metadata": {},
   "outputs": [],
   "source": [
    "datahouses['conditional_type'] = 'NA'"
   ]
  },
  {
   "cell_type": "code",
   "execution_count": 119,
   "id": "c01d20c3",
   "metadata": {},
   "outputs": [
    {
     "name": "stdout",
     "output_type": "stream",
     "text": [
      "0        3\n",
      "1        3\n",
      "2        3\n",
      "3        5\n",
      "4        3\n",
      "        ..\n",
      "21608    3\n",
      "21609    3\n",
      "21610    3\n",
      "21611    3\n",
      "21612    3\n",
      "Name: condition, Length: 21613, dtype: int64\n"
     ]
    }
   ],
   "source": [
    "dh = datahouses['condition']\n",
    "print(dh)"
   ]
  },
  {
   "cell_type": "code",
   "execution_count": 131,
   "id": "7ded571b",
   "metadata": {},
   "outputs": [],
   "source": [
    "# Está com algum bug, verificar depois\n",
    "datahouses.loc[datahouses['condition'] <= 2, 'conditional_type'] = 'bad'\n",
    "datahouses.loc[datahouses['condition'] == 3 | 4, 'conditional_type'] = 'regular'\n",
    "datahouses.loc[datahouses['condition'] >= 5, 'conditional_type'] = 'good'"
   ]
  },
  {
   "cell_type": "markdown",
   "id": "c1ebfe2b",
   "metadata": {},
   "source": [
    "###### Outra forma\n",
    "###### Em casos de dataframes maiores, é valido testar qual performa com mais desempenho"
   ]
  },
  {
   "cell_type": "code",
   "execution_count": 133,
   "id": "6b6594f3",
   "metadata": {},
   "outputs": [],
   "source": [
    "datahouses['condition'] = datahouses['condition'].astype( int )\n",
    "datahouses['conditional_type'] = datahouses['condition'].apply( lambda x: 'bad' if x <= 2 else 'regular' if (x == 3) | (x == 4) else 'good' )"
   ]
  },
  {
   "cell_type": "code",
   "execution_count": 134,
   "id": "2f1e6ccd",
   "metadata": {},
   "outputs": [
    {
     "name": "stdout",
     "output_type": "stream",
     "text": [
      "0        regular\n",
      "1        regular\n",
      "2        regular\n",
      "3           good\n",
      "4        regular\n",
      "          ...   \n",
      "21608    regular\n",
      "21609    regular\n",
      "21610    regular\n",
      "21611    regular\n",
      "21612    regular\n",
      "Name: conditional_type, Length: 21613, dtype: object\n"
     ]
    }
   ],
   "source": [
    "dh = datahouses['conditional_type']\n",
    "print(dh)"
   ]
  },
  {
   "cell_type": "code",
   "execution_count": 135,
   "id": "69f5f062",
   "metadata": {},
   "outputs": [
    {
     "data": {
      "text/plain": [
       "<bound method NDFrame.head of                id       date     price  bedrooms  bathrooms  sqft_living  \\\n",
       "0      7129300520 2014-10-13  221900.0         3       1.00         1180   \n",
       "1      6414100192 2014-12-09  538000.0         3       2.25         2570   \n",
       "2      5631500400 2015-02-25  180000.0         2       1.00          770   \n",
       "3      2487200875 2014-12-09  604000.0         4       3.00         1960   \n",
       "4      1954400510 2015-02-18  510000.0         3       2.00         1680   \n",
       "...           ...        ...       ...       ...        ...          ...   \n",
       "21608   263000018 2014-05-21  360000.0         3       2.50         1530   \n",
       "21609  6600060120 2015-02-23  400000.0         4       2.50         2310   \n",
       "21610  1523300141 2014-06-23  402101.0         2       0.75         1020   \n",
       "21611   291310100 2015-01-16  400000.0         3       2.50         1600   \n",
       "21612  1523300157 2014-10-15  325000.0         2       0.75         1020   \n",
       "\n",
       "       sqft_lot  floors  waterfront  view  ...  yr_built  yr_renovated  \\\n",
       "0          5650     1.0           0     0  ...      1955             0   \n",
       "1          7242     2.0           0     0  ...      1951          1991   \n",
       "2         10000     1.0           0     0  ...      1933             0   \n",
       "3          5000     1.0           0     0  ...      1965             0   \n",
       "4          8080     1.0           0     0  ...      1987             0   \n",
       "...         ...     ...         ...   ...  ...       ...           ...   \n",
       "21608      1131     3.0           0     0  ...      2009             0   \n",
       "21609      5813     2.0           0     0  ...      2014             0   \n",
       "21610      1350     2.0           0     0  ...      2009             0   \n",
       "21611      2388     2.0           0     0  ...      2004             0   \n",
       "21612      1076     2.0           0     0  ...      2008             0   \n",
       "\n",
       "       zipcode      lat     long  sqft_living15  sqft_lot15  house_age  \\\n",
       "0        98178  47.5112 -122.257           1340        5650  new_house   \n",
       "1        98125  47.7210 -122.319           1690        7639  new_house   \n",
       "2        98028  47.7379 -122.233           2720        8062  new_house   \n",
       "3        98136  47.5208 -122.393           1360        5000  new_house   \n",
       "4        98074  47.6168 -122.045           1800        7503  new_house   \n",
       "...        ...      ...      ...            ...         ...        ...   \n",
       "21608    98103  47.6993 -122.346           1530        1509  new_house   \n",
       "21609    98146  47.5107 -122.362           1830        7200  new_house   \n",
       "21610    98144  47.5944 -122.299           1020        2007  new_house   \n",
       "21611    98027  47.5345 -122.069           1410        1287  new_house   \n",
       "21612    98144  47.5941 -122.299           1020        1357  new_house   \n",
       "\n",
       "       dormitory_type  conditional_type  \n",
       "0               house           regular  \n",
       "1               house           regular  \n",
       "2          apartament           regular  \n",
       "3               house              good  \n",
       "4               house           regular  \n",
       "...               ...               ...  \n",
       "21608           house           regular  \n",
       "21609           house           regular  \n",
       "21610      apartament           regular  \n",
       "21611           house           regular  \n",
       "21612      apartament           regular  \n",
       "\n",
       "[21613 rows x 24 columns]>"
      ]
     },
     "execution_count": 135,
     "metadata": {},
     "output_type": "execute_result"
    }
   ],
   "source": [
    "datahouses.head"
   ]
  },
  {
   "cell_type": "markdown",
   "id": "15832788",
   "metadata": {},
   "source": [
    "#### 4 - Modifique o TIPO a Coluna “condition” para STRING\n"
   ]
  },
  {
   "cell_type": "code",
   "execution_count": 147,
   "id": "0f310908",
   "metadata": {},
   "outputs": [],
   "source": [
    "datahouses['condition'] = datahouses['condition'].astype( str )\n",
    "dfcond = datahouses['condition']"
   ]
  },
  {
   "cell_type": "code",
   "execution_count": 148,
   "id": "5c2c7979",
   "metadata": {},
   "outputs": [
    {
     "data": {
      "text/plain": [
       "id                           int64\n",
       "date                datetime64[ns]\n",
       "price                      float64\n",
       "bedrooms                     int64\n",
       "bathrooms                  float64\n",
       "sqft_living                  int64\n",
       "sqft_lot                     int64\n",
       "floors                     float64\n",
       "waterfront                   int64\n",
       "view                         int64\n",
       "condition                   object\n",
       "grade                        int64\n",
       "sqft_above                   int64\n",
       "sqft_basement                int64\n",
       "yr_built                     int64\n",
       "yr_renovated                 int64\n",
       "zipcode                      int64\n",
       "lat                        float64\n",
       "long                       float64\n",
       "sqft_living15                int64\n",
       "sqft_lot15                   int64\n",
       "house_age                   object\n",
       "dormitory_type              object\n",
       "conditional_type            object\n",
       "dtype: object"
      ]
     },
     "execution_count": 148,
     "metadata": {},
     "output_type": "execute_result"
    }
   ],
   "source": [
    "datahouses.dtypes"
   ]
  },
  {
   "cell_type": "code",
   "execution_count": 149,
   "id": "566235f0",
   "metadata": {},
   "outputs": [
    {
     "data": {
      "text/plain": [
       "pandas.core.series.Series"
      ]
     },
     "execution_count": 149,
     "metadata": {},
     "output_type": "execute_result"
    }
   ],
   "source": [
    "type(dfcond)"
   ]
  },
  {
   "cell_type": "markdown",
   "id": "019e563f",
   "metadata": {},
   "source": [
    "#### 5 - Delete as colunas: “sqft_living15” e “sqft_lot15”\n"
   ]
  },
  {
   "cell_type": "code",
   "execution_count": 258,
   "id": "3d3da900",
   "metadata": {},
   "outputs": [],
   "source": [
    "datahouses = datahouses.drop(['sqft_living15', 'sqft_lot15'], axis=1)"
   ]
  },
  {
   "cell_type": "code",
   "execution_count": null,
   "id": "f67fd661",
   "metadata": {},
   "outputs": [],
   "source": []
  },
  {
   "cell_type": "code",
   "execution_count": null,
   "id": "413f809f",
   "metadata": {},
   "outputs": [],
   "source": []
  },
  {
   "cell_type": "markdown",
   "id": "4e92b1a9",
   "metadata": {},
   "source": [
    "#### 6 - Modifique o TIPO a Coluna “yr_build” para DATE\n"
   ]
  },
  {
   "cell_type": "code",
   "execution_count": 259,
   "id": "35f8c086",
   "metadata": {},
   "outputs": [
    {
     "data": {
      "text/plain": [
       "id                           int64\n",
       "date                datetime64[ns]\n",
       "price                      float64\n",
       "bedrooms                     int64\n",
       "bathrooms                  float64\n",
       "sqft_living                  int64\n",
       "sqft_lot                     int64\n",
       "floors                     float64\n",
       "waterfront                   int64\n",
       "view                         int64\n",
       "condition                   object\n",
       "grade                        int64\n",
       "sqft_above                   int64\n",
       "sqft_basement                int64\n",
       "yr_built            datetime64[ns]\n",
       "yr_renovated        datetime64[ns]\n",
       "zipcode                      int64\n",
       "lat                        float64\n",
       "long                       float64\n",
       "house_age                   object\n",
       "dormitory_type              object\n",
       "conditional_type            object\n",
       "dtype: object"
      ]
     },
     "execution_count": 259,
     "metadata": {},
     "output_type": "execute_result"
    }
   ],
   "source": [
    "datahouses.dtypes"
   ]
  },
  {
   "cell_type": "code",
   "execution_count": 152,
   "id": "f92cbe2c",
   "metadata": {},
   "outputs": [],
   "source": [
    "datahouses['yr_built'] = pd.to_datetime( datahouses['yr_built'], format='%Y-%m-%d' )"
   ]
  },
  {
   "cell_type": "code",
   "execution_count": 153,
   "id": "d56e3771",
   "metadata": {},
   "outputs": [
    {
     "data": {
      "text/plain": [
       "id                           int64\n",
       "date                datetime64[ns]\n",
       "price                      float64\n",
       "bedrooms                     int64\n",
       "bathrooms                  float64\n",
       "sqft_living                  int64\n",
       "sqft_lot                     int64\n",
       "floors                     float64\n",
       "waterfront                   int64\n",
       "view                         int64\n",
       "condition                   object\n",
       "grade                        int64\n",
       "sqft_above                   int64\n",
       "sqft_basement                int64\n",
       "yr_built            datetime64[ns]\n",
       "yr_renovated                 int64\n",
       "zipcode                      int64\n",
       "lat                        float64\n",
       "long                       float64\n",
       "sqft_living15                int64\n",
       "sqft_lot15                   int64\n",
       "house_age                   object\n",
       "dormitory_type              object\n",
       "conditional_type            object\n",
       "dtype: object"
      ]
     },
     "execution_count": 153,
     "metadata": {},
     "output_type": "execute_result"
    }
   ],
   "source": [
    "datahouses.dtypes"
   ]
  },
  {
   "cell_type": "markdown",
   "id": "d0e908f7",
   "metadata": {},
   "source": [
    "#### 7 - Modifique o TIPO a Coluna “yr_renovated” para DATE\n"
   ]
  },
  {
   "cell_type": "code",
   "execution_count": 154,
   "id": "18c45c31",
   "metadata": {},
   "outputs": [
    {
     "data": {
      "text/plain": [
       "id                           int64\n",
       "date                datetime64[ns]\n",
       "price                      float64\n",
       "bedrooms                     int64\n",
       "bathrooms                  float64\n",
       "sqft_living                  int64\n",
       "sqft_lot                     int64\n",
       "floors                     float64\n",
       "waterfront                   int64\n",
       "view                         int64\n",
       "condition                   object\n",
       "grade                        int64\n",
       "sqft_above                   int64\n",
       "sqft_basement                int64\n",
       "yr_built            datetime64[ns]\n",
       "yr_renovated                 int64\n",
       "zipcode                      int64\n",
       "lat                        float64\n",
       "long                       float64\n",
       "sqft_living15                int64\n",
       "sqft_lot15                   int64\n",
       "house_age                   object\n",
       "dormitory_type              object\n",
       "conditional_type            object\n",
       "dtype: object"
      ]
     },
     "execution_count": 154,
     "metadata": {},
     "output_type": "execute_result"
    }
   ],
   "source": [
    "datahouses.dtypes"
   ]
  },
  {
   "cell_type": "code",
   "execution_count": 285,
   "id": "6cf1e065",
   "metadata": {},
   "outputs": [],
   "source": [
    "# pode variar em versoes do python a conversão dessa forma, apresentando um erro na hora de conversão pois existem campos com valor diferente\n",
    "# No caso dessa versão do python ele já esta jogando campos diferentes para a data default 1970-01-01 00:00:00.000000000\n",
    "datahouses['yr_renovated'] = pd.to_datetime( datahouses['yr_renovated'], format='%Y-%m-%d' )"
   ]
  },
  {
   "cell_type": "code",
   "execution_count": 287,
   "id": "1720d566",
   "metadata": {},
   "outputs": [
    {
     "data": {
      "text/html": [
       "<div>\n",
       "<style scoped>\n",
       "    .dataframe tbody tr th:only-of-type {\n",
       "        vertical-align: middle;\n",
       "    }\n",
       "\n",
       "    .dataframe tbody tr th {\n",
       "        vertical-align: top;\n",
       "    }\n",
       "\n",
       "    .dataframe thead th {\n",
       "        text-align: right;\n",
       "    }\n",
       "</style>\n",
       "<table border=\"1\" class=\"dataframe\">\n",
       "  <thead>\n",
       "    <tr style=\"text-align: right;\">\n",
       "      <th></th>\n",
       "      <th>yr_renovated</th>\n",
       "    </tr>\n",
       "  </thead>\n",
       "  <tbody>\n",
       "    <tr>\n",
       "      <th>0</th>\n",
       "      <td>1970-01-01 00:00:00.000000000</td>\n",
       "    </tr>\n",
       "    <tr>\n",
       "      <th>1</th>\n",
       "      <td>1970-01-01 00:00:00.000001991</td>\n",
       "    </tr>\n",
       "    <tr>\n",
       "      <th>2</th>\n",
       "      <td>1970-01-01 00:00:00.000000000</td>\n",
       "    </tr>\n",
       "    <tr>\n",
       "      <th>3</th>\n",
       "      <td>1970-01-01 00:00:00.000000000</td>\n",
       "    </tr>\n",
       "    <tr>\n",
       "      <th>4</th>\n",
       "      <td>1970-01-01 00:00:00.000000000</td>\n",
       "    </tr>\n",
       "    <tr>\n",
       "      <th>5</th>\n",
       "      <td>1970-01-01 00:00:00.000000000</td>\n",
       "    </tr>\n",
       "    <tr>\n",
       "      <th>6</th>\n",
       "      <td>1970-01-01 00:00:00.000000000</td>\n",
       "    </tr>\n",
       "    <tr>\n",
       "      <th>7</th>\n",
       "      <td>1970-01-01 00:00:00.000000000</td>\n",
       "    </tr>\n",
       "    <tr>\n",
       "      <th>8</th>\n",
       "      <td>1970-01-01 00:00:00.000000000</td>\n",
       "    </tr>\n",
       "    <tr>\n",
       "      <th>9</th>\n",
       "      <td>1970-01-01 00:00:00.000000000</td>\n",
       "    </tr>\n",
       "  </tbody>\n",
       "</table>\n",
       "</div>"
      ],
      "text/plain": [
       "                   yr_renovated\n",
       "0 1970-01-01 00:00:00.000000000\n",
       "1 1970-01-01 00:00:00.000001991\n",
       "2 1970-01-01 00:00:00.000000000\n",
       "3 1970-01-01 00:00:00.000000000\n",
       "4 1970-01-01 00:00:00.000000000\n",
       "5 1970-01-01 00:00:00.000000000\n",
       "6 1970-01-01 00:00:00.000000000\n",
       "7 1970-01-01 00:00:00.000000000\n",
       "8 1970-01-01 00:00:00.000000000\n",
       "9 1970-01-01 00:00:00.000000000"
      ]
     },
     "execution_count": 287,
     "metadata": {},
     "output_type": "execute_result"
    }
   ],
   "source": [
    "datahouses[['yr_renovated']].head(10)"
   ]
  },
  {
   "cell_type": "code",
   "execution_count": 291,
   "id": "0fab1927",
   "metadata": {},
   "outputs": [],
   "source": [
    "## Está é uma boa forma de fazer a conversão para campos com valores diferentes de data\n",
    "datahouses['yr_renovated'] = datahouses['yr_renovated'].apply(lambda x: pd.to_datetime('1970-01-01', format='%Y-%m-%d') if x== 0 else \n",
    "                                                  pd.to_datetime(x, format='%Y-%m-%d') )"
   ]
  },
  {
   "cell_type": "code",
   "execution_count": 290,
   "id": "b7bafe99",
   "metadata": {},
   "outputs": [
    {
     "data": {
      "text/html": [
       "<div>\n",
       "<style scoped>\n",
       "    .dataframe tbody tr th:only-of-type {\n",
       "        vertical-align: middle;\n",
       "    }\n",
       "\n",
       "    .dataframe tbody tr th {\n",
       "        vertical-align: top;\n",
       "    }\n",
       "\n",
       "    .dataframe thead th {\n",
       "        text-align: right;\n",
       "    }\n",
       "</style>\n",
       "<table border=\"1\" class=\"dataframe\">\n",
       "  <thead>\n",
       "    <tr style=\"text-align: right;\">\n",
       "      <th></th>\n",
       "      <th>yr_renovated</th>\n",
       "    </tr>\n",
       "  </thead>\n",
       "  <tbody>\n",
       "    <tr>\n",
       "      <th>0</th>\n",
       "      <td>1970-01-01 00:00:00.000000000</td>\n",
       "    </tr>\n",
       "    <tr>\n",
       "      <th>1</th>\n",
       "      <td>1970-01-01 00:00:00.000001991</td>\n",
       "    </tr>\n",
       "    <tr>\n",
       "      <th>2</th>\n",
       "      <td>1970-01-01 00:00:00.000000000</td>\n",
       "    </tr>\n",
       "    <tr>\n",
       "      <th>3</th>\n",
       "      <td>1970-01-01 00:00:00.000000000</td>\n",
       "    </tr>\n",
       "    <tr>\n",
       "      <th>4</th>\n",
       "      <td>1970-01-01 00:00:00.000000000</td>\n",
       "    </tr>\n",
       "    <tr>\n",
       "      <th>5</th>\n",
       "      <td>1970-01-01 00:00:00.000000000</td>\n",
       "    </tr>\n",
       "    <tr>\n",
       "      <th>6</th>\n",
       "      <td>1970-01-01 00:00:00.000000000</td>\n",
       "    </tr>\n",
       "    <tr>\n",
       "      <th>7</th>\n",
       "      <td>1970-01-01 00:00:00.000000000</td>\n",
       "    </tr>\n",
       "    <tr>\n",
       "      <th>8</th>\n",
       "      <td>1970-01-01 00:00:00.000000000</td>\n",
       "    </tr>\n",
       "    <tr>\n",
       "      <th>9</th>\n",
       "      <td>1970-01-01 00:00:00.000000000</td>\n",
       "    </tr>\n",
       "  </tbody>\n",
       "</table>\n",
       "</div>"
      ],
      "text/plain": [
       "                   yr_renovated\n",
       "0 1970-01-01 00:00:00.000000000\n",
       "1 1970-01-01 00:00:00.000001991\n",
       "2 1970-01-01 00:00:00.000000000\n",
       "3 1970-01-01 00:00:00.000000000\n",
       "4 1970-01-01 00:00:00.000000000\n",
       "5 1970-01-01 00:00:00.000000000\n",
       "6 1970-01-01 00:00:00.000000000\n",
       "7 1970-01-01 00:00:00.000000000\n",
       "8 1970-01-01 00:00:00.000000000\n",
       "9 1970-01-01 00:00:00.000000000"
      ]
     },
     "execution_count": 290,
     "metadata": {},
     "output_type": "execute_result"
    }
   ],
   "source": [
    "datahouses[['yr_renovated']].head(10)"
   ]
  },
  {
   "cell_type": "code",
   "execution_count": 289,
   "id": "83da847c",
   "metadata": {},
   "outputs": [
    {
     "data": {
      "text/plain": [
       "id                           int64\n",
       "date                datetime64[ns]\n",
       "price                      float64\n",
       "bedrooms                     int64\n",
       "bathrooms                  float64\n",
       "sqft_living                  int64\n",
       "sqft_lot                     int64\n",
       "floors                     float64\n",
       "waterfront                   int64\n",
       "view                         int64\n",
       "condition                   object\n",
       "grade                        int64\n",
       "sqft_above                   int64\n",
       "sqft_basement                int64\n",
       "yr_built            datetime64[ns]\n",
       "yr_renovated        datetime64[ns]\n",
       "zipcode                      int64\n",
       "lat                        float64\n",
       "long                       float64\n",
       "house_age                   object\n",
       "dormitory_type              object\n",
       "conditional_type            object\n",
       "dtype: object"
      ]
     },
     "execution_count": 289,
     "metadata": {},
     "output_type": "execute_result"
    }
   ],
   "source": [
    "datahouses.dtypes"
   ]
  },
  {
   "cell_type": "markdown",
   "id": "0757e658",
   "metadata": {},
   "source": [
    "#### 8 - Qual a data mais antiga de construção de um imóvel?"
   ]
  },
  {
   "cell_type": "code",
   "execution_count": 166,
   "id": "985b649f",
   "metadata": {},
   "outputs": [
    {
     "name": "stdout",
     "output_type": "stream",
     "text": [
      "A data de construção mais antiga é: 1970-01-01 00:00:00.000001955\n"
     ]
    }
   ],
   "source": [
    "old_data = datahouses[['id', 'yr_built']].sort_values( 'yr_built', ascending=False ).loc[0,'yr_built']\n",
    "print( 'A data de construção mais antiga é: {}'.format( old_data ) )"
   ]
  },
  {
   "cell_type": "code",
   "execution_count": 167,
   "id": "43b49ee2",
   "metadata": {},
   "outputs": [
    {
     "name": "stdout",
     "output_type": "stream",
     "text": [
      "0       1970-01-01 00:00:00.000001955\n",
      "1       1970-01-01 00:00:00.000001951\n",
      "2       1970-01-01 00:00:00.000001933\n",
      "3       1970-01-01 00:00:00.000001965\n",
      "4       1970-01-01 00:00:00.000001987\n",
      "                     ...             \n",
      "21608   1970-01-01 00:00:00.000002009\n",
      "21609   1970-01-01 00:00:00.000002014\n",
      "21610   1970-01-01 00:00:00.000002009\n",
      "21611   1970-01-01 00:00:00.000002004\n",
      "21612   1970-01-01 00:00:00.000002008\n",
      "Name: yr_built, Length: 21613, dtype: datetime64[ns]\n"
     ]
    }
   ],
   "source": [
    "df = datahouses['yr_built']\n",
    "print(df)"
   ]
  },
  {
   "cell_type": "markdown",
   "id": "0cf77302",
   "metadata": {},
   "source": [
    "#### Ou modo mais pythonico"
   ]
  },
  {
   "cell_type": "code",
   "execution_count": 296,
   "id": "2a92cb63",
   "metadata": {},
   "outputs": [
    {
     "data": {
      "text/plain": [
       "Timestamp('1970-01-01 00:00:00.000001900')"
      ]
     },
     "execution_count": 296,
     "metadata": {},
     "output_type": "execute_result"
    }
   ],
   "source": [
    "datahouses['yr_built'].min()"
   ]
  },
  {
   "cell_type": "markdown",
   "id": "d0c47417",
   "metadata": {},
   "source": [
    "#### 9 - Qual a data mais antiga de renovação de um imóvel?"
   ]
  },
  {
   "cell_type": "code",
   "execution_count": 168,
   "id": "33850631",
   "metadata": {},
   "outputs": [
    {
     "name": "stdout",
     "output_type": "stream",
     "text": [
      "A data de renovação mais antiga é: 1970-01-01 00:00:00\n"
     ]
    }
   ],
   "source": [
    "old_data = datahouses[['id', 'yr_renovated']].sort_values( 'yr_renovated', ascending=False ).loc[0,'yr_renovated']\n",
    "print( 'A data de renovação mais antiga é: {}'.format( old_data ) )"
   ]
  },
  {
   "cell_type": "code",
   "execution_count": 169,
   "id": "a04c621b",
   "metadata": {},
   "outputs": [
    {
     "name": "stdout",
     "output_type": "stream",
     "text": [
      "0       1970-01-01 00:00:00.000000000\n",
      "1       1970-01-01 00:00:00.000001991\n",
      "2       1970-01-01 00:00:00.000000000\n",
      "3       1970-01-01 00:00:00.000000000\n",
      "4       1970-01-01 00:00:00.000000000\n",
      "                     ...             \n",
      "21608   1970-01-01 00:00:00.000000000\n",
      "21609   1970-01-01 00:00:00.000000000\n",
      "21610   1970-01-01 00:00:00.000000000\n",
      "21611   1970-01-01 00:00:00.000000000\n",
      "21612   1970-01-01 00:00:00.000000000\n",
      "Name: yr_renovated, Length: 21613, dtype: datetime64[ns]\n"
     ]
    }
   ],
   "source": [
    "df = datahouses['yr_renovated']\n",
    "print(df)"
   ]
  },
  {
   "cell_type": "markdown",
   "id": "64e53095",
   "metadata": {},
   "source": [
    "#### Forma pythonica:"
   ]
  },
  {
   "cell_type": "code",
   "execution_count": 298,
   "id": "d6198c59",
   "metadata": {},
   "outputs": [
    {
     "data": {
      "text/plain": [
       "Timestamp('1970-01-01 00:00:00')"
      ]
     },
     "execution_count": 298,
     "metadata": {},
     "output_type": "execute_result"
    }
   ],
   "source": [
    "datahouses.loc[datahouses['yr_renovated'] > pd.to_datetime('1900-01-01', format='%Y-%m-%d'), 'yr_renovated'].min()"
   ]
  },
  {
   "cell_type": "markdown",
   "id": "f9012ed3",
   "metadata": {},
   "source": [
    "#### 10 - Quantos imóveis tem 2 andares?\n"
   ]
  },
  {
   "cell_type": "code",
   "execution_count": 173,
   "id": "2051eb9f",
   "metadata": {},
   "outputs": [
    {
     "data": {
      "text/plain": [
       "Index(['id', 'date', 'price', 'bedrooms', 'bathrooms', 'sqft_living',\n",
       "       'sqft_lot', 'floors', 'waterfront', 'view', 'condition', 'grade',\n",
       "       'sqft_above', 'sqft_basement', 'yr_built', 'yr_renovated', 'zipcode',\n",
       "       'lat', 'long', 'sqft_living15', 'sqft_lot15', 'house_age',\n",
       "       'dormitory_type', 'conditional_type'],\n",
       "      dtype='object')"
      ]
     },
     "execution_count": 173,
     "metadata": {},
     "output_type": "execute_result"
    }
   ],
   "source": [
    "datahouses.columns"
   ]
  },
  {
   "cell_type": "code",
   "execution_count": 178,
   "id": "d0cfe96a",
   "metadata": {},
   "outputs": [],
   "source": [
    "# no dataframe localizar quantos apartamentos existem com 2 andares sem mostrar indice\n",
    "df = datahouses.loc[datahouses['floors'] == 2, :]"
   ]
  },
  {
   "cell_type": "code",
   "execution_count": 179,
   "id": "31d79fc0",
   "metadata": {},
   "outputs": [
    {
     "name": "stdout",
     "output_type": "stream",
     "text": [
      "8241\n"
     ]
    }
   ],
   "source": [
    "print(len(df))"
   ]
  },
  {
   "cell_type": "markdown",
   "id": "682dfca4",
   "metadata": {},
   "source": [
    "# Pythonismo"
   ]
  },
  {
   "cell_type": "code",
   "execution_count": 300,
   "id": "768f4f45",
   "metadata": {},
   "outputs": [
    {
     "data": {
      "text/plain": [
       "8241"
      ]
     },
     "execution_count": 300,
     "metadata": {},
     "output_type": "execute_result"
    }
   ],
   "source": [
    "datahouses.loc[datahouses['floors'] == 2, 'id'].size"
   ]
  },
  {
   "cell_type": "markdown",
   "id": "48ef0f9e",
   "metadata": {},
   "source": [
    "#### 11 - Quantos imóveis estão com a condição igual a “regular” ?\n"
   ]
  },
  {
   "cell_type": "code",
   "execution_count": 190,
   "id": "a314f401",
   "metadata": {},
   "outputs": [],
   "source": [
    "df = datahouses.loc[datahouses['conditional_type'] == 'regular', :]"
   ]
  },
  {
   "cell_type": "code",
   "execution_count": 191,
   "id": "169d8ac8",
   "metadata": {},
   "outputs": [
    {
     "name": "stdout",
     "output_type": "stream",
     "text": [
      "19710\n"
     ]
    }
   ],
   "source": [
    "print(len(df))"
   ]
  },
  {
   "cell_type": "markdown",
   "id": "6dbd913e",
   "metadata": {},
   "source": [
    "#### Ou"
   ]
  },
  {
   "cell_type": "code",
   "execution_count": 302,
   "id": "e047448a",
   "metadata": {},
   "outputs": [
    {
     "data": {
      "text/plain": [
       "19710"
      ]
     },
     "execution_count": 302,
     "metadata": {},
     "output_type": "execute_result"
    }
   ],
   "source": [
    "datahouses.loc[datahouses['conditional_type'] == 'regular', 'id'].size"
   ]
  },
  {
   "cell_type": "markdown",
   "id": "1c6b1d76",
   "metadata": {},
   "source": [
    "#### 12 - Quantos imóveis estão com a condição igual a “bad”e possuem “vista para água” ?\n"
   ]
  },
  {
   "cell_type": "code",
   "execution_count": 304,
   "id": "47b19760",
   "metadata": {},
   "outputs": [],
   "source": [
    "df = datahouses.loc[(datahouses['conditional_type'] == 'bad') & (datahouses['waterfront'] == '1'), :]"
   ]
  },
  {
   "cell_type": "markdown",
   "id": "52d904b0",
   "metadata": {},
   "source": [
    "# Entender o porque está dando valor 0 em uma das formas"
   ]
  },
  {
   "cell_type": "code",
   "execution_count": 319,
   "id": "8757d225",
   "metadata": {},
   "outputs": [
    {
     "ename": "TypeError",
     "evalue": "object of type 'int' has no len()",
     "output_type": "error",
     "traceback": [
      "\u001b[1;31m---------------------------------------------------------------------------\u001b[0m",
      "\u001b[1;31mTypeError\u001b[0m                                 Traceback (most recent call last)",
      "\u001b[1;32m~\\AppData\\Local\\Temp/ipykernel_11688/3731849002.py\u001b[0m in \u001b[0;36m<module>\u001b[1;34m\u001b[0m\n\u001b[1;32m----> 1\u001b[1;33m \u001b[0mprint\u001b[0m\u001b[1;33m(\u001b[0m\u001b[0mlen\u001b[0m\u001b[1;33m(\u001b[0m\u001b[0mdf\u001b[0m\u001b[1;33m)\u001b[0m\u001b[1;33m)\u001b[0m\u001b[1;33m\u001b[0m\u001b[1;33m\u001b[0m\u001b[0m\n\u001b[0m",
      "\u001b[1;31mTypeError\u001b[0m: object of type 'int' has no len()"
     ]
    }
   ],
   "source": [
    "print(len(df)) "
   ]
  },
  {
   "cell_type": "markdown",
   "id": "b0d37569",
   "metadata": {},
   "source": [
    "#### Ou"
   ]
  },
  {
   "cell_type": "code",
   "execution_count": 320,
   "id": "6f6b69e3",
   "metadata": {},
   "outputs": [],
   "source": [
    "df = datahouses.loc[(datahouses['conditional_type'] == 'bad') & (datahouses['waterfront'] == 1), :].shape[0]"
   ]
  },
  {
   "cell_type": "code",
   "execution_count": 321,
   "id": "8325e738",
   "metadata": {},
   "outputs": [
    {
     "name": "stdout",
     "output_type": "stream",
     "text": [
      "2\n"
     ]
    }
   ],
   "source": [
    "print(df)"
   ]
  },
  {
   "cell_type": "code",
   "execution_count": 322,
   "id": "821ad929",
   "metadata": {},
   "outputs": [
    {
     "data": {
      "text/plain": [
       "2"
      ]
     },
     "execution_count": 322,
     "metadata": {},
     "output_type": "execute_result"
    }
   ],
   "source": [
    "datahouses.loc[(datahouses['conditional_type'] == 'bad') & (datahouses['waterfront'] == 1), 'id'].size"
   ]
  },
  {
   "cell_type": "markdown",
   "id": "349c80ab",
   "metadata": {},
   "source": [
    "#### 13 - Quantos imóveis estão com a condição igual a “good” e são “new_house”?\n"
   ]
  },
  {
   "cell_type": "code",
   "execution_count": 211,
   "id": "db445f16",
   "metadata": {},
   "outputs": [],
   "source": [
    "df = datahouses.loc[(datahouses['conditional_type'] == 'good') & (datahouses['house_age'] == 'new_house'), :].shape[0]"
   ]
  },
  {
   "cell_type": "code",
   "execution_count": 212,
   "id": "846c1630",
   "metadata": {},
   "outputs": [
    {
     "name": "stdout",
     "output_type": "stream",
     "text": [
      "1701\n"
     ]
    }
   ],
   "source": [
    "print(df)"
   ]
  },
  {
   "cell_type": "code",
   "execution_count": 323,
   "id": "1f6b5045",
   "metadata": {},
   "outputs": [
    {
     "data": {
      "text/plain": [
       "1701"
      ]
     },
     "execution_count": 323,
     "metadata": {},
     "output_type": "execute_result"
    }
   ],
   "source": [
    "datahouses.loc[(datahouses['conditional_type'] == 'good') & (datahouses['house_age'] == 'new_house'), 'id'].size"
   ]
  },
  {
   "cell_type": "markdown",
   "id": "8e258511",
   "metadata": {},
   "source": [
    "#### 14 - Qual o valor do imóvel mais caro do tipo “studio” ?"
   ]
  },
  {
   "cell_type": "code",
   "execution_count": 217,
   "id": "68bb664f",
   "metadata": {},
   "outputs": [
    {
     "data": {
      "text/html": [
       "<div>\n",
       "<style scoped>\n",
       "    .dataframe tbody tr th:only-of-type {\n",
       "        vertical-align: middle;\n",
       "    }\n",
       "\n",
       "    .dataframe tbody tr th {\n",
       "        vertical-align: top;\n",
       "    }\n",
       "\n",
       "    .dataframe thead th {\n",
       "        text-align: right;\n",
       "    }\n",
       "</style>\n",
       "<table border=\"1\" class=\"dataframe\">\n",
       "  <thead>\n",
       "    <tr style=\"text-align: right;\">\n",
       "      <th></th>\n",
       "      <th>id</th>\n",
       "      <th>date</th>\n",
       "      <th>price</th>\n",
       "      <th>bedrooms</th>\n",
       "      <th>bathrooms</th>\n",
       "      <th>sqft_living</th>\n",
       "      <th>sqft_lot</th>\n",
       "      <th>floors</th>\n",
       "      <th>waterfront</th>\n",
       "      <th>view</th>\n",
       "      <th>...</th>\n",
       "      <th>yr_built</th>\n",
       "      <th>yr_renovated</th>\n",
       "      <th>zipcode</th>\n",
       "      <th>lat</th>\n",
       "      <th>long</th>\n",
       "      <th>sqft_living15</th>\n",
       "      <th>sqft_lot15</th>\n",
       "      <th>house_age</th>\n",
       "      <th>dormitory_type</th>\n",
       "      <th>conditional_type</th>\n",
       "    </tr>\n",
       "  </thead>\n",
       "  <tbody>\n",
       "    <tr>\n",
       "      <th>0</th>\n",
       "      <td>7129300520</td>\n",
       "      <td>2014-10-13</td>\n",
       "      <td>221900.0</td>\n",
       "      <td>3</td>\n",
       "      <td>1.00</td>\n",
       "      <td>1180</td>\n",
       "      <td>5650</td>\n",
       "      <td>1.0</td>\n",
       "      <td>0</td>\n",
       "      <td>0</td>\n",
       "      <td>...</td>\n",
       "      <td>1970-01-01 00:00:00.000001955</td>\n",
       "      <td>1970-01-01 00:00:00.000000000</td>\n",
       "      <td>98178</td>\n",
       "      <td>47.5112</td>\n",
       "      <td>-122.257</td>\n",
       "      <td>1340</td>\n",
       "      <td>5650</td>\n",
       "      <td>new_house</td>\n",
       "      <td>house</td>\n",
       "      <td>regular</td>\n",
       "    </tr>\n",
       "    <tr>\n",
       "      <th>1</th>\n",
       "      <td>6414100192</td>\n",
       "      <td>2014-12-09</td>\n",
       "      <td>538000.0</td>\n",
       "      <td>3</td>\n",
       "      <td>2.25</td>\n",
       "      <td>2570</td>\n",
       "      <td>7242</td>\n",
       "      <td>2.0</td>\n",
       "      <td>0</td>\n",
       "      <td>0</td>\n",
       "      <td>...</td>\n",
       "      <td>1970-01-01 00:00:00.000001951</td>\n",
       "      <td>1970-01-01 00:00:00.000001991</td>\n",
       "      <td>98125</td>\n",
       "      <td>47.7210</td>\n",
       "      <td>-122.319</td>\n",
       "      <td>1690</td>\n",
       "      <td>7639</td>\n",
       "      <td>new_house</td>\n",
       "      <td>house</td>\n",
       "      <td>regular</td>\n",
       "    </tr>\n",
       "    <tr>\n",
       "      <th>2</th>\n",
       "      <td>5631500400</td>\n",
       "      <td>2015-02-25</td>\n",
       "      <td>180000.0</td>\n",
       "      <td>2</td>\n",
       "      <td>1.00</td>\n",
       "      <td>770</td>\n",
       "      <td>10000</td>\n",
       "      <td>1.0</td>\n",
       "      <td>0</td>\n",
       "      <td>0</td>\n",
       "      <td>...</td>\n",
       "      <td>1970-01-01 00:00:00.000001933</td>\n",
       "      <td>1970-01-01 00:00:00.000000000</td>\n",
       "      <td>98028</td>\n",
       "      <td>47.7379</td>\n",
       "      <td>-122.233</td>\n",
       "      <td>2720</td>\n",
       "      <td>8062</td>\n",
       "      <td>new_house</td>\n",
       "      <td>apartament</td>\n",
       "      <td>regular</td>\n",
       "    </tr>\n",
       "    <tr>\n",
       "      <th>3</th>\n",
       "      <td>2487200875</td>\n",
       "      <td>2014-12-09</td>\n",
       "      <td>604000.0</td>\n",
       "      <td>4</td>\n",
       "      <td>3.00</td>\n",
       "      <td>1960</td>\n",
       "      <td>5000</td>\n",
       "      <td>1.0</td>\n",
       "      <td>0</td>\n",
       "      <td>0</td>\n",
       "      <td>...</td>\n",
       "      <td>1970-01-01 00:00:00.000001965</td>\n",
       "      <td>1970-01-01 00:00:00.000000000</td>\n",
       "      <td>98136</td>\n",
       "      <td>47.5208</td>\n",
       "      <td>-122.393</td>\n",
       "      <td>1360</td>\n",
       "      <td>5000</td>\n",
       "      <td>new_house</td>\n",
       "      <td>house</td>\n",
       "      <td>good</td>\n",
       "    </tr>\n",
       "    <tr>\n",
       "      <th>4</th>\n",
       "      <td>1954400510</td>\n",
       "      <td>2015-02-18</td>\n",
       "      <td>510000.0</td>\n",
       "      <td>3</td>\n",
       "      <td>2.00</td>\n",
       "      <td>1680</td>\n",
       "      <td>8080</td>\n",
       "      <td>1.0</td>\n",
       "      <td>0</td>\n",
       "      <td>0</td>\n",
       "      <td>...</td>\n",
       "      <td>1970-01-01 00:00:00.000001987</td>\n",
       "      <td>1970-01-01 00:00:00.000000000</td>\n",
       "      <td>98074</td>\n",
       "      <td>47.6168</td>\n",
       "      <td>-122.045</td>\n",
       "      <td>1800</td>\n",
       "      <td>7503</td>\n",
       "      <td>new_house</td>\n",
       "      <td>house</td>\n",
       "      <td>regular</td>\n",
       "    </tr>\n",
       "  </tbody>\n",
       "</table>\n",
       "<p>5 rows × 24 columns</p>\n",
       "</div>"
      ],
      "text/plain": [
       "           id       date     price  bedrooms  bathrooms  sqft_living  \\\n",
       "0  7129300520 2014-10-13  221900.0         3       1.00         1180   \n",
       "1  6414100192 2014-12-09  538000.0         3       2.25         2570   \n",
       "2  5631500400 2015-02-25  180000.0         2       1.00          770   \n",
       "3  2487200875 2014-12-09  604000.0         4       3.00         1960   \n",
       "4  1954400510 2015-02-18  510000.0         3       2.00         1680   \n",
       "\n",
       "   sqft_lot  floors  waterfront  view  ...                      yr_built  \\\n",
       "0      5650     1.0           0     0  ... 1970-01-01 00:00:00.000001955   \n",
       "1      7242     2.0           0     0  ... 1970-01-01 00:00:00.000001951   \n",
       "2     10000     1.0           0     0  ... 1970-01-01 00:00:00.000001933   \n",
       "3      5000     1.0           0     0  ... 1970-01-01 00:00:00.000001965   \n",
       "4      8080     1.0           0     0  ... 1970-01-01 00:00:00.000001987   \n",
       "\n",
       "                   yr_renovated  zipcode      lat     long sqft_living15  \\\n",
       "0 1970-01-01 00:00:00.000000000    98178  47.5112 -122.257          1340   \n",
       "1 1970-01-01 00:00:00.000001991    98125  47.7210 -122.319          1690   \n",
       "2 1970-01-01 00:00:00.000000000    98028  47.7379 -122.233          2720   \n",
       "3 1970-01-01 00:00:00.000000000    98136  47.5208 -122.393          1360   \n",
       "4 1970-01-01 00:00:00.000000000    98074  47.6168 -122.045          1800   \n",
       "\n",
       "   sqft_lot15  house_age  dormitory_type  conditional_type  \n",
       "0        5650  new_house           house           regular  \n",
       "1        7639  new_house           house           regular  \n",
       "2        8062  new_house      apartament           regular  \n",
       "3        5000  new_house           house              good  \n",
       "4        7503  new_house           house           regular  \n",
       "\n",
       "[5 rows x 24 columns]"
      ]
     },
     "execution_count": 217,
     "metadata": {},
     "output_type": "execute_result"
    }
   ],
   "source": [
    "datahouses.head(5)"
   ]
  },
  {
   "cell_type": "code",
   "execution_count": 241,
   "id": "5e7ae5ab",
   "metadata": {},
   "outputs": [
    {
     "name": "stdout",
     "output_type": "stream",
     "text": [
      "199\n"
     ]
    }
   ],
   "source": [
    "datahouses2 = datahouses[['id','price','dormitory_type']]\n",
    "# Linha abaixo apenas para contar quantos existem.\n",
    "df_studio_price = datahouses2.loc[datahouses2['dormitory_type'] == 'studio', :].shape[0]\n",
    "# Linha abaixo apenas para fazer o print da coluna e ordenar do maior valor ao menor e também utilizar em uma diferente for\n",
    "# de busca.\n",
    "df_studio_price_all = datahouses2.loc[datahouses2['dormitory_type'] == 'studio', :]\n",
    "print(df_studio_price)"
   ]
  },
  {
   "cell_type": "code",
   "execution_count": 244,
   "id": "a121ec7b",
   "metadata": {},
   "outputs": [
    {
     "data": {
      "text/html": [
       "<div>\n",
       "<style scoped>\n",
       "    .dataframe tbody tr th:only-of-type {\n",
       "        vertical-align: middle;\n",
       "    }\n",
       "\n",
       "    .dataframe tbody tr th {\n",
       "        vertical-align: top;\n",
       "    }\n",
       "\n",
       "    .dataframe thead th {\n",
       "        text-align: right;\n",
       "    }\n",
       "</style>\n",
       "<table border=\"1\" class=\"dataframe\">\n",
       "  <thead>\n",
       "    <tr style=\"text-align: right;\">\n",
       "      <th></th>\n",
       "      <th>id</th>\n",
       "      <th>price</th>\n",
       "      <th>dormitory_type</th>\n",
       "    </tr>\n",
       "  </thead>\n",
       "  <tbody>\n",
       "    <tr>\n",
       "      <th>8445</th>\n",
       "      <td>724069023</td>\n",
       "      <td>1247000.0</td>\n",
       "      <td>studio</td>\n",
       "    </tr>\n",
       "    <tr>\n",
       "      <th>9888</th>\n",
       "      <td>1231000310</td>\n",
       "      <td>713000.0</td>\n",
       "      <td>studio</td>\n",
       "    </tr>\n",
       "    <tr>\n",
       "      <th>4410</th>\n",
       "      <td>4083304190</td>\n",
       "      <td>680000.0</td>\n",
       "      <td>studio</td>\n",
       "    </tr>\n",
       "    <tr>\n",
       "      <th>8165</th>\n",
       "      <td>1797500530</td>\n",
       "      <td>655100.0</td>\n",
       "      <td>studio</td>\n",
       "    </tr>\n",
       "    <tr>\n",
       "      <th>19273</th>\n",
       "      <td>9164100035</td>\n",
       "      <td>655000.0</td>\n",
       "      <td>studio</td>\n",
       "    </tr>\n",
       "    <tr>\n",
       "      <th>...</th>\n",
       "      <td>...</td>\n",
       "      <td>...</td>\n",
       "      <td>...</td>\n",
       "    </tr>\n",
       "    <tr>\n",
       "      <th>16530</th>\n",
       "      <td>2114700500</td>\n",
       "      <td>90000.0</td>\n",
       "      <td>studio</td>\n",
       "    </tr>\n",
       "    <tr>\n",
       "      <th>7992</th>\n",
       "      <td>2734100835</td>\n",
       "      <td>90000.0</td>\n",
       "      <td>studio</td>\n",
       "    </tr>\n",
       "    <tr>\n",
       "      <th>3108</th>\n",
       "      <td>1721801591</td>\n",
       "      <td>89950.0</td>\n",
       "      <td>studio</td>\n",
       "    </tr>\n",
       "    <tr>\n",
       "      <th>465</th>\n",
       "      <td>8658300340</td>\n",
       "      <td>80000.0</td>\n",
       "      <td>studio</td>\n",
       "    </tr>\n",
       "    <tr>\n",
       "      <th>1149</th>\n",
       "      <td>3421079032</td>\n",
       "      <td>75000.0</td>\n",
       "      <td>studio</td>\n",
       "    </tr>\n",
       "  </tbody>\n",
       "</table>\n",
       "<p>199 rows × 3 columns</p>\n",
       "</div>"
      ],
      "text/plain": [
       "               id      price dormitory_type\n",
       "8445    724069023  1247000.0         studio\n",
       "9888   1231000310   713000.0         studio\n",
       "4410   4083304190   680000.0         studio\n",
       "8165   1797500530   655100.0         studio\n",
       "19273  9164100035   655000.0         studio\n",
       "...           ...        ...            ...\n",
       "16530  2114700500    90000.0         studio\n",
       "7992   2734100835    90000.0         studio\n",
       "3108   1721801591    89950.0         studio\n",
       "465    8658300340    80000.0         studio\n",
       "1149   3421079032    75000.0         studio\n",
       "\n",
       "[199 rows x 3 columns]"
      ]
     },
     "execution_count": 244,
     "metadata": {},
     "output_type": "execute_result"
    }
   ],
   "source": [
    "df_studio_price_all.sort_values(by='price', ascending=False)"
   ]
  },
  {
   "cell_type": "code",
   "execution_count": 243,
   "id": "2aa7d7fc",
   "metadata": {},
   "outputs": [
    {
     "name": "stdout",
     "output_type": "stream",
     "text": [
      "O valor maior para imoveis do tipo stuidio é: 724069023\n"
     ]
    }
   ],
   "source": [
    "df = df_studio_price_all[['id', 'price']].sort_values( 'price', ascending=False )\n",
    "print( 'O valor maior para imoveis do tipo stuidio é: {}'.format( df.iloc[0, 0] ) )"
   ]
  },
  {
   "cell_type": "markdown",
   "id": "a7d79fe4",
   "metadata": {},
   "source": [
    "# Pythonico"
   ]
  },
  {
   "cell_type": "code",
   "execution_count": 326,
   "id": "32f84d35",
   "metadata": {},
   "outputs": [
    {
     "data": {
      "text/plain": [
       "1247000.0"
      ]
     },
     "execution_count": 326,
     "metadata": {},
     "output_type": "execute_result"
    }
   ],
   "source": [
    "datahouses.loc[datahouses['dormitory_type'] == 'studio', 'price'].max()"
   ]
  },
  {
   "cell_type": "markdown",
   "id": "934d9d15",
   "metadata": {},
   "source": [
    "#### 15 - Quantos imóveis do tipo “apartment” foram reformados em 2015 ?"
   ]
  },
  {
   "cell_type": "code",
   "execution_count": 245,
   "id": "f85800f4",
   "metadata": {},
   "outputs": [
    {
     "data": {
      "text/plain": [
       "id                           int64\n",
       "date                datetime64[ns]\n",
       "price                      float64\n",
       "bedrooms                     int64\n",
       "bathrooms                  float64\n",
       "sqft_living                  int64\n",
       "sqft_lot                     int64\n",
       "floors                     float64\n",
       "waterfront                   int64\n",
       "view                         int64\n",
       "condition                   object\n",
       "grade                        int64\n",
       "sqft_above                   int64\n",
       "sqft_basement                int64\n",
       "yr_built            datetime64[ns]\n",
       "yr_renovated        datetime64[ns]\n",
       "zipcode                      int64\n",
       "lat                        float64\n",
       "long                       float64\n",
       "sqft_living15                int64\n",
       "sqft_lot15                   int64\n",
       "house_age                   object\n",
       "dormitory_type              object\n",
       "conditional_type            object\n",
       "dtype: object"
      ]
     },
     "execution_count": 245,
     "metadata": {},
     "output_type": "execute_result"
    }
   ],
   "source": [
    "datahouses.dtypes"
   ]
  },
  {
   "cell_type": "code",
   "execution_count": 249,
   "id": "5ed56d6c",
   "metadata": {},
   "outputs": [
    {
     "name": "stdout",
     "output_type": "stream",
     "text": [
      "0\n"
     ]
    }
   ],
   "source": [
    "## dormitory_type representa o tipo de imovel e yr_renovated quando foram renovados\n",
    "df = datahouses.loc[(datahouses['dormitory_type'] == 'apartament') & (datahouses['yr_renovated'] >= '2015-01-01') & (datahouses['yr_renovated'] <= '2015-12-31'), :]\n",
    "print(len(df))"
   ]
  },
  {
   "cell_type": "code",
   "execution_count": 328,
   "id": "d4d47236",
   "metadata": {},
   "outputs": [
    {
     "data": {
      "text/plain": [
       "0"
      ]
     },
     "execution_count": 328,
     "metadata": {},
     "output_type": "execute_result"
    }
   ],
   "source": [
    "datahouses.loc[datahouses['yr_renovated'] == pd.to_datetime('2015-01-01'), 'id'].size"
   ]
  },
  {
   "cell_type": "code",
   "execution_count": null,
   "id": "539bf306",
   "metadata": {},
   "outputs": [],
   "source": []
  },
  {
   "cell_type": "markdown",
   "id": "22b468f0",
   "metadata": {},
   "source": [
    "#### 16 - Qual o maior número de quartos que um imóveis do tipo “house” possui ?"
   ]
  },
  {
   "cell_type": "code",
   "execution_count": 256,
   "id": "e6d56799",
   "metadata": {},
   "outputs": [
    {
     "name": "stdout",
     "output_type": "stream",
     "text": [
      "               id  bedrooms dormitory_type\n",
      "15870  2402100895        33          house\n",
      "8757   1773100755        11          house\n",
      "13314   627300145        10          house\n",
      "19254  8812401450        10          house\n",
      "15161  5566100170        10          house\n",
      "...           ...       ...            ...\n",
      "9398   9287800375         3          house\n",
      "9400   2407000145         3          house\n",
      "9401    452001280         3          house\n",
      "9403   4232901120         3          house\n",
      "21611   291310100         3          house\n",
      "\n",
      "[18641 rows x 3 columns]\n"
     ]
    }
   ],
   "source": [
    "df_more_bedrooms = datahouses.loc[datahouses2['dormitory_type'] == 'house', :]\n",
    "df = df_more_bedrooms[['id', 'bedrooms', 'dormitory_type']].sort_values( 'bedrooms', ascending=False )\n",
    "print(df)"
   ]
  },
  {
   "cell_type": "code",
   "execution_count": null,
   "id": "fc0e44eb",
   "metadata": {},
   "outputs": [],
   "source": []
  },
  {
   "cell_type": "code",
   "execution_count": null,
   "id": "2ecc8adb",
   "metadata": {},
   "outputs": [],
   "source": []
  },
  {
   "cell_type": "markdown",
   "id": "b660ce9d",
   "metadata": {},
   "source": [
    "#### 17 - Quantos imóveis “new_house” foram reformados no ano de 2014?"
   ]
  },
  {
   "cell_type": "code",
   "execution_count": 257,
   "id": "636a7c7c",
   "metadata": {},
   "outputs": [
    {
     "name": "stdout",
     "output_type": "stream",
     "text": [
      "0\n"
     ]
    }
   ],
   "source": [
    "## dormitory_type representa o tipo de imovel e yr_renovated quando foram renovados\n",
    "df = datahouses.loc[(datahouses['house_age'] == 'new_house') & (datahouses['yr_renovated'] >= '2014-01-01') & (datahouses['yr_renovated'] <= '2014-12-31'), :]\n",
    "print(len(df))"
   ]
  },
  {
   "cell_type": "code",
   "execution_count": 261,
   "id": "b01d65cc",
   "metadata": {},
   "outputs": [
    {
     "name": "stdout",
     "output_type": "stream",
     "text": [
      "0\n"
     ]
    }
   ],
   "source": [
    "## dormitory_type representa o tipo de imovel e yr_renovated quando foram renovados\n",
    "df = datahouses.loc[(datahouses['house_age'] == 'new_house') & (datahouses['yr_renovated'].dt.year >= 2014), :]\n",
    "print(len(df))"
   ]
  },
  {
   "cell_type": "code",
   "execution_count": null,
   "id": "be289e5d",
   "metadata": {},
   "outputs": [],
   "source": []
  },
  {
   "cell_type": "markdown",
   "id": "29b84134",
   "metadata": {},
   "source": [
    "#### 18 - Selecione as colunas: “id”, “date”, “price”, “floors”, “zipcode” pelo método:\n",
    "\n",
    "###### Direto pelo nome das colunas.Pelos Índices.Pelos Índices das linhas e o nome das colunasÍndices Booleanos"
   ]
  },
  {
   "cell_type": "code",
   "execution_count": null,
   "id": "c089dd37",
   "metadata": {},
   "outputs": [],
   "source": []
  },
  {
   "cell_type": "code",
   "execution_count": null,
   "id": "fe70dc93",
   "metadata": {},
   "outputs": [],
   "source": []
  },
  {
   "cell_type": "code",
   "execution_count": null,
   "id": "ee6e6870",
   "metadata": {},
   "outputs": [],
   "source": []
  },
  {
   "cell_type": "markdown",
   "id": "2facf11c",
   "metadata": {},
   "source": [
    "#### 19 - Salve um arquivo .csv com somente as colunas do item 10 ao 17.¶\n",
    "\n",
    "###### Modifique a cor dos pontos no mapa de “pink” para “verde-escuro”"
   ]
  },
  {
   "cell_type": "code",
   "execution_count": null,
   "id": "74ac23b2",
   "metadata": {},
   "outputs": [],
   "source": []
  },
  {
   "cell_type": "code",
   "execution_count": null,
   "id": "df27e3d3",
   "metadata": {},
   "outputs": [],
   "source": []
  },
  {
   "cell_type": "code",
   "execution_count": null,
   "id": "c6bdb823",
   "metadata": {},
   "outputs": [],
   "source": []
  },
  {
   "cell_type": "code",
   "execution_count": null,
   "id": "631f624b",
   "metadata": {},
   "outputs": [],
   "source": []
  }
 ],
 "metadata": {
  "kernelspec": {
   "display_name": "Python 3 (ipykernel)",
   "language": "python",
   "name": "python3"
  },
  "language_info": {
   "codemirror_mode": {
    "name": "ipython",
    "version": 3
   },
   "file_extension": ".py",
   "mimetype": "text/x-python",
   "name": "python",
   "nbconvert_exporter": "python",
   "pygments_lexer": "ipython3",
   "version": "3.8.11"
  }
 },
 "nbformat": 4,
 "nbformat_minor": 5
}
