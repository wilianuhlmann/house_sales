{
 "cells": [
  {
   "cell_type": "markdown",
   "id": "8f0fe625",
   "metadata": {},
   "source": [
    "# Novas perguntas do CEO \n",
    "\n",
    "\n",
    "#### 1 - Crie uma nova coluna chamada: “house_age”\n",
    "Se o valor da coluna “date” for maior que 2014-01-01 => ‘new_house’Se o valor da coluna “date” for menor que 2014-01-01 => ‘old_house’\n",
    "#### 2 - Crie uma nova coluna chamada: “dormitory_type”\n",
    "Se o valor da coluna “bedrooms” for igual à 1 => ‘studio’Se o valor da coluna “bedrooms” for igual a 2 => ‘apartament’Se o valor da coluna “bedrooms” for maior que 2 => ‘house’\n",
    "#### 3 - Crie uma nova coluna chamada: “condition_type”\n",
    "Se o valor da coluna “condition” for menor ou igual à 2 => ‘bad’Se o valor da coluna “condition” for igual à 3 ou 4 => ‘regular’Se o valor da coluna “condition” for igual à 5 => ‘good’\n",
    "\n",
    "\n",
    "#### 4 - Modifique o TIPO a Coluna “condition” para STRING\n",
    "\n",
    "#### 5 - Delete as colunas: “sqft_living15” e “sqft_lot15”\n",
    "\n",
    "#### 6 - Modifique o TIPO a Coluna “yr_build” para DATE\n",
    "\n",
    "#### 7 - Modifique o TIPO a Coluna “yr_renovated” para DATE\n",
    "\n",
    "#### 8 - Qual a data mais antiga de construção de um imóvel?\n",
    "\n",
    "#### 9 - Qual a data mais antiga de renovação de um imóvel?\n",
    "\n",
    "#### 10 - Quantos imóveis tem 2 andares?\n",
    "\n",
    "#### 11 - Quantos imóveis estão com a condição igual a “regular” ?\n",
    "\n",
    "#### 12 - Quantos imóveis estão com a condição igual a “bad”e possuem “vista para água” ?\n",
    "\n",
    "#### 13 - Quantos imóveis estão com a condição igual a “good” e são “new_house”?\n",
    "\n",
    "#### 14 - Qual o valor do imóvel mais caro do tipo “studio” ?\n",
    "\n",
    "#### 15 - Quantos imóveis do tipo “apartment” foram reformados em 2015 ?\n",
    "\n",
    "#### 16 - Qual o maior número de quartos que um imóveis do tipo “house” possui ?\n",
    "\n",
    "#### 17 - Quantos imóveis “new_house” foram reformados no ano de 2014?\n",
    "\n",
    "#### 18 - Selecione as colunas: “id”, “date”, “price”, “floors”, “zipcode” pelo método:\n",
    "Direto pelo nome das colunas.Pelos Índices.Pelos Índices das linhas e o nome das colunasÍndices Booleanos        \n",
    "\n",
    "\n",
    "#### 19 - Salve um arquivo .csv com somente as colunas do item 10 ao 17.\n",
    "\n",
    "Modifique a cor dos pontos no mapa de “pink” para “verde-escuro”"
   ]
  },
  {
   "cell_type": "code",
   "execution_count": 119,
   "id": "382950e4",
   "metadata": {
    "ExecuteTime": {
     "end_time": "2021-10-31T22:04:53.456059Z",
     "start_time": "2021-10-31T22:04:53.428380Z"
    }
   },
   "outputs": [],
   "source": [
    "import pandas as pd\n",
    "import numpy as np\n",
    "import seaborn as sns\n",
    "from matplotlib import pyplot as plt\n",
    "import plotly.express as px"
   ]
  },
  {
   "cell_type": "code",
   "execution_count": 120,
   "id": "14cd15a5",
   "metadata": {
    "ExecuteTime": {
     "end_time": "2021-10-31T22:04:54.052135Z",
     "start_time": "2021-10-31T22:04:53.942198Z"
    }
   },
   "outputs": [],
   "source": [
    "datahouses = pd.read_csv('kc_house_data.csv')\n",
    "datahouses['date'] = pd.to_datetime( datahouses['date'], format='%Y-%m-%d' )"
   ]
  },
  {
   "cell_type": "markdown",
   "id": "76a351e1",
   "metadata": {},
   "source": [
    "#### 1 - Crie uma nova coluna chamada: “house_age”\n",
    "\n",
    " ###### Se o valor da coluna “date” for maior que 2014-01-01 => ‘new_house’\n",
    " ###### Se o valor da coluna “date” for menor que 2014-01-01 => ‘old_house’"
   ]
  },
  {
   "cell_type": "code",
   "execution_count": 121,
   "id": "df890fd6",
   "metadata": {
    "ExecuteTime": {
     "end_time": "2021-10-31T22:04:54.114599Z",
     "start_time": "2021-10-31T22:04:54.083341Z"
    }
   },
   "outputs": [
    {
     "data": {
      "text/plain": [
       "Index(['id', 'date', 'price', 'bedrooms', 'bathrooms', 'sqft_living',\n",
       "       'sqft_lot', 'floors', 'waterfront', 'view', 'condition', 'grade',\n",
       "       'sqft_above', 'sqft_basement', 'yr_built', 'yr_renovated', 'zipcode',\n",
       "       'lat', 'long', 'sqft_living15', 'sqft_lot15'],\n",
       "      dtype='object')"
      ]
     },
     "execution_count": 121,
     "metadata": {},
     "output_type": "execute_result"
    }
   ],
   "source": [
    "datahouses.columns"
   ]
  },
  {
   "cell_type": "code",
   "execution_count": 122,
   "id": "f3dcecbf",
   "metadata": {
    "ExecuteTime": {
     "end_time": "2021-10-31T22:04:54.193143Z",
     "start_time": "2021-10-31T22:04:54.161921Z"
    }
   },
   "outputs": [
    {
     "data": {
      "text/plain": [
       "id                        int64\n",
       "date             datetime64[ns]\n",
       "price                   float64\n",
       "bedrooms                  int64\n",
       "bathrooms               float64\n",
       "sqft_living               int64\n",
       "sqft_lot                  int64\n",
       "floors                  float64\n",
       "waterfront                int64\n",
       "view                      int64\n",
       "condition                 int64\n",
       "grade                     int64\n",
       "sqft_above                int64\n",
       "sqft_basement             int64\n",
       "yr_built                  int64\n",
       "yr_renovated              int64\n",
       "zipcode                   int64\n",
       "lat                     float64\n",
       "long                    float64\n",
       "sqft_living15             int64\n",
       "sqft_lot15                int64\n",
       "dtype: object"
      ]
     },
     "execution_count": 122,
     "metadata": {},
     "output_type": "execute_result"
    }
   ],
   "source": [
    "datahouses.dtypes"
   ]
  },
  {
   "cell_type": "code",
   "execution_count": 123,
   "id": "09597b13",
   "metadata": {
    "ExecuteTime": {
     "end_time": "2021-10-31T22:04:54.271690Z",
     "start_time": "2021-10-31T22:04:54.240483Z"
    }
   },
   "outputs": [],
   "source": [
    "datahouses['house_age'] = 'NA'"
   ]
  },
  {
   "cell_type": "code",
   "execution_count": 124,
   "id": "bfbda4e1",
   "metadata": {
    "ExecuteTime": {
     "end_time": "2021-10-31T22:04:54.350309Z",
     "start_time": "2021-10-31T22:04:54.319035Z"
    }
   },
   "outputs": [
    {
     "data": {
      "text/plain": [
       "Index(['id', 'date', 'price', 'bedrooms', 'bathrooms', 'sqft_living',\n",
       "       'sqft_lot', 'floors', 'waterfront', 'view', 'condition', 'grade',\n",
       "       'sqft_above', 'sqft_basement', 'yr_built', 'yr_renovated', 'zipcode',\n",
       "       'lat', 'long', 'sqft_living15', 'sqft_lot15', 'house_age'],\n",
       "      dtype='object')"
      ]
     },
     "execution_count": 124,
     "metadata": {},
     "output_type": "execute_result"
    }
   ],
   "source": [
    "datahouses.columns"
   ]
  },
  {
   "cell_type": "code",
   "execution_count": 125,
   "id": "be5173ca",
   "metadata": {
    "ExecuteTime": {
     "end_time": "2021-10-31T22:04:54.428831Z",
     "start_time": "2021-10-31T22:04:54.397189Z"
    }
   },
   "outputs": [],
   "source": [
    "datahouses.loc[datahouses['date'] > '2014-01-01', 'house_age'] = 'new_house'\n",
    "datahouses.loc[datahouses['date'] < '2014-01-01', 'house_age'] = 'old_house'"
   ]
  },
  {
   "cell_type": "code",
   "execution_count": 126,
   "id": "5ea24b0b",
   "metadata": {
    "ExecuteTime": {
     "end_time": "2021-10-31T22:04:54.523055Z",
     "start_time": "2021-10-31T22:04:54.506981Z"
    }
   },
   "outputs": [
    {
     "ename": "SyntaxError",
     "evalue": "invalid syntax (Temp/ipykernel_5308/244998344.py, line 3)",
     "output_type": "error",
     "traceback": [
      "\u001b[1;36m  File \u001b[1;32m\"C:\\Users\\Wilian\\AppData\\Local\\Temp/ipykernel_5308/244998344.py\"\u001b[1;36m, line \u001b[1;32m3\u001b[0m\n\u001b[1;33m    datahouses['house_age'] = datahouses['date'].apply(lambda x: 'new_house' if x > pd.to_datetime('2014-01-01, format='%Y-%m-%d)\u001b[0m\n\u001b[1;37m                                                                                                                           ^\u001b[0m\n\u001b[1;31mSyntaxError\u001b[0m\u001b[1;31m:\u001b[0m invalid syntax\n"
     ]
    }
   ],
   "source": [
    "# Segunda forma de fazer e convertendo tipo de dados\n",
    "datahouses['date'] = pd.to_datetime(datahouses['date'], format='%Y-%m-%d')\n",
    "datahouses['house_age'] = datahouses['date'].apply(lambda x: 'new_house' if x > pd.to_datetime('2014-01-01, format='%Y-%m-%d)"
   ]
  },
  {
   "cell_type": "code",
   "execution_count": 127,
   "id": "68eb2cc1",
   "metadata": {
    "ExecuteTime": {
     "end_time": "2021-10-31T22:04:54.632938Z",
     "start_time": "2021-10-31T22:04:54.585578Z"
    }
   },
   "outputs": [
    {
     "data": {
      "text/plain": [
       "<bound method NDFrame.head of                id       date     price  bedrooms  bathrooms  sqft_living  \\\n",
       "0      7129300520 2014-10-13  221900.0         3       1.00         1180   \n",
       "1      6414100192 2014-12-09  538000.0         3       2.25         2570   \n",
       "2      5631500400 2015-02-25  180000.0         2       1.00          770   \n",
       "3      2487200875 2014-12-09  604000.0         4       3.00         1960   \n",
       "4      1954400510 2015-02-18  510000.0         3       2.00         1680   \n",
       "...           ...        ...       ...       ...        ...          ...   \n",
       "21608   263000018 2014-05-21  360000.0         3       2.50         1530   \n",
       "21609  6600060120 2015-02-23  400000.0         4       2.50         2310   \n",
       "21610  1523300141 2014-06-23  402101.0         2       0.75         1020   \n",
       "21611   291310100 2015-01-16  400000.0         3       2.50         1600   \n",
       "21612  1523300157 2014-10-15  325000.0         2       0.75         1020   \n",
       "\n",
       "       sqft_lot  floors  waterfront  view  ...  sqft_above  sqft_basement  \\\n",
       "0          5650     1.0           0     0  ...        1180              0   \n",
       "1          7242     2.0           0     0  ...        2170            400   \n",
       "2         10000     1.0           0     0  ...         770              0   \n",
       "3          5000     1.0           0     0  ...        1050            910   \n",
       "4          8080     1.0           0     0  ...        1680              0   \n",
       "...         ...     ...         ...   ...  ...         ...            ...   \n",
       "21608      1131     3.0           0     0  ...        1530              0   \n",
       "21609      5813     2.0           0     0  ...        2310              0   \n",
       "21610      1350     2.0           0     0  ...        1020              0   \n",
       "21611      2388     2.0           0     0  ...        1600              0   \n",
       "21612      1076     2.0           0     0  ...        1020              0   \n",
       "\n",
       "       yr_built  yr_renovated  zipcode      lat     long  sqft_living15  \\\n",
       "0          1955             0    98178  47.5112 -122.257           1340   \n",
       "1          1951          1991    98125  47.7210 -122.319           1690   \n",
       "2          1933             0    98028  47.7379 -122.233           2720   \n",
       "3          1965             0    98136  47.5208 -122.393           1360   \n",
       "4          1987             0    98074  47.6168 -122.045           1800   \n",
       "...         ...           ...      ...      ...      ...            ...   \n",
       "21608      2009             0    98103  47.6993 -122.346           1530   \n",
       "21609      2014             0    98146  47.5107 -122.362           1830   \n",
       "21610      2009             0    98144  47.5944 -122.299           1020   \n",
       "21611      2004             0    98027  47.5345 -122.069           1410   \n",
       "21612      2008             0    98144  47.5941 -122.299           1020   \n",
       "\n",
       "       sqft_lot15  house_age  \n",
       "0            5650  new_house  \n",
       "1            7639  new_house  \n",
       "2            8062  new_house  \n",
       "3            5000  new_house  \n",
       "4            7503  new_house  \n",
       "...           ...        ...  \n",
       "21608        1509  new_house  \n",
       "21609        7200  new_house  \n",
       "21610        2007  new_house  \n",
       "21611        1287  new_house  \n",
       "21612        1357  new_house  \n",
       "\n",
       "[21613 rows x 22 columns]>"
      ]
     },
     "execution_count": 127,
     "metadata": {},
     "output_type": "execute_result"
    }
   ],
   "source": [
    "datahouses.head"
   ]
  },
  {
   "cell_type": "markdown",
   "id": "de4bcf61",
   "metadata": {},
   "source": [
    "#### 2 - Crie uma nova coluna chamada: “dormitory_type”\n",
    "\n",
    "###### Se o valor da coluna “bedrooms” for igual à 1 => ‘studio’Se o valor da coluna “bedrooms” for igual a 2 => ‘apartament’Se o valor da coluna “bedrooms” for maior que 2 => ‘house’"
   ]
  },
  {
   "cell_type": "code",
   "execution_count": 128,
   "id": "e4be6619",
   "metadata": {
    "ExecuteTime": {
     "end_time": "2021-10-31T22:04:54.758374Z",
     "start_time": "2021-10-31T22:04:54.742751Z"
    }
   },
   "outputs": [],
   "source": [
    "datahouses['dormitory_type'] = 'NA'"
   ]
  },
  {
   "cell_type": "code",
   "execution_count": 129,
   "id": "e0785bbd",
   "metadata": {
    "ExecuteTime": {
     "end_time": "2021-10-31T22:04:54.852698Z",
     "start_time": "2021-10-31T22:04:54.821400Z"
    }
   },
   "outputs": [],
   "source": [
    "datahouses.loc[datahouses['bedrooms'] == 1, 'dormitory_type'] = 'studio'\n",
    "datahouses.loc[datahouses['bedrooms'] == 2, 'dormitory_type'] = 'apartament'\n",
    "datahouses.loc[datahouses['bedrooms'] >= 3, 'dormitory_type'] = 'house'"
   ]
  },
  {
   "cell_type": "code",
   "execution_count": 130,
   "id": "f560f1ee",
   "metadata": {
    "ExecuteTime": {
     "end_time": "2021-10-31T22:04:54.946891Z",
     "start_time": "2021-10-31T22:04:54.899540Z"
    }
   },
   "outputs": [
    {
     "data": {
      "text/plain": [
       "<bound method NDFrame.head of                id       date     price  bedrooms  bathrooms  sqft_living  \\\n",
       "0      7129300520 2014-10-13  221900.0         3       1.00         1180   \n",
       "1      6414100192 2014-12-09  538000.0         3       2.25         2570   \n",
       "2      5631500400 2015-02-25  180000.0         2       1.00          770   \n",
       "3      2487200875 2014-12-09  604000.0         4       3.00         1960   \n",
       "4      1954400510 2015-02-18  510000.0         3       2.00         1680   \n",
       "...           ...        ...       ...       ...        ...          ...   \n",
       "21608   263000018 2014-05-21  360000.0         3       2.50         1530   \n",
       "21609  6600060120 2015-02-23  400000.0         4       2.50         2310   \n",
       "21610  1523300141 2014-06-23  402101.0         2       0.75         1020   \n",
       "21611   291310100 2015-01-16  400000.0         3       2.50         1600   \n",
       "21612  1523300157 2014-10-15  325000.0         2       0.75         1020   \n",
       "\n",
       "       sqft_lot  floors  waterfront  view  ...  sqft_basement  yr_built  \\\n",
       "0          5650     1.0           0     0  ...              0      1955   \n",
       "1          7242     2.0           0     0  ...            400      1951   \n",
       "2         10000     1.0           0     0  ...              0      1933   \n",
       "3          5000     1.0           0     0  ...            910      1965   \n",
       "4          8080     1.0           0     0  ...              0      1987   \n",
       "...         ...     ...         ...   ...  ...            ...       ...   \n",
       "21608      1131     3.0           0     0  ...              0      2009   \n",
       "21609      5813     2.0           0     0  ...              0      2014   \n",
       "21610      1350     2.0           0     0  ...              0      2009   \n",
       "21611      2388     2.0           0     0  ...              0      2004   \n",
       "21612      1076     2.0           0     0  ...              0      2008   \n",
       "\n",
       "       yr_renovated  zipcode      lat     long  sqft_living15  sqft_lot15  \\\n",
       "0                 0    98178  47.5112 -122.257           1340        5650   \n",
       "1              1991    98125  47.7210 -122.319           1690        7639   \n",
       "2                 0    98028  47.7379 -122.233           2720        8062   \n",
       "3                 0    98136  47.5208 -122.393           1360        5000   \n",
       "4                 0    98074  47.6168 -122.045           1800        7503   \n",
       "...             ...      ...      ...      ...            ...         ...   \n",
       "21608             0    98103  47.6993 -122.346           1530        1509   \n",
       "21609             0    98146  47.5107 -122.362           1830        7200   \n",
       "21610             0    98144  47.5944 -122.299           1020        2007   \n",
       "21611             0    98027  47.5345 -122.069           1410        1287   \n",
       "21612             0    98144  47.5941 -122.299           1020        1357   \n",
       "\n",
       "       house_age  dormitory_type  \n",
       "0      new_house           house  \n",
       "1      new_house           house  \n",
       "2      new_house      apartament  \n",
       "3      new_house           house  \n",
       "4      new_house           house  \n",
       "...          ...             ...  \n",
       "21608  new_house           house  \n",
       "21609  new_house           house  \n",
       "21610  new_house      apartament  \n",
       "21611  new_house           house  \n",
       "21612  new_house      apartament  \n",
       "\n",
       "[21613 rows x 23 columns]>"
      ]
     },
     "execution_count": 130,
     "metadata": {},
     "output_type": "execute_result"
    }
   ],
   "source": [
    "datahouses.head"
   ]
  },
  {
   "cell_type": "markdown",
   "id": "79f72f96",
   "metadata": {},
   "source": [
    "#### 3 - Crie uma nova coluna chamada: “condition_type”\n",
    "\n",
    "###### Se o valor da coluna “condition” for menor ou igual à 2 => ‘bad’Se o valor da coluna “condition” for igual à 3 ou 4 => ‘regular’Se o valor da coluna “condition” for igual à 5 => ‘good’"
   ]
  },
  {
   "cell_type": "code",
   "execution_count": 131,
   "id": "ad757593",
   "metadata": {
    "ExecuteTime": {
     "end_time": "2021-10-31T22:04:55.056679Z",
     "start_time": "2021-10-31T22:04:55.041112Z"
    }
   },
   "outputs": [],
   "source": [
    "datahouses['conditional_type'] = 'NA'"
   ]
  },
  {
   "cell_type": "code",
   "execution_count": 132,
   "id": "c01d20c3",
   "metadata": {
    "ExecuteTime": {
     "end_time": "2021-10-31T22:04:55.151054Z",
     "start_time": "2021-10-31T22:04:55.119786Z"
    }
   },
   "outputs": [
    {
     "name": "stdout",
     "output_type": "stream",
     "text": [
      "0        3\n",
      "1        3\n",
      "2        3\n",
      "3        5\n",
      "4        3\n",
      "        ..\n",
      "21608    3\n",
      "21609    3\n",
      "21610    3\n",
      "21611    3\n",
      "21612    3\n",
      "Name: condition, Length: 21613, dtype: int64\n"
     ]
    }
   ],
   "source": [
    "dh = datahouses['condition']\n",
    "print(dh)"
   ]
  },
  {
   "cell_type": "code",
   "execution_count": 133,
   "id": "7ded571b",
   "metadata": {
    "ExecuteTime": {
     "end_time": "2021-10-31T22:04:55.229594Z",
     "start_time": "2021-10-31T22:04:55.197932Z"
    }
   },
   "outputs": [],
   "source": [
    "# Está com algum bug, verificar depois\n",
    "datahouses.loc[datahouses['condition'] <= 2, 'conditional_type'] = 'bad'\n",
    "datahouses.loc[datahouses['condition'] == 3 | 4, 'conditional_type'] = 'regular'\n",
    "datahouses.loc[datahouses['condition'] >= 5, 'conditional_type'] = 'good'"
   ]
  },
  {
   "cell_type": "markdown",
   "id": "c1ebfe2b",
   "metadata": {},
   "source": [
    "###### Outra forma\n",
    "###### Em casos de dataframes maiores, é valido testar qual performa com mais desempenho"
   ]
  },
  {
   "cell_type": "code",
   "execution_count": 134,
   "id": "6b6594f3",
   "metadata": {
    "ExecuteTime": {
     "end_time": "2021-10-31T22:04:55.402049Z",
     "start_time": "2021-10-31T22:04:55.355242Z"
    }
   },
   "outputs": [],
   "source": [
    "datahouses['condition'] = datahouses['condition'].astype( int )\n",
    "datahouses['conditional_type'] = datahouses['condition'].apply( lambda x: 'bad' if x <= 2 else 'regular' if (x == 3) | (x == 4) else 'good' )"
   ]
  },
  {
   "cell_type": "code",
   "execution_count": 135,
   "id": "2f1e6ccd",
   "metadata": {
    "ExecuteTime": {
     "end_time": "2021-10-31T22:04:55.480080Z",
     "start_time": "2021-10-31T22:04:55.448835Z"
    }
   },
   "outputs": [
    {
     "name": "stdout",
     "output_type": "stream",
     "text": [
      "0        regular\n",
      "1        regular\n",
      "2        regular\n",
      "3           good\n",
      "4        regular\n",
      "          ...   \n",
      "21608    regular\n",
      "21609    regular\n",
      "21610    regular\n",
      "21611    regular\n",
      "21612    regular\n",
      "Name: conditional_type, Length: 21613, dtype: object\n"
     ]
    }
   ],
   "source": [
    "dh = datahouses['conditional_type']\n",
    "print(dh)"
   ]
  },
  {
   "cell_type": "code",
   "execution_count": 136,
   "id": "69f5f062",
   "metadata": {
    "ExecuteTime": {
     "end_time": "2021-10-31T22:04:55.574368Z",
     "start_time": "2021-10-31T22:04:55.527441Z"
    }
   },
   "outputs": [
    {
     "data": {
      "text/plain": [
       "<bound method NDFrame.head of                id       date     price  bedrooms  bathrooms  sqft_living  \\\n",
       "0      7129300520 2014-10-13  221900.0         3       1.00         1180   \n",
       "1      6414100192 2014-12-09  538000.0         3       2.25         2570   \n",
       "2      5631500400 2015-02-25  180000.0         2       1.00          770   \n",
       "3      2487200875 2014-12-09  604000.0         4       3.00         1960   \n",
       "4      1954400510 2015-02-18  510000.0         3       2.00         1680   \n",
       "...           ...        ...       ...       ...        ...          ...   \n",
       "21608   263000018 2014-05-21  360000.0         3       2.50         1530   \n",
       "21609  6600060120 2015-02-23  400000.0         4       2.50         2310   \n",
       "21610  1523300141 2014-06-23  402101.0         2       0.75         1020   \n",
       "21611   291310100 2015-01-16  400000.0         3       2.50         1600   \n",
       "21612  1523300157 2014-10-15  325000.0         2       0.75         1020   \n",
       "\n",
       "       sqft_lot  floors  waterfront  view  ...  yr_built  yr_renovated  \\\n",
       "0          5650     1.0           0     0  ...      1955             0   \n",
       "1          7242     2.0           0     0  ...      1951          1991   \n",
       "2         10000     1.0           0     0  ...      1933             0   \n",
       "3          5000     1.0           0     0  ...      1965             0   \n",
       "4          8080     1.0           0     0  ...      1987             0   \n",
       "...         ...     ...         ...   ...  ...       ...           ...   \n",
       "21608      1131     3.0           0     0  ...      2009             0   \n",
       "21609      5813     2.0           0     0  ...      2014             0   \n",
       "21610      1350     2.0           0     0  ...      2009             0   \n",
       "21611      2388     2.0           0     0  ...      2004             0   \n",
       "21612      1076     2.0           0     0  ...      2008             0   \n",
       "\n",
       "       zipcode      lat     long  sqft_living15  sqft_lot15  house_age  \\\n",
       "0        98178  47.5112 -122.257           1340        5650  new_house   \n",
       "1        98125  47.7210 -122.319           1690        7639  new_house   \n",
       "2        98028  47.7379 -122.233           2720        8062  new_house   \n",
       "3        98136  47.5208 -122.393           1360        5000  new_house   \n",
       "4        98074  47.6168 -122.045           1800        7503  new_house   \n",
       "...        ...      ...      ...            ...         ...        ...   \n",
       "21608    98103  47.6993 -122.346           1530        1509  new_house   \n",
       "21609    98146  47.5107 -122.362           1830        7200  new_house   \n",
       "21610    98144  47.5944 -122.299           1020        2007  new_house   \n",
       "21611    98027  47.5345 -122.069           1410        1287  new_house   \n",
       "21612    98144  47.5941 -122.299           1020        1357  new_house   \n",
       "\n",
       "       dormitory_type  conditional_type  \n",
       "0               house           regular  \n",
       "1               house           regular  \n",
       "2          apartament           regular  \n",
       "3               house              good  \n",
       "4               house           regular  \n",
       "...               ...               ...  \n",
       "21608           house           regular  \n",
       "21609           house           regular  \n",
       "21610      apartament           regular  \n",
       "21611           house           regular  \n",
       "21612      apartament           regular  \n",
       "\n",
       "[21613 rows x 24 columns]>"
      ]
     },
     "execution_count": 136,
     "metadata": {},
     "output_type": "execute_result"
    }
   ],
   "source": [
    "datahouses.head"
   ]
  },
  {
   "cell_type": "markdown",
   "id": "15832788",
   "metadata": {},
   "source": [
    "#### 4 - Modifique o TIPO a Coluna “condition” para STRING\n"
   ]
  },
  {
   "cell_type": "code",
   "execution_count": 137,
   "id": "0f310908",
   "metadata": {
    "ExecuteTime": {
     "end_time": "2021-10-31T22:04:55.762972Z",
     "start_time": "2021-10-31T22:04:55.718163Z"
    }
   },
   "outputs": [],
   "source": [
    "datahouses['condition'] = datahouses['condition'].astype( str )\n",
    "dfcond = datahouses['condition']"
   ]
  },
  {
   "cell_type": "code",
   "execution_count": 138,
   "id": "5c2c7979",
   "metadata": {
    "ExecuteTime": {
     "end_time": "2021-10-31T22:04:55.841596Z",
     "start_time": "2021-10-31T22:04:55.825947Z"
    }
   },
   "outputs": [
    {
     "data": {
      "text/plain": [
       "id                           int64\n",
       "date                datetime64[ns]\n",
       "price                      float64\n",
       "bedrooms                     int64\n",
       "bathrooms                  float64\n",
       "sqft_living                  int64\n",
       "sqft_lot                     int64\n",
       "floors                     float64\n",
       "waterfront                   int64\n",
       "view                         int64\n",
       "condition                   object\n",
       "grade                        int64\n",
       "sqft_above                   int64\n",
       "sqft_basement                int64\n",
       "yr_built                     int64\n",
       "yr_renovated                 int64\n",
       "zipcode                      int64\n",
       "lat                        float64\n",
       "long                       float64\n",
       "sqft_living15                int64\n",
       "sqft_lot15                   int64\n",
       "house_age                   object\n",
       "dormitory_type              object\n",
       "conditional_type            object\n",
       "dtype: object"
      ]
     },
     "execution_count": 138,
     "metadata": {},
     "output_type": "execute_result"
    }
   ],
   "source": [
    "datahouses.dtypes"
   ]
  },
  {
   "cell_type": "code",
   "execution_count": 139,
   "id": "566235f0",
   "metadata": {
    "ExecuteTime": {
     "end_time": "2021-10-31T22:04:55.920164Z",
     "start_time": "2021-10-31T22:04:55.888514Z"
    }
   },
   "outputs": [
    {
     "data": {
      "text/plain": [
       "pandas.core.series.Series"
      ]
     },
     "execution_count": 139,
     "metadata": {},
     "output_type": "execute_result"
    }
   ],
   "source": [
    "type(dfcond)"
   ]
  },
  {
   "cell_type": "markdown",
   "id": "019e563f",
   "metadata": {},
   "source": [
    "#### 5 - Delete as colunas: “sqft_living15” e “sqft_lot15”\n"
   ]
  },
  {
   "cell_type": "code",
   "execution_count": 140,
   "id": "3d3da900",
   "metadata": {
    "ExecuteTime": {
     "end_time": "2021-10-31T22:04:56.045901Z",
     "start_time": "2021-10-31T22:04:56.018491Z"
    }
   },
   "outputs": [],
   "source": [
    "datahouses = datahouses.drop(['sqft_living15', 'sqft_lot15'], axis=1)"
   ]
  },
  {
   "cell_type": "code",
   "execution_count": null,
   "id": "f67fd661",
   "metadata": {},
   "outputs": [],
   "source": []
  },
  {
   "cell_type": "code",
   "execution_count": null,
   "id": "413f809f",
   "metadata": {},
   "outputs": [],
   "source": []
  },
  {
   "cell_type": "markdown",
   "id": "4e92b1a9",
   "metadata": {},
   "source": [
    "#### 6 - Modifique o TIPO a Coluna “yr_build” para DATE\n"
   ]
  },
  {
   "cell_type": "code",
   "execution_count": 141,
   "id": "35f8c086",
   "metadata": {
    "ExecuteTime": {
     "end_time": "2021-10-31T22:04:56.282207Z",
     "start_time": "2021-10-31T22:04:56.250935Z"
    }
   },
   "outputs": [
    {
     "data": {
      "text/plain": [
       "id                           int64\n",
       "date                datetime64[ns]\n",
       "price                      float64\n",
       "bedrooms                     int64\n",
       "bathrooms                  float64\n",
       "sqft_living                  int64\n",
       "sqft_lot                     int64\n",
       "floors                     float64\n",
       "waterfront                   int64\n",
       "view                         int64\n",
       "condition                   object\n",
       "grade                        int64\n",
       "sqft_above                   int64\n",
       "sqft_basement                int64\n",
       "yr_built                     int64\n",
       "yr_renovated                 int64\n",
       "zipcode                      int64\n",
       "lat                        float64\n",
       "long                       float64\n",
       "house_age                   object\n",
       "dormitory_type              object\n",
       "conditional_type            object\n",
       "dtype: object"
      ]
     },
     "execution_count": 141,
     "metadata": {},
     "output_type": "execute_result"
    }
   ],
   "source": [
    "datahouses.dtypes"
   ]
  },
  {
   "cell_type": "code",
   "execution_count": 142,
   "id": "f92cbe2c",
   "metadata": {
    "ExecuteTime": {
     "end_time": "2021-10-31T22:04:56.360915Z",
     "start_time": "2021-10-31T22:04:56.329613Z"
    }
   },
   "outputs": [],
   "source": [
    "datahouses['yr_built'] = pd.to_datetime( datahouses['yr_built'], format='%Y-%m-%d' )"
   ]
  },
  {
   "cell_type": "code",
   "execution_count": 143,
   "id": "d56e3771",
   "metadata": {
    "ExecuteTime": {
     "end_time": "2021-10-31T22:04:56.439514Z",
     "start_time": "2021-10-31T22:04:56.419353Z"
    }
   },
   "outputs": [
    {
     "data": {
      "text/plain": [
       "id                           int64\n",
       "date                datetime64[ns]\n",
       "price                      float64\n",
       "bedrooms                     int64\n",
       "bathrooms                  float64\n",
       "sqft_living                  int64\n",
       "sqft_lot                     int64\n",
       "floors                     float64\n",
       "waterfront                   int64\n",
       "view                         int64\n",
       "condition                   object\n",
       "grade                        int64\n",
       "sqft_above                   int64\n",
       "sqft_basement                int64\n",
       "yr_built            datetime64[ns]\n",
       "yr_renovated                 int64\n",
       "zipcode                      int64\n",
       "lat                        float64\n",
       "long                       float64\n",
       "house_age                   object\n",
       "dormitory_type              object\n",
       "conditional_type            object\n",
       "dtype: object"
      ]
     },
     "execution_count": 143,
     "metadata": {},
     "output_type": "execute_result"
    }
   ],
   "source": [
    "datahouses.dtypes"
   ]
  },
  {
   "cell_type": "markdown",
   "id": "d0e908f7",
   "metadata": {},
   "source": [
    "#### 7 - Modifique o TIPO a Coluna “yr_renovated” para DATE\n"
   ]
  },
  {
   "cell_type": "code",
   "execution_count": 144,
   "id": "18c45c31",
   "metadata": {
    "ExecuteTime": {
     "end_time": "2021-10-31T22:04:56.580691Z",
     "start_time": "2021-10-31T22:04:56.549397Z"
    }
   },
   "outputs": [
    {
     "data": {
      "text/plain": [
       "id                           int64\n",
       "date                datetime64[ns]\n",
       "price                      float64\n",
       "bedrooms                     int64\n",
       "bathrooms                  float64\n",
       "sqft_living                  int64\n",
       "sqft_lot                     int64\n",
       "floors                     float64\n",
       "waterfront                   int64\n",
       "view                         int64\n",
       "condition                   object\n",
       "grade                        int64\n",
       "sqft_above                   int64\n",
       "sqft_basement                int64\n",
       "yr_built            datetime64[ns]\n",
       "yr_renovated                 int64\n",
       "zipcode                      int64\n",
       "lat                        float64\n",
       "long                       float64\n",
       "house_age                   object\n",
       "dormitory_type              object\n",
       "conditional_type            object\n",
       "dtype: object"
      ]
     },
     "execution_count": 144,
     "metadata": {},
     "output_type": "execute_result"
    }
   ],
   "source": [
    "datahouses.dtypes"
   ]
  },
  {
   "cell_type": "code",
   "execution_count": 145,
   "id": "6cf1e065",
   "metadata": {
    "ExecuteTime": {
     "end_time": "2021-10-31T22:04:56.674839Z",
     "start_time": "2021-10-31T22:04:56.659222Z"
    }
   },
   "outputs": [],
   "source": [
    "# pode variar em versoes do python a conversão dessa forma, apresentando um erro na hora de conversão pois existem campos com valor diferente\n",
    "# No caso dessa versão do python ele já esta jogando campos diferentes para a data default 1970-01-01 00:00:00.000000000\n",
    "datahouses['yr_renovated'] = pd.to_datetime( datahouses['yr_renovated'], format='%Y-%m-%d' )"
   ]
  },
  {
   "cell_type": "code",
   "execution_count": 146,
   "id": "1720d566",
   "metadata": {
    "ExecuteTime": {
     "end_time": "2021-10-31T22:04:56.769068Z",
     "start_time": "2021-10-31T22:04:56.737851Z"
    }
   },
   "outputs": [
    {
     "data": {
      "text/html": [
       "<div>\n",
       "<style scoped>\n",
       "    .dataframe tbody tr th:only-of-type {\n",
       "        vertical-align: middle;\n",
       "    }\n",
       "\n",
       "    .dataframe tbody tr th {\n",
       "        vertical-align: top;\n",
       "    }\n",
       "\n",
       "    .dataframe thead th {\n",
       "        text-align: right;\n",
       "    }\n",
       "</style>\n",
       "<table border=\"1\" class=\"dataframe\">\n",
       "  <thead>\n",
       "    <tr style=\"text-align: right;\">\n",
       "      <th></th>\n",
       "      <th>yr_renovated</th>\n",
       "    </tr>\n",
       "  </thead>\n",
       "  <tbody>\n",
       "    <tr>\n",
       "      <th>0</th>\n",
       "      <td>1970-01-01 00:00:00.000000000</td>\n",
       "    </tr>\n",
       "    <tr>\n",
       "      <th>1</th>\n",
       "      <td>1970-01-01 00:00:00.000001991</td>\n",
       "    </tr>\n",
       "    <tr>\n",
       "      <th>2</th>\n",
       "      <td>1970-01-01 00:00:00.000000000</td>\n",
       "    </tr>\n",
       "    <tr>\n",
       "      <th>3</th>\n",
       "      <td>1970-01-01 00:00:00.000000000</td>\n",
       "    </tr>\n",
       "    <tr>\n",
       "      <th>4</th>\n",
       "      <td>1970-01-01 00:00:00.000000000</td>\n",
       "    </tr>\n",
       "    <tr>\n",
       "      <th>5</th>\n",
       "      <td>1970-01-01 00:00:00.000000000</td>\n",
       "    </tr>\n",
       "    <tr>\n",
       "      <th>6</th>\n",
       "      <td>1970-01-01 00:00:00.000000000</td>\n",
       "    </tr>\n",
       "    <tr>\n",
       "      <th>7</th>\n",
       "      <td>1970-01-01 00:00:00.000000000</td>\n",
       "    </tr>\n",
       "    <tr>\n",
       "      <th>8</th>\n",
       "      <td>1970-01-01 00:00:00.000000000</td>\n",
       "    </tr>\n",
       "    <tr>\n",
       "      <th>9</th>\n",
       "      <td>1970-01-01 00:00:00.000000000</td>\n",
       "    </tr>\n",
       "  </tbody>\n",
       "</table>\n",
       "</div>"
      ],
      "text/plain": [
       "                   yr_renovated\n",
       "0 1970-01-01 00:00:00.000000000\n",
       "1 1970-01-01 00:00:00.000001991\n",
       "2 1970-01-01 00:00:00.000000000\n",
       "3 1970-01-01 00:00:00.000000000\n",
       "4 1970-01-01 00:00:00.000000000\n",
       "5 1970-01-01 00:00:00.000000000\n",
       "6 1970-01-01 00:00:00.000000000\n",
       "7 1970-01-01 00:00:00.000000000\n",
       "8 1970-01-01 00:00:00.000000000\n",
       "9 1970-01-01 00:00:00.000000000"
      ]
     },
     "execution_count": 146,
     "metadata": {},
     "output_type": "execute_result"
    }
   ],
   "source": [
    "datahouses[['yr_renovated']].head(10)"
   ]
  },
  {
   "cell_type": "code",
   "execution_count": 147,
   "id": "0fab1927",
   "metadata": {
    "ExecuteTime": {
     "end_time": "2021-10-31T22:04:57.004350Z",
     "start_time": "2021-10-31T22:04:56.819974Z"
    }
   },
   "outputs": [],
   "source": [
    "## Está é uma boa forma de fazer a conversão para campos com valores diferentes de data\n",
    "datahouses['yr_renovated'] = datahouses['yr_renovated'].apply(lambda x: pd.to_datetime('1970-01-01', format='%Y-%m-%d') if x== 0 else \n",
    "                                                  pd.to_datetime(x, format='%Y-%m-%d') )"
   ]
  },
  {
   "cell_type": "code",
   "execution_count": 148,
   "id": "b7bafe99",
   "metadata": {
    "ExecuteTime": {
     "end_time": "2021-10-31T22:04:57.019968Z",
     "start_time": "2021-10-31T22:04:57.004350Z"
    }
   },
   "outputs": [
    {
     "data": {
      "text/html": [
       "<div>\n",
       "<style scoped>\n",
       "    .dataframe tbody tr th:only-of-type {\n",
       "        vertical-align: middle;\n",
       "    }\n",
       "\n",
       "    .dataframe tbody tr th {\n",
       "        vertical-align: top;\n",
       "    }\n",
       "\n",
       "    .dataframe thead th {\n",
       "        text-align: right;\n",
       "    }\n",
       "</style>\n",
       "<table border=\"1\" class=\"dataframe\">\n",
       "  <thead>\n",
       "    <tr style=\"text-align: right;\">\n",
       "      <th></th>\n",
       "      <th>yr_renovated</th>\n",
       "    </tr>\n",
       "  </thead>\n",
       "  <tbody>\n",
       "    <tr>\n",
       "      <th>0</th>\n",
       "      <td>1970-01-01 00:00:00.000000000</td>\n",
       "    </tr>\n",
       "    <tr>\n",
       "      <th>1</th>\n",
       "      <td>1970-01-01 00:00:00.000001991</td>\n",
       "    </tr>\n",
       "    <tr>\n",
       "      <th>2</th>\n",
       "      <td>1970-01-01 00:00:00.000000000</td>\n",
       "    </tr>\n",
       "    <tr>\n",
       "      <th>3</th>\n",
       "      <td>1970-01-01 00:00:00.000000000</td>\n",
       "    </tr>\n",
       "    <tr>\n",
       "      <th>4</th>\n",
       "      <td>1970-01-01 00:00:00.000000000</td>\n",
       "    </tr>\n",
       "    <tr>\n",
       "      <th>5</th>\n",
       "      <td>1970-01-01 00:00:00.000000000</td>\n",
       "    </tr>\n",
       "    <tr>\n",
       "      <th>6</th>\n",
       "      <td>1970-01-01 00:00:00.000000000</td>\n",
       "    </tr>\n",
       "    <tr>\n",
       "      <th>7</th>\n",
       "      <td>1970-01-01 00:00:00.000000000</td>\n",
       "    </tr>\n",
       "    <tr>\n",
       "      <th>8</th>\n",
       "      <td>1970-01-01 00:00:00.000000000</td>\n",
       "    </tr>\n",
       "    <tr>\n",
       "      <th>9</th>\n",
       "      <td>1970-01-01 00:00:00.000000000</td>\n",
       "    </tr>\n",
       "  </tbody>\n",
       "</table>\n",
       "</div>"
      ],
      "text/plain": [
       "                   yr_renovated\n",
       "0 1970-01-01 00:00:00.000000000\n",
       "1 1970-01-01 00:00:00.000001991\n",
       "2 1970-01-01 00:00:00.000000000\n",
       "3 1970-01-01 00:00:00.000000000\n",
       "4 1970-01-01 00:00:00.000000000\n",
       "5 1970-01-01 00:00:00.000000000\n",
       "6 1970-01-01 00:00:00.000000000\n",
       "7 1970-01-01 00:00:00.000000000\n",
       "8 1970-01-01 00:00:00.000000000\n",
       "9 1970-01-01 00:00:00.000000000"
      ]
     },
     "execution_count": 148,
     "metadata": {},
     "output_type": "execute_result"
    }
   ],
   "source": [
    "datahouses[['yr_renovated']].head(10)"
   ]
  },
  {
   "cell_type": "code",
   "execution_count": 149,
   "id": "83da847c",
   "metadata": {
    "ExecuteTime": {
     "end_time": "2021-10-31T22:04:57.051659Z",
     "start_time": "2021-10-31T22:04:57.020487Z"
    }
   },
   "outputs": [
    {
     "data": {
      "text/plain": [
       "id                           int64\n",
       "date                datetime64[ns]\n",
       "price                      float64\n",
       "bedrooms                     int64\n",
       "bathrooms                  float64\n",
       "sqft_living                  int64\n",
       "sqft_lot                     int64\n",
       "floors                     float64\n",
       "waterfront                   int64\n",
       "view                         int64\n",
       "condition                   object\n",
       "grade                        int64\n",
       "sqft_above                   int64\n",
       "sqft_basement                int64\n",
       "yr_built            datetime64[ns]\n",
       "yr_renovated        datetime64[ns]\n",
       "zipcode                      int64\n",
       "lat                        float64\n",
       "long                       float64\n",
       "house_age                   object\n",
       "dormitory_type              object\n",
       "conditional_type            object\n",
       "dtype: object"
      ]
     },
     "execution_count": 149,
     "metadata": {},
     "output_type": "execute_result"
    }
   ],
   "source": [
    "datahouses.dtypes"
   ]
  },
  {
   "cell_type": "markdown",
   "id": "0757e658",
   "metadata": {},
   "source": [
    "#### 8 - Qual a data mais antiga de construção de um imóvel?"
   ]
  },
  {
   "cell_type": "code",
   "execution_count": 150,
   "id": "985b649f",
   "metadata": {
    "ExecuteTime": {
     "end_time": "2021-10-31T22:04:57.161602Z",
     "start_time": "2021-10-31T22:04:57.130282Z"
    }
   },
   "outputs": [
    {
     "name": "stdout",
     "output_type": "stream",
     "text": [
      "A data de construção mais antiga é: 1970-01-01 00:00:00.000001955\n"
     ]
    }
   ],
   "source": [
    "old_data = datahouses[['id', 'yr_built']].sort_values( 'yr_built', ascending=False ).loc[0,'yr_built']\n",
    "print( 'A data de construção mais antiga é: {}'.format( old_data ) )"
   ]
  },
  {
   "cell_type": "code",
   "execution_count": 151,
   "id": "43b49ee2",
   "metadata": {
    "ExecuteTime": {
     "end_time": "2021-10-31T22:04:57.240157Z",
     "start_time": "2021-10-31T22:04:57.208480Z"
    }
   },
   "outputs": [
    {
     "name": "stdout",
     "output_type": "stream",
     "text": [
      "0       1970-01-01 00:00:00.000001955\n",
      "1       1970-01-01 00:00:00.000001951\n",
      "2       1970-01-01 00:00:00.000001933\n",
      "3       1970-01-01 00:00:00.000001965\n",
      "4       1970-01-01 00:00:00.000001987\n",
      "                     ...             \n",
      "21608   1970-01-01 00:00:00.000002009\n",
      "21609   1970-01-01 00:00:00.000002014\n",
      "21610   1970-01-01 00:00:00.000002009\n",
      "21611   1970-01-01 00:00:00.000002004\n",
      "21612   1970-01-01 00:00:00.000002008\n",
      "Name: yr_built, Length: 21613, dtype: datetime64[ns]\n"
     ]
    }
   ],
   "source": [
    "df = datahouses['yr_built']\n",
    "print(df)"
   ]
  },
  {
   "cell_type": "markdown",
   "id": "0cf77302",
   "metadata": {},
   "source": [
    "#### Ou modo mais pythonico"
   ]
  },
  {
   "cell_type": "code",
   "execution_count": 152,
   "id": "2a92cb63",
   "metadata": {
    "ExecuteTime": {
     "end_time": "2021-10-31T22:04:57.365651Z",
     "start_time": "2021-10-31T22:04:57.334370Z"
    }
   },
   "outputs": [
    {
     "data": {
      "text/plain": [
       "Timestamp('1970-01-01 00:00:00.000001900')"
      ]
     },
     "execution_count": 152,
     "metadata": {},
     "output_type": "execute_result"
    }
   ],
   "source": [
    "datahouses['yr_built'].min()"
   ]
  },
  {
   "cell_type": "markdown",
   "id": "d0c47417",
   "metadata": {},
   "source": [
    "#### 9 - Qual a data mais antiga de renovação de um imóvel?"
   ]
  },
  {
   "cell_type": "code",
   "execution_count": 153,
   "id": "33850631",
   "metadata": {
    "ExecuteTime": {
     "end_time": "2021-10-31T22:04:57.491098Z",
     "start_time": "2021-10-31T22:04:57.459882Z"
    }
   },
   "outputs": [
    {
     "name": "stdout",
     "output_type": "stream",
     "text": [
      "A data de renovação mais antiga é: 1970-01-01 00:00:00\n"
     ]
    }
   ],
   "source": [
    "old_data = datahouses[['id', 'yr_renovated']].sort_values( 'yr_renovated', ascending=False ).loc[0,'yr_renovated']\n",
    "print( 'A data de renovação mais antiga é: {}'.format( old_data ) )"
   ]
  },
  {
   "cell_type": "code",
   "execution_count": 154,
   "id": "a04c621b",
   "metadata": {
    "ExecuteTime": {
     "end_time": "2021-10-31T22:04:57.569647Z",
     "start_time": "2021-10-31T22:04:57.538398Z"
    }
   },
   "outputs": [
    {
     "name": "stdout",
     "output_type": "stream",
     "text": [
      "0       1970-01-01 00:00:00.000000000\n",
      "1       1970-01-01 00:00:00.000001991\n",
      "2       1970-01-01 00:00:00.000000000\n",
      "3       1970-01-01 00:00:00.000000000\n",
      "4       1970-01-01 00:00:00.000000000\n",
      "                     ...             \n",
      "21608   1970-01-01 00:00:00.000000000\n",
      "21609   1970-01-01 00:00:00.000000000\n",
      "21610   1970-01-01 00:00:00.000000000\n",
      "21611   1970-01-01 00:00:00.000000000\n",
      "21612   1970-01-01 00:00:00.000000000\n",
      "Name: yr_renovated, Length: 21613, dtype: datetime64[ns]\n"
     ]
    }
   ],
   "source": [
    "df = datahouses['yr_renovated']\n",
    "print(df)"
   ]
  },
  {
   "cell_type": "markdown",
   "id": "64e53095",
   "metadata": {},
   "source": [
    "#### Forma pythonica:"
   ]
  },
  {
   "cell_type": "code",
   "execution_count": 155,
   "id": "d6198c59",
   "metadata": {
    "ExecuteTime": {
     "end_time": "2021-10-31T22:04:57.726742Z",
     "start_time": "2021-10-31T22:04:57.695128Z"
    }
   },
   "outputs": [
    {
     "data": {
      "text/plain": [
       "Timestamp('1970-01-01 00:00:00')"
      ]
     },
     "execution_count": 155,
     "metadata": {},
     "output_type": "execute_result"
    }
   ],
   "source": [
    "datahouses.loc[datahouses['yr_renovated'] > pd.to_datetime('1900-01-01', format='%Y-%m-%d'), 'yr_renovated'].min()"
   ]
  },
  {
   "cell_type": "markdown",
   "id": "f9012ed3",
   "metadata": {},
   "source": [
    "#### 10 - Quantos imóveis tem 2 andares?\n"
   ]
  },
  {
   "cell_type": "code",
   "execution_count": 156,
   "id": "2051eb9f",
   "metadata": {
    "ExecuteTime": {
     "end_time": "2021-10-31T22:04:57.883435Z",
     "start_time": "2021-10-31T22:04:57.867815Z"
    }
   },
   "outputs": [
    {
     "data": {
      "text/plain": [
       "Index(['id', 'date', 'price', 'bedrooms', 'bathrooms', 'sqft_living',\n",
       "       'sqft_lot', 'floors', 'waterfront', 'view', 'condition', 'grade',\n",
       "       'sqft_above', 'sqft_basement', 'yr_built', 'yr_renovated', 'zipcode',\n",
       "       'lat', 'long', 'house_age', 'dormitory_type', 'conditional_type'],\n",
       "      dtype='object')"
      ]
     },
     "execution_count": 156,
     "metadata": {},
     "output_type": "execute_result"
    }
   ],
   "source": [
    "datahouses.columns"
   ]
  },
  {
   "cell_type": "code",
   "execution_count": 157,
   "id": "d0cfe96a",
   "metadata": {
    "ExecuteTime": {
     "end_time": "2021-10-31T22:04:57.993236Z",
     "start_time": "2021-10-31T22:04:57.977613Z"
    }
   },
   "outputs": [],
   "source": [
    "# no dataframe localizar quantos apartamentos existem com 2 andares sem mostrar indice\n",
    "df = datahouses.loc[datahouses['floors'] == 2, :]"
   ]
  },
  {
   "cell_type": "code",
   "execution_count": 158,
   "id": "31d79fc0",
   "metadata": {
    "ExecuteTime": {
     "end_time": "2021-10-31T22:04:58.087418Z",
     "start_time": "2021-10-31T22:04:58.056208Z"
    }
   },
   "outputs": [
    {
     "name": "stdout",
     "output_type": "stream",
     "text": [
      "8241\n"
     ]
    }
   ],
   "source": [
    "print(len(df))"
   ]
  },
  {
   "cell_type": "markdown",
   "id": "682dfca4",
   "metadata": {},
   "source": [
    "# Pythonismo"
   ]
  },
  {
   "cell_type": "code",
   "execution_count": 159,
   "id": "768f4f45",
   "metadata": {
    "ExecuteTime": {
     "end_time": "2021-10-31T22:04:58.228904Z",
     "start_time": "2021-10-31T22:04:58.197278Z"
    }
   },
   "outputs": [
    {
     "data": {
      "text/plain": [
       "8241"
      ]
     },
     "execution_count": 159,
     "metadata": {},
     "output_type": "execute_result"
    }
   ],
   "source": [
    "datahouses.loc[datahouses['floors'] == 2, 'id'].size"
   ]
  },
  {
   "cell_type": "markdown",
   "id": "48ef0f9e",
   "metadata": {},
   "source": [
    "#### 11 - Quantos imóveis estão com a condição igual a “regular” ?\n"
   ]
  },
  {
   "cell_type": "code",
   "execution_count": 160,
   "id": "a314f401",
   "metadata": {
    "ExecuteTime": {
     "end_time": "2021-10-31T22:04:58.385588Z",
     "start_time": "2021-10-31T22:04:58.354334Z"
    }
   },
   "outputs": [],
   "source": [
    "df = datahouses.loc[datahouses['conditional_type'] == 'regular', :]"
   ]
  },
  {
   "cell_type": "code",
   "execution_count": 161,
   "id": "169d8ac8",
   "metadata": {
    "ExecuteTime": {
     "end_time": "2021-10-31T22:04:58.479773Z",
     "start_time": "2021-10-31T22:04:58.464150Z"
    }
   },
   "outputs": [
    {
     "name": "stdout",
     "output_type": "stream",
     "text": [
      "19710\n"
     ]
    }
   ],
   "source": [
    "print(len(df))"
   ]
  },
  {
   "cell_type": "markdown",
   "id": "6dbd913e",
   "metadata": {},
   "source": [
    "#### Ou"
   ]
  },
  {
   "cell_type": "code",
   "execution_count": 162,
   "id": "e047448a",
   "metadata": {
    "ExecuteTime": {
     "end_time": "2021-10-31T22:04:59.121969Z",
     "start_time": "2021-10-31T22:04:59.090809Z"
    }
   },
   "outputs": [
    {
     "data": {
      "text/plain": [
       "19710"
      ]
     },
     "execution_count": 162,
     "metadata": {},
     "output_type": "execute_result"
    }
   ],
   "source": [
    "datahouses.loc[datahouses['conditional_type'] == 'regular', 'id'].size"
   ]
  },
  {
   "cell_type": "markdown",
   "id": "1c6b1d76",
   "metadata": {},
   "source": [
    "#### 12 - Quantos imóveis estão com a condição igual a “bad”e possuem “vista para água” ?\n"
   ]
  },
  {
   "cell_type": "code",
   "execution_count": 163,
   "id": "47b19760",
   "metadata": {
    "ExecuteTime": {
     "end_time": "2021-10-31T22:04:59.670505Z",
     "start_time": "2021-10-31T22:04:59.639241Z"
    }
   },
   "outputs": [],
   "source": [
    "df = datahouses.loc[(datahouses['conditional_type'] == 'bad') & (datahouses['waterfront'] == '1'), :]"
   ]
  },
  {
   "cell_type": "markdown",
   "id": "52d904b0",
   "metadata": {},
   "source": [
    "# Entender o porque está dando valor 0 em uma das formas"
   ]
  },
  {
   "cell_type": "code",
   "execution_count": 164,
   "id": "8757d225",
   "metadata": {
    "ExecuteTime": {
     "end_time": "2021-10-31T22:04:59.795968Z",
     "start_time": "2021-10-31T22:04:59.764730Z"
    }
   },
   "outputs": [
    {
     "name": "stdout",
     "output_type": "stream",
     "text": [
      "0\n"
     ]
    }
   ],
   "source": [
    "print(len(df)) "
   ]
  },
  {
   "cell_type": "markdown",
   "id": "b0d37569",
   "metadata": {},
   "source": [
    "#### Ou"
   ]
  },
  {
   "cell_type": "code",
   "execution_count": 165,
   "id": "6f6b69e3",
   "metadata": {
    "ExecuteTime": {
     "end_time": "2021-10-31T22:04:59.920965Z",
     "start_time": "2021-10-31T22:04:59.889718Z"
    }
   },
   "outputs": [],
   "source": [
    "df = datahouses.loc[(datahouses['conditional_type'] == 'bad') & (datahouses['waterfront'] == 1), :].shape[0]"
   ]
  },
  {
   "cell_type": "code",
   "execution_count": 166,
   "id": "8325e738",
   "metadata": {
    "ExecuteTime": {
     "end_time": "2021-10-31T22:04:59.999513Z",
     "start_time": "2021-10-31T22:04:59.983891Z"
    }
   },
   "outputs": [
    {
     "name": "stdout",
     "output_type": "stream",
     "text": [
      "2\n"
     ]
    }
   ],
   "source": [
    "print(df)"
   ]
  },
  {
   "cell_type": "code",
   "execution_count": 167,
   "id": "821ad929",
   "metadata": {
    "ExecuteTime": {
     "end_time": "2021-10-31T22:05:00.093726Z",
     "start_time": "2021-10-31T22:05:00.078098Z"
    }
   },
   "outputs": [
    {
     "data": {
      "text/plain": [
       "2"
      ]
     },
     "execution_count": 167,
     "metadata": {},
     "output_type": "execute_result"
    }
   ],
   "source": [
    "datahouses.loc[(datahouses['conditional_type'] == 'bad') & (datahouses['waterfront'] == 1), 'id'].size"
   ]
  },
  {
   "cell_type": "markdown",
   "id": "349c80ab",
   "metadata": {},
   "source": [
    "#### 13 - Quantos imóveis estão com a condição igual a “good” e são “new_house”?\n"
   ]
  },
  {
   "cell_type": "code",
   "execution_count": 168,
   "id": "db445f16",
   "metadata": {
    "ExecuteTime": {
     "end_time": "2021-10-31T22:05:00.219168Z",
     "start_time": "2021-10-31T22:05:00.203545Z"
    }
   },
   "outputs": [],
   "source": [
    "df = datahouses.loc[(datahouses['conditional_type'] == 'good') & (datahouses['house_age'] == 'new_house'), :].shape[0]"
   ]
  },
  {
   "cell_type": "code",
   "execution_count": 169,
   "id": "846c1630",
   "metadata": {
    "ExecuteTime": {
     "end_time": "2021-10-31T22:05:00.329366Z",
     "start_time": "2021-10-31T22:05:00.313339Z"
    }
   },
   "outputs": [
    {
     "name": "stdout",
     "output_type": "stream",
     "text": [
      "1701\n"
     ]
    }
   ],
   "source": [
    "print(df)"
   ]
  },
  {
   "cell_type": "code",
   "execution_count": 170,
   "id": "1f6b5045",
   "metadata": {
    "ExecuteTime": {
     "end_time": "2021-10-31T22:05:00.423132Z",
     "start_time": "2021-10-31T22:05:00.391920Z"
    }
   },
   "outputs": [
    {
     "data": {
      "text/plain": [
       "1701"
      ]
     },
     "execution_count": 170,
     "metadata": {},
     "output_type": "execute_result"
    }
   ],
   "source": [
    "datahouses.loc[(datahouses['conditional_type'] == 'good') & (datahouses['house_age'] == 'new_house'), 'id'].size"
   ]
  },
  {
   "cell_type": "markdown",
   "id": "8e258511",
   "metadata": {},
   "source": [
    "#### 14 - Qual o valor do imóvel mais caro do tipo “studio” ?"
   ]
  },
  {
   "cell_type": "code",
   "execution_count": 171,
   "id": "68bb664f",
   "metadata": {
    "ExecuteTime": {
     "end_time": "2021-10-31T22:05:00.643157Z",
     "start_time": "2021-10-31T22:05:00.564621Z"
    }
   },
   "outputs": [
    {
     "data": {
      "text/html": [
       "<div>\n",
       "<style scoped>\n",
       "    .dataframe tbody tr th:only-of-type {\n",
       "        vertical-align: middle;\n",
       "    }\n",
       "\n",
       "    .dataframe tbody tr th {\n",
       "        vertical-align: top;\n",
       "    }\n",
       "\n",
       "    .dataframe thead th {\n",
       "        text-align: right;\n",
       "    }\n",
       "</style>\n",
       "<table border=\"1\" class=\"dataframe\">\n",
       "  <thead>\n",
       "    <tr style=\"text-align: right;\">\n",
       "      <th></th>\n",
       "      <th>id</th>\n",
       "      <th>date</th>\n",
       "      <th>price</th>\n",
       "      <th>bedrooms</th>\n",
       "      <th>bathrooms</th>\n",
       "      <th>sqft_living</th>\n",
       "      <th>sqft_lot</th>\n",
       "      <th>floors</th>\n",
       "      <th>waterfront</th>\n",
       "      <th>view</th>\n",
       "      <th>...</th>\n",
       "      <th>sqft_above</th>\n",
       "      <th>sqft_basement</th>\n",
       "      <th>yr_built</th>\n",
       "      <th>yr_renovated</th>\n",
       "      <th>zipcode</th>\n",
       "      <th>lat</th>\n",
       "      <th>long</th>\n",
       "      <th>house_age</th>\n",
       "      <th>dormitory_type</th>\n",
       "      <th>conditional_type</th>\n",
       "    </tr>\n",
       "  </thead>\n",
       "  <tbody>\n",
       "    <tr>\n",
       "      <th>0</th>\n",
       "      <td>7129300520</td>\n",
       "      <td>2014-10-13</td>\n",
       "      <td>221900.0</td>\n",
       "      <td>3</td>\n",
       "      <td>1.00</td>\n",
       "      <td>1180</td>\n",
       "      <td>5650</td>\n",
       "      <td>1.0</td>\n",
       "      <td>0</td>\n",
       "      <td>0</td>\n",
       "      <td>...</td>\n",
       "      <td>1180</td>\n",
       "      <td>0</td>\n",
       "      <td>1970-01-01 00:00:00.000001955</td>\n",
       "      <td>1970-01-01 00:00:00.000000000</td>\n",
       "      <td>98178</td>\n",
       "      <td>47.5112</td>\n",
       "      <td>-122.257</td>\n",
       "      <td>new_house</td>\n",
       "      <td>house</td>\n",
       "      <td>regular</td>\n",
       "    </tr>\n",
       "    <tr>\n",
       "      <th>1</th>\n",
       "      <td>6414100192</td>\n",
       "      <td>2014-12-09</td>\n",
       "      <td>538000.0</td>\n",
       "      <td>3</td>\n",
       "      <td>2.25</td>\n",
       "      <td>2570</td>\n",
       "      <td>7242</td>\n",
       "      <td>2.0</td>\n",
       "      <td>0</td>\n",
       "      <td>0</td>\n",
       "      <td>...</td>\n",
       "      <td>2170</td>\n",
       "      <td>400</td>\n",
       "      <td>1970-01-01 00:00:00.000001951</td>\n",
       "      <td>1970-01-01 00:00:00.000001991</td>\n",
       "      <td>98125</td>\n",
       "      <td>47.7210</td>\n",
       "      <td>-122.319</td>\n",
       "      <td>new_house</td>\n",
       "      <td>house</td>\n",
       "      <td>regular</td>\n",
       "    </tr>\n",
       "    <tr>\n",
       "      <th>2</th>\n",
       "      <td>5631500400</td>\n",
       "      <td>2015-02-25</td>\n",
       "      <td>180000.0</td>\n",
       "      <td>2</td>\n",
       "      <td>1.00</td>\n",
       "      <td>770</td>\n",
       "      <td>10000</td>\n",
       "      <td>1.0</td>\n",
       "      <td>0</td>\n",
       "      <td>0</td>\n",
       "      <td>...</td>\n",
       "      <td>770</td>\n",
       "      <td>0</td>\n",
       "      <td>1970-01-01 00:00:00.000001933</td>\n",
       "      <td>1970-01-01 00:00:00.000000000</td>\n",
       "      <td>98028</td>\n",
       "      <td>47.7379</td>\n",
       "      <td>-122.233</td>\n",
       "      <td>new_house</td>\n",
       "      <td>apartament</td>\n",
       "      <td>regular</td>\n",
       "    </tr>\n",
       "    <tr>\n",
       "      <th>3</th>\n",
       "      <td>2487200875</td>\n",
       "      <td>2014-12-09</td>\n",
       "      <td>604000.0</td>\n",
       "      <td>4</td>\n",
       "      <td>3.00</td>\n",
       "      <td>1960</td>\n",
       "      <td>5000</td>\n",
       "      <td>1.0</td>\n",
       "      <td>0</td>\n",
       "      <td>0</td>\n",
       "      <td>...</td>\n",
       "      <td>1050</td>\n",
       "      <td>910</td>\n",
       "      <td>1970-01-01 00:00:00.000001965</td>\n",
       "      <td>1970-01-01 00:00:00.000000000</td>\n",
       "      <td>98136</td>\n",
       "      <td>47.5208</td>\n",
       "      <td>-122.393</td>\n",
       "      <td>new_house</td>\n",
       "      <td>house</td>\n",
       "      <td>good</td>\n",
       "    </tr>\n",
       "    <tr>\n",
       "      <th>4</th>\n",
       "      <td>1954400510</td>\n",
       "      <td>2015-02-18</td>\n",
       "      <td>510000.0</td>\n",
       "      <td>3</td>\n",
       "      <td>2.00</td>\n",
       "      <td>1680</td>\n",
       "      <td>8080</td>\n",
       "      <td>1.0</td>\n",
       "      <td>0</td>\n",
       "      <td>0</td>\n",
       "      <td>...</td>\n",
       "      <td>1680</td>\n",
       "      <td>0</td>\n",
       "      <td>1970-01-01 00:00:00.000001987</td>\n",
       "      <td>1970-01-01 00:00:00.000000000</td>\n",
       "      <td>98074</td>\n",
       "      <td>47.6168</td>\n",
       "      <td>-122.045</td>\n",
       "      <td>new_house</td>\n",
       "      <td>house</td>\n",
       "      <td>regular</td>\n",
       "    </tr>\n",
       "  </tbody>\n",
       "</table>\n",
       "<p>5 rows × 22 columns</p>\n",
       "</div>"
      ],
      "text/plain": [
       "           id       date     price  bedrooms  bathrooms  sqft_living  \\\n",
       "0  7129300520 2014-10-13  221900.0         3       1.00         1180   \n",
       "1  6414100192 2014-12-09  538000.0         3       2.25         2570   \n",
       "2  5631500400 2015-02-25  180000.0         2       1.00          770   \n",
       "3  2487200875 2014-12-09  604000.0         4       3.00         1960   \n",
       "4  1954400510 2015-02-18  510000.0         3       2.00         1680   \n",
       "\n",
       "   sqft_lot  floors  waterfront  view  ... sqft_above  sqft_basement  \\\n",
       "0      5650     1.0           0     0  ...       1180              0   \n",
       "1      7242     2.0           0     0  ...       2170            400   \n",
       "2     10000     1.0           0     0  ...        770              0   \n",
       "3      5000     1.0           0     0  ...       1050            910   \n",
       "4      8080     1.0           0     0  ...       1680              0   \n",
       "\n",
       "                       yr_built                  yr_renovated zipcode  \\\n",
       "0 1970-01-01 00:00:00.000001955 1970-01-01 00:00:00.000000000   98178   \n",
       "1 1970-01-01 00:00:00.000001951 1970-01-01 00:00:00.000001991   98125   \n",
       "2 1970-01-01 00:00:00.000001933 1970-01-01 00:00:00.000000000   98028   \n",
       "3 1970-01-01 00:00:00.000001965 1970-01-01 00:00:00.000000000   98136   \n",
       "4 1970-01-01 00:00:00.000001987 1970-01-01 00:00:00.000000000   98074   \n",
       "\n",
       "       lat     long  house_age  dormitory_type conditional_type  \n",
       "0  47.5112 -122.257  new_house           house          regular  \n",
       "1  47.7210 -122.319  new_house           house          regular  \n",
       "2  47.7379 -122.233  new_house      apartament          regular  \n",
       "3  47.5208 -122.393  new_house           house             good  \n",
       "4  47.6168 -122.045  new_house           house          regular  \n",
       "\n",
       "[5 rows x 22 columns]"
      ]
     },
     "execution_count": 171,
     "metadata": {},
     "output_type": "execute_result"
    }
   ],
   "source": [
    "datahouses.head(5)"
   ]
  },
  {
   "cell_type": "code",
   "execution_count": 172,
   "id": "5e7ae5ab",
   "metadata": {
    "ExecuteTime": {
     "end_time": "2021-10-31T22:05:00.737343Z",
     "start_time": "2021-10-31T22:05:00.705673Z"
    }
   },
   "outputs": [
    {
     "name": "stdout",
     "output_type": "stream",
     "text": [
      "199\n"
     ]
    }
   ],
   "source": [
    "datahouses2 = datahouses[['id','price','dormitory_type']]\n",
    "# Linha abaixo apenas para contar quantos existem.\n",
    "df_studio_price = datahouses2.loc[datahouses2['dormitory_type'] == 'studio', :].shape[0]\n",
    "# Linha abaixo apenas para fazer o print da coluna e ordenar do maior valor ao menor e também utilizar em uma diferente for\n",
    "# de busca.\n",
    "df_studio_price_all = datahouses2.loc[datahouses2['dormitory_type'] == 'studio', :]\n",
    "print(df_studio_price)"
   ]
  },
  {
   "cell_type": "code",
   "execution_count": 173,
   "id": "a121ec7b",
   "metadata": {
    "ExecuteTime": {
     "end_time": "2021-10-31T22:05:00.847162Z",
     "start_time": "2021-10-31T22:05:00.799866Z"
    }
   },
   "outputs": [
    {
     "data": {
      "text/html": [
       "<div>\n",
       "<style scoped>\n",
       "    .dataframe tbody tr th:only-of-type {\n",
       "        vertical-align: middle;\n",
       "    }\n",
       "\n",
       "    .dataframe tbody tr th {\n",
       "        vertical-align: top;\n",
       "    }\n",
       "\n",
       "    .dataframe thead th {\n",
       "        text-align: right;\n",
       "    }\n",
       "</style>\n",
       "<table border=\"1\" class=\"dataframe\">\n",
       "  <thead>\n",
       "    <tr style=\"text-align: right;\">\n",
       "      <th></th>\n",
       "      <th>id</th>\n",
       "      <th>price</th>\n",
       "      <th>dormitory_type</th>\n",
       "    </tr>\n",
       "  </thead>\n",
       "  <tbody>\n",
       "    <tr>\n",
       "      <th>8445</th>\n",
       "      <td>724069023</td>\n",
       "      <td>1247000.0</td>\n",
       "      <td>studio</td>\n",
       "    </tr>\n",
       "    <tr>\n",
       "      <th>9888</th>\n",
       "      <td>1231000310</td>\n",
       "      <td>713000.0</td>\n",
       "      <td>studio</td>\n",
       "    </tr>\n",
       "    <tr>\n",
       "      <th>4410</th>\n",
       "      <td>4083304190</td>\n",
       "      <td>680000.0</td>\n",
       "      <td>studio</td>\n",
       "    </tr>\n",
       "    <tr>\n",
       "      <th>8165</th>\n",
       "      <td>1797500530</td>\n",
       "      <td>655100.0</td>\n",
       "      <td>studio</td>\n",
       "    </tr>\n",
       "    <tr>\n",
       "      <th>19273</th>\n",
       "      <td>9164100035</td>\n",
       "      <td>655000.0</td>\n",
       "      <td>studio</td>\n",
       "    </tr>\n",
       "    <tr>\n",
       "      <th>...</th>\n",
       "      <td>...</td>\n",
       "      <td>...</td>\n",
       "      <td>...</td>\n",
       "    </tr>\n",
       "    <tr>\n",
       "      <th>16530</th>\n",
       "      <td>2114700500</td>\n",
       "      <td>90000.0</td>\n",
       "      <td>studio</td>\n",
       "    </tr>\n",
       "    <tr>\n",
       "      <th>7992</th>\n",
       "      <td>2734100835</td>\n",
       "      <td>90000.0</td>\n",
       "      <td>studio</td>\n",
       "    </tr>\n",
       "    <tr>\n",
       "      <th>3108</th>\n",
       "      <td>1721801591</td>\n",
       "      <td>89950.0</td>\n",
       "      <td>studio</td>\n",
       "    </tr>\n",
       "    <tr>\n",
       "      <th>465</th>\n",
       "      <td>8658300340</td>\n",
       "      <td>80000.0</td>\n",
       "      <td>studio</td>\n",
       "    </tr>\n",
       "    <tr>\n",
       "      <th>1149</th>\n",
       "      <td>3421079032</td>\n",
       "      <td>75000.0</td>\n",
       "      <td>studio</td>\n",
       "    </tr>\n",
       "  </tbody>\n",
       "</table>\n",
       "<p>199 rows × 3 columns</p>\n",
       "</div>"
      ],
      "text/plain": [
       "               id      price dormitory_type\n",
       "8445    724069023  1247000.0         studio\n",
       "9888   1231000310   713000.0         studio\n",
       "4410   4083304190   680000.0         studio\n",
       "8165   1797500530   655100.0         studio\n",
       "19273  9164100035   655000.0         studio\n",
       "...           ...        ...            ...\n",
       "16530  2114700500    90000.0         studio\n",
       "7992   2734100835    90000.0         studio\n",
       "3108   1721801591    89950.0         studio\n",
       "465    8658300340    80000.0         studio\n",
       "1149   3421079032    75000.0         studio\n",
       "\n",
       "[199 rows x 3 columns]"
      ]
     },
     "execution_count": 173,
     "metadata": {},
     "output_type": "execute_result"
    }
   ],
   "source": [
    "df_studio_price_all.sort_values(by='price', ascending=False)"
   ]
  },
  {
   "cell_type": "code",
   "execution_count": 174,
   "id": "2aa7d7fc",
   "metadata": {
    "ExecuteTime": {
     "end_time": "2021-10-31T22:05:00.925288Z",
     "start_time": "2021-10-31T22:05:00.894042Z"
    }
   },
   "outputs": [
    {
     "name": "stdout",
     "output_type": "stream",
     "text": [
      "O valor maior para imoveis do tipo stuidio é: 724069023\n"
     ]
    }
   ],
   "source": [
    "df = df_studio_price_all[['id', 'price']].sort_values( 'price', ascending=False )\n",
    "print( 'O valor maior para imoveis do tipo stuidio é: {}'.format( df.iloc[0, 0] ) )"
   ]
  },
  {
   "cell_type": "markdown",
   "id": "a7d79fe4",
   "metadata": {},
   "source": [
    "# Pythonico"
   ]
  },
  {
   "cell_type": "code",
   "execution_count": 175,
   "id": "32f84d35",
   "metadata": {
    "ExecuteTime": {
     "end_time": "2021-10-31T22:05:01.051339Z",
     "start_time": "2021-10-31T22:05:01.035570Z"
    }
   },
   "outputs": [
    {
     "data": {
      "text/plain": [
       "1247000.0"
      ]
     },
     "execution_count": 175,
     "metadata": {},
     "output_type": "execute_result"
    }
   ],
   "source": [
    "datahouses.loc[datahouses['dormitory_type'] == 'studio', 'price'].max()"
   ]
  },
  {
   "cell_type": "markdown",
   "id": "934d9d15",
   "metadata": {},
   "source": [
    "#### 15 - Quantos imóveis do tipo “apartment” foram reformados em 2015 ?"
   ]
  },
  {
   "cell_type": "code",
   "execution_count": 176,
   "id": "f85800f4",
   "metadata": {
    "ExecuteTime": {
     "end_time": "2021-10-31T22:05:01.207973Z",
     "start_time": "2021-10-31T22:05:01.176765Z"
    }
   },
   "outputs": [
    {
     "data": {
      "text/plain": [
       "id                           int64\n",
       "date                datetime64[ns]\n",
       "price                      float64\n",
       "bedrooms                     int64\n",
       "bathrooms                  float64\n",
       "sqft_living                  int64\n",
       "sqft_lot                     int64\n",
       "floors                     float64\n",
       "waterfront                   int64\n",
       "view                         int64\n",
       "condition                   object\n",
       "grade                        int64\n",
       "sqft_above                   int64\n",
       "sqft_basement                int64\n",
       "yr_built            datetime64[ns]\n",
       "yr_renovated        datetime64[ns]\n",
       "zipcode                      int64\n",
       "lat                        float64\n",
       "long                       float64\n",
       "house_age                   object\n",
       "dormitory_type              object\n",
       "conditional_type            object\n",
       "dtype: object"
      ]
     },
     "execution_count": 176,
     "metadata": {},
     "output_type": "execute_result"
    }
   ],
   "source": [
    "datahouses.dtypes"
   ]
  },
  {
   "cell_type": "code",
   "execution_count": 177,
   "id": "5ed56d6c",
   "metadata": {
    "ExecuteTime": {
     "end_time": "2021-10-31T22:05:01.286529Z",
     "start_time": "2021-10-31T22:05:01.270899Z"
    }
   },
   "outputs": [
    {
     "name": "stdout",
     "output_type": "stream",
     "text": [
      "0\n"
     ]
    }
   ],
   "source": [
    "## dormitory_type representa o tipo de imovel e yr_renovated quando foram renovados\n",
    "df = datahouses.loc[(datahouses['dormitory_type'] == 'apartament') & (datahouses['yr_renovated'] >= '2015-01-01') & (datahouses['yr_renovated'] <= '2015-12-31'), :]\n",
    "print(len(df))"
   ]
  },
  {
   "cell_type": "code",
   "execution_count": 178,
   "id": "d4d47236",
   "metadata": {
    "ExecuteTime": {
     "end_time": "2021-10-31T22:05:01.380722Z",
     "start_time": "2021-10-31T22:05:01.365099Z"
    }
   },
   "outputs": [
    {
     "data": {
      "text/plain": [
       "0"
      ]
     },
     "execution_count": 178,
     "metadata": {},
     "output_type": "execute_result"
    }
   ],
   "source": [
    "datahouses.loc[datahouses['yr_renovated'] == pd.to_datetime('2015-01-01'), 'id'].size"
   ]
  },
  {
   "cell_type": "code",
   "execution_count": 179,
   "id": "539bf306",
   "metadata": {
    "ExecuteTime": {
     "end_time": "2021-10-31T22:05:01.474967Z",
     "start_time": "2021-10-31T22:05:01.443697Z"
    }
   },
   "outputs": [
    {
     "data": {
      "text/plain": [
       "0"
      ]
     },
     "execution_count": 179,
     "metadata": {},
     "output_type": "execute_result"
    }
   ],
   "source": [
    "datahouses.loc[datahouses['yr_renovated'] == pd.to_datetime('2015-01-01'), 'id'].size"
   ]
  },
  {
   "cell_type": "markdown",
   "id": "22b468f0",
   "metadata": {},
   "source": [
    "#### 16 - Qual o maior número de quartos que um imóveis do tipo “house” possui ?"
   ]
  },
  {
   "cell_type": "code",
   "execution_count": 180,
   "id": "e6d56799",
   "metadata": {
    "ExecuteTime": {
     "end_time": "2021-10-31T22:05:02.433075Z",
     "start_time": "2021-10-31T22:05:02.401970Z"
    }
   },
   "outputs": [
    {
     "name": "stdout",
     "output_type": "stream",
     "text": [
      "               id  bedrooms dormitory_type\n",
      "15870  2402100895        33          house\n",
      "8757   1773100755        11          house\n",
      "13314   627300145        10          house\n",
      "19254  8812401450        10          house\n",
      "15161  5566100170        10          house\n",
      "...           ...       ...            ...\n",
      "9398   9287800375         3          house\n",
      "9400   2407000145         3          house\n",
      "9401    452001280         3          house\n",
      "9403   4232901120         3          house\n",
      "21611   291310100         3          house\n",
      "\n",
      "[18641 rows x 3 columns]\n"
     ]
    }
   ],
   "source": [
    "df_more_bedrooms = datahouses.loc[datahouses2['dormitory_type'] == 'house', :]\n",
    "df = df_more_bedrooms[['id', 'bedrooms', 'dormitory_type']].sort_values( 'bedrooms', ascending=False )\n",
    "print(df) "
   ]
  },
  {
   "cell_type": "markdown",
   "id": "717e2020",
   "metadata": {
    "ExecuteTime": {
     "end_time": "2021-10-31T21:36:54.962414Z",
     "start_time": "2021-10-31T21:36:54.946756Z"
    }
   },
   "source": [
    "#### Ou"
   ]
  },
  {
   "cell_type": "code",
   "execution_count": 181,
   "id": "2ecc8adb",
   "metadata": {
    "ExecuteTime": {
     "end_time": "2021-10-31T22:05:02.574333Z",
     "start_time": "2021-10-31T22:05:02.543066Z"
    }
   },
   "outputs": [
    {
     "data": {
      "text/plain": [
       "33"
      ]
     },
     "execution_count": 181,
     "metadata": {},
     "output_type": "execute_result"
    }
   ],
   "source": [
    "datahouses.loc[datahouses['dormitory_type'] == 'house', 'bedrooms'].max()"
   ]
  },
  {
   "cell_type": "markdown",
   "id": "b660ce9d",
   "metadata": {},
   "source": [
    "#### 17 - Quantos imóveis “new_house” foram reformados no ano de 2014?"
   ]
  },
  {
   "cell_type": "code",
   "execution_count": 182,
   "id": "636a7c7c",
   "metadata": {
    "ExecuteTime": {
     "end_time": "2021-10-31T22:05:02.731127Z",
     "start_time": "2021-10-31T22:05:02.699966Z"
    }
   },
   "outputs": [
    {
     "name": "stdout",
     "output_type": "stream",
     "text": [
      "0\n"
     ]
    }
   ],
   "source": [
    "## dormitory_type representa o tipo de imovel e yr_renovated quando foram renovados\n",
    "df = datahouses.loc[(datahouses['house_age'] == 'new_house') & (datahouses['yr_renovated'] >= '2014-01-01') & (datahouses['yr_renovated'] <= '2014-12-31'), :]\n",
    "print(len(df))"
   ]
  },
  {
   "cell_type": "code",
   "execution_count": 183,
   "id": "b01d65cc",
   "metadata": {
    "ExecuteTime": {
     "end_time": "2021-10-31T22:05:02.841406Z",
     "start_time": "2021-10-31T22:05:02.809835Z"
    }
   },
   "outputs": [
    {
     "name": "stdout",
     "output_type": "stream",
     "text": [
      "0\n"
     ]
    }
   ],
   "source": [
    "## dormitory_type representa o tipo de imovel e yr_renovated quando foram renovados\n",
    "df = datahouses.loc[(datahouses['house_age'] == 'new_house') & (datahouses['yr_renovated'].dt.year >= 2014), :]\n",
    "print(len(df))"
   ]
  },
  {
   "cell_type": "code",
   "execution_count": 184,
   "id": "be289e5d",
   "metadata": {
    "ExecuteTime": {
     "end_time": "2021-10-31T22:05:02.935619Z",
     "start_time": "2021-10-31T22:05:02.904060Z"
    }
   },
   "outputs": [
    {
     "data": {
      "text/plain": [
       "0"
      ]
     },
     "execution_count": 184,
     "metadata": {},
     "output_type": "execute_result"
    }
   ],
   "source": [
    "datahouses.loc[(datahouses['house_age'] == 'new_house') & \n",
    "               (datahouses['yr_renovated'] == pd.to_datetime('2014-01-01', format='%Y-%m-%d')), 'id'].size"
   ]
  },
  {
   "cell_type": "markdown",
   "id": "29b84134",
   "metadata": {},
   "source": [
    "#### 18 - Selecione as colunas: “id”, “date”, “price”, “floors”, “zipcode” pelo método:\n",
    "\n",
    "###### Direto pelo nome das colunas.\n",
    "###### Pelos Índices.\n",
    "###### Pelos Índices das linhas e o nome das colunas\n",
    "###### Índices Booleanos"
   ]
  },
  {
   "cell_type": "code",
   "execution_count": 185,
   "id": "d37b7085",
   "metadata": {
    "ExecuteTime": {
     "end_time": "2021-10-31T22:05:03.076682Z",
     "start_time": "2021-10-31T22:05:03.045411Z"
    }
   },
   "outputs": [
    {
     "name": "stdout",
     "output_type": "stream",
     "text": [
      "               id       date     price  floors  zipcode\n",
      "0      7129300520 2014-10-13  221900.0     1.0    98178\n",
      "1      6414100192 2014-12-09  538000.0     2.0    98125\n",
      "2      5631500400 2015-02-25  180000.0     1.0    98028\n",
      "3      2487200875 2014-12-09  604000.0     1.0    98136\n",
      "4      1954400510 2015-02-18  510000.0     1.0    98074\n",
      "...           ...        ...       ...     ...      ...\n",
      "21608   263000018 2014-05-21  360000.0     3.0    98103\n",
      "21609  6600060120 2015-02-23  400000.0     2.0    98146\n",
      "21610  1523300141 2014-06-23  402101.0     2.0    98144\n",
      "21611   291310100 2015-01-16  400000.0     2.0    98027\n",
      "21612  1523300157 2014-10-15  325000.0     2.0    98144\n",
      "\n",
      "[21613 rows x 5 columns]\n"
     ]
    }
   ],
   "source": [
    "df1 = datahouses[['id', 'date', 'price', 'floors', 'zipcode']]\n",
    "print(df1)"
   ]
  },
  {
   "cell_type": "code",
   "execution_count": 186,
   "id": "c089dd37",
   "metadata": {
    "ExecuteTime": {
     "end_time": "2021-10-31T22:05:03.390929Z",
     "start_time": "2021-10-31T22:05:03.359709Z"
    }
   },
   "outputs": [
    {
     "data": {
      "text/html": [
       "<div>\n",
       "<style scoped>\n",
       "    .dataframe tbody tr th:only-of-type {\n",
       "        vertical-align: middle;\n",
       "    }\n",
       "\n",
       "    .dataframe tbody tr th {\n",
       "        vertical-align: top;\n",
       "    }\n",
       "\n",
       "    .dataframe thead th {\n",
       "        text-align: right;\n",
       "    }\n",
       "</style>\n",
       "<table border=\"1\" class=\"dataframe\">\n",
       "  <thead>\n",
       "    <tr style=\"text-align: right;\">\n",
       "      <th></th>\n",
       "      <th>id</th>\n",
       "      <th>date</th>\n",
       "      <th>price</th>\n",
       "      <th>floors</th>\n",
       "      <th>zipcode</th>\n",
       "    </tr>\n",
       "  </thead>\n",
       "  <tbody>\n",
       "    <tr>\n",
       "      <th>0</th>\n",
       "      <td>7129300520</td>\n",
       "      <td>2014-10-13</td>\n",
       "      <td>221900.0</td>\n",
       "      <td>1.0</td>\n",
       "      <td>98178</td>\n",
       "    </tr>\n",
       "    <tr>\n",
       "      <th>1</th>\n",
       "      <td>6414100192</td>\n",
       "      <td>2014-12-09</td>\n",
       "      <td>538000.0</td>\n",
       "      <td>2.0</td>\n",
       "      <td>98125</td>\n",
       "    </tr>\n",
       "    <tr>\n",
       "      <th>2</th>\n",
       "      <td>5631500400</td>\n",
       "      <td>2015-02-25</td>\n",
       "      <td>180000.0</td>\n",
       "      <td>1.0</td>\n",
       "      <td>98028</td>\n",
       "    </tr>\n",
       "    <tr>\n",
       "      <th>3</th>\n",
       "      <td>2487200875</td>\n",
       "      <td>2014-12-09</td>\n",
       "      <td>604000.0</td>\n",
       "      <td>1.0</td>\n",
       "      <td>98136</td>\n",
       "    </tr>\n",
       "    <tr>\n",
       "      <th>4</th>\n",
       "      <td>1954400510</td>\n",
       "      <td>2015-02-18</td>\n",
       "      <td>510000.0</td>\n",
       "      <td>1.0</td>\n",
       "      <td>98074</td>\n",
       "    </tr>\n",
       "    <tr>\n",
       "      <th>5</th>\n",
       "      <td>7237550310</td>\n",
       "      <td>2014-05-12</td>\n",
       "      <td>1225000.0</td>\n",
       "      <td>1.0</td>\n",
       "      <td>98053</td>\n",
       "    </tr>\n",
       "    <tr>\n",
       "      <th>6</th>\n",
       "      <td>1321400060</td>\n",
       "      <td>2014-06-27</td>\n",
       "      <td>257500.0</td>\n",
       "      <td>2.0</td>\n",
       "      <td>98003</td>\n",
       "    </tr>\n",
       "    <tr>\n",
       "      <th>7</th>\n",
       "      <td>2008000270</td>\n",
       "      <td>2015-01-15</td>\n",
       "      <td>291850.0</td>\n",
       "      <td>1.0</td>\n",
       "      <td>98198</td>\n",
       "    </tr>\n",
       "    <tr>\n",
       "      <th>8</th>\n",
       "      <td>2414600126</td>\n",
       "      <td>2015-04-15</td>\n",
       "      <td>229500.0</td>\n",
       "      <td>1.0</td>\n",
       "      <td>98146</td>\n",
       "    </tr>\n",
       "    <tr>\n",
       "      <th>9</th>\n",
       "      <td>3793500160</td>\n",
       "      <td>2015-03-12</td>\n",
       "      <td>323000.0</td>\n",
       "      <td>2.0</td>\n",
       "      <td>98038</td>\n",
       "    </tr>\n",
       "  </tbody>\n",
       "</table>\n",
       "</div>"
      ],
      "text/plain": [
       "           id       date      price  floors  zipcode\n",
       "0  7129300520 2014-10-13   221900.0     1.0    98178\n",
       "1  6414100192 2014-12-09   538000.0     2.0    98125\n",
       "2  5631500400 2015-02-25   180000.0     1.0    98028\n",
       "3  2487200875 2014-12-09   604000.0     1.0    98136\n",
       "4  1954400510 2015-02-18   510000.0     1.0    98074\n",
       "5  7237550310 2014-05-12  1225000.0     1.0    98053\n",
       "6  1321400060 2014-06-27   257500.0     2.0    98003\n",
       "7  2008000270 2015-01-15   291850.0     1.0    98198\n",
       "8  2414600126 2015-04-15   229500.0     1.0    98146\n",
       "9  3793500160 2015-03-12   323000.0     2.0    98038"
      ]
     },
     "execution_count": 186,
     "metadata": {},
     "output_type": "execute_result"
    }
   ],
   "source": [
    "datahouses.iloc[0:10, [0,1,2,7,16]]"
   ]
  },
  {
   "cell_type": "code",
   "execution_count": 187,
   "id": "fe70dc93",
   "metadata": {
    "ExecuteTime": {
     "end_time": "2021-10-31T22:05:03.642493Z",
     "start_time": "2021-10-31T22:05:03.610981Z"
    }
   },
   "outputs": [
    {
     "name": "stdout",
     "output_type": "stream",
     "text": [
      "               id       date     price  floors  zipcode\n",
      "0      7129300520 2014-10-13  221900.0     1.0    98178\n",
      "1      6414100192 2014-12-09  538000.0     2.0    98125\n",
      "2      5631500400 2015-02-25  180000.0     1.0    98028\n",
      "3      2487200875 2014-12-09  604000.0     1.0    98136\n",
      "4      1954400510 2015-02-18  510000.0     1.0    98074\n",
      "...           ...        ...       ...     ...      ...\n",
      "21608   263000018 2014-05-21  360000.0     3.0    98103\n",
      "21609  6600060120 2015-02-23  400000.0     2.0    98146\n",
      "21610  1523300141 2014-06-23  402101.0     2.0    98144\n",
      "21611   291310100 2015-01-16  400000.0     2.0    98027\n",
      "21612  1523300157 2014-10-15  325000.0     2.0    98144\n",
      "\n",
      "[21613 rows x 5 columns]\n"
     ]
    }
   ],
   "source": [
    "df3 = datahouses.loc[:, ['id', 'date', 'price', 'floors', 'zipcode']]\n",
    "print(df3)"
   ]
  },
  {
   "cell_type": "code",
   "execution_count": 188,
   "id": "ee6e6870",
   "metadata": {
    "ExecuteTime": {
     "end_time": "2021-10-31T22:05:04.192222Z",
     "start_time": "2021-10-31T22:05:04.176623Z"
    }
   },
   "outputs": [
    {
     "data": {
      "text/plain": [
       "Index(['id', 'date', 'price', 'bedrooms', 'bathrooms', 'sqft_living',\n",
       "       'sqft_lot', 'floors', 'waterfront', 'view', 'condition', 'grade',\n",
       "       'sqft_above', 'sqft_basement', 'yr_built', 'yr_renovated', 'zipcode',\n",
       "       'lat', 'long', 'house_age', 'dormitory_type', 'conditional_type'],\n",
       "      dtype='object')"
      ]
     },
     "execution_count": 188,
     "metadata": {},
     "output_type": "execute_result"
    }
   ],
   "source": [
    "datahouses.columns"
   ]
  },
  {
   "cell_type": "code",
   "execution_count": 189,
   "id": "a4430db3",
   "metadata": {
    "ExecuteTime": {
     "end_time": "2021-10-31T22:05:06.522043Z",
     "start_time": "2021-10-31T22:05:06.490826Z"
    }
   },
   "outputs": [
    {
     "data": {
      "text/html": [
       "<div>\n",
       "<style scoped>\n",
       "    .dataframe tbody tr th:only-of-type {\n",
       "        vertical-align: middle;\n",
       "    }\n",
       "\n",
       "    .dataframe tbody tr th {\n",
       "        vertical-align: top;\n",
       "    }\n",
       "\n",
       "    .dataframe thead th {\n",
       "        text-align: right;\n",
       "    }\n",
       "</style>\n",
       "<table border=\"1\" class=\"dataframe\">\n",
       "  <thead>\n",
       "    <tr style=\"text-align: right;\">\n",
       "      <th></th>\n",
       "      <th>id</th>\n",
       "      <th>date</th>\n",
       "      <th>price</th>\n",
       "      <th>floors</th>\n",
       "      <th>zipcode</th>\n",
       "    </tr>\n",
       "  </thead>\n",
       "  <tbody>\n",
       "    <tr>\n",
       "      <th>0</th>\n",
       "      <td>7129300520</td>\n",
       "      <td>2014-10-13</td>\n",
       "      <td>221900.0</td>\n",
       "      <td>1.0</td>\n",
       "      <td>98178</td>\n",
       "    </tr>\n",
       "    <tr>\n",
       "      <th>1</th>\n",
       "      <td>6414100192</td>\n",
       "      <td>2014-12-09</td>\n",
       "      <td>538000.0</td>\n",
       "      <td>2.0</td>\n",
       "      <td>98125</td>\n",
       "    </tr>\n",
       "    <tr>\n",
       "      <th>2</th>\n",
       "      <td>5631500400</td>\n",
       "      <td>2015-02-25</td>\n",
       "      <td>180000.0</td>\n",
       "      <td>1.0</td>\n",
       "      <td>98028</td>\n",
       "    </tr>\n",
       "    <tr>\n",
       "      <th>3</th>\n",
       "      <td>2487200875</td>\n",
       "      <td>2014-12-09</td>\n",
       "      <td>604000.0</td>\n",
       "      <td>1.0</td>\n",
       "      <td>98136</td>\n",
       "    </tr>\n",
       "    <tr>\n",
       "      <th>4</th>\n",
       "      <td>1954400510</td>\n",
       "      <td>2015-02-18</td>\n",
       "      <td>510000.0</td>\n",
       "      <td>1.0</td>\n",
       "      <td>98074</td>\n",
       "    </tr>\n",
       "    <tr>\n",
       "      <th>5</th>\n",
       "      <td>7237550310</td>\n",
       "      <td>2014-05-12</td>\n",
       "      <td>1225000.0</td>\n",
       "      <td>1.0</td>\n",
       "      <td>98053</td>\n",
       "    </tr>\n",
       "    <tr>\n",
       "      <th>6</th>\n",
       "      <td>1321400060</td>\n",
       "      <td>2014-06-27</td>\n",
       "      <td>257500.0</td>\n",
       "      <td>2.0</td>\n",
       "      <td>98003</td>\n",
       "    </tr>\n",
       "    <tr>\n",
       "      <th>7</th>\n",
       "      <td>2008000270</td>\n",
       "      <td>2015-01-15</td>\n",
       "      <td>291850.0</td>\n",
       "      <td>1.0</td>\n",
       "      <td>98198</td>\n",
       "    </tr>\n",
       "    <tr>\n",
       "      <th>8</th>\n",
       "      <td>2414600126</td>\n",
       "      <td>2015-04-15</td>\n",
       "      <td>229500.0</td>\n",
       "      <td>1.0</td>\n",
       "      <td>98146</td>\n",
       "    </tr>\n",
       "    <tr>\n",
       "      <th>9</th>\n",
       "      <td>3793500160</td>\n",
       "      <td>2015-03-12</td>\n",
       "      <td>323000.0</td>\n",
       "      <td>2.0</td>\n",
       "      <td>98038</td>\n",
       "    </tr>\n",
       "  </tbody>\n",
       "</table>\n",
       "</div>"
      ],
      "text/plain": [
       "           id       date      price  floors  zipcode\n",
       "0  7129300520 2014-10-13   221900.0     1.0    98178\n",
       "1  6414100192 2014-12-09   538000.0     2.0    98125\n",
       "2  5631500400 2015-02-25   180000.0     1.0    98028\n",
       "3  2487200875 2014-12-09   604000.0     1.0    98136\n",
       "4  1954400510 2015-02-18   510000.0     1.0    98074\n",
       "5  7237550310 2014-05-12  1225000.0     1.0    98053\n",
       "6  1321400060 2014-06-27   257500.0     2.0    98003\n",
       "7  2008000270 2015-01-15   291850.0     1.0    98198\n",
       "8  2414600126 2015-04-15   229500.0     1.0    98146\n",
       "9  3793500160 2015-03-12   323000.0     2.0    98038"
      ]
     },
     "execution_count": 189,
     "metadata": {},
     "output_type": "execute_result"
    }
   ],
   "source": [
    "i = [True, True, True, False, False, False, False, True, False, \n",
    "     False,False,False,False,False,False,False,True,False,False,\n",
    "     False, False, False]\n",
    "datahouses.iloc[0:10, i]"
   ]
  },
  {
   "cell_type": "markdown",
   "id": "2facf11c",
   "metadata": {},
   "source": [
    "#### 19 - Salve um arquivo .csv com somente as colunas do item 10 ao 17.\n",
    "\n",
    "###### Modifique a cor dos pontos no mapa de “pink” para “verde-escuro”"
   ]
  },
  {
   "cell_type": "code",
   "execution_count": 195,
   "id": "74ac23b2",
   "metadata": {
    "ExecuteTime": {
     "end_time": "2021-10-31T22:06:59.263163Z",
     "start_time": "2021-10-31T22:06:59.173319Z"
    }
   },
   "outputs": [],
   "source": [
    "datahouses[['house_age', 'dormitory_type', 'conditional_type']].to_csv('exercise_19.csv')"
   ]
  },
  {
   "cell_type": "code",
   "execution_count": null,
   "id": "df27e3d3",
   "metadata": {},
   "outputs": [],
   "source": []
  },
  {
   "cell_type": "code",
   "execution_count": null,
   "id": "c6bdb823",
   "metadata": {},
   "outputs": [],
   "source": []
  },
  {
   "cell_type": "code",
   "execution_count": null,
   "id": "631f624b",
   "metadata": {},
   "outputs": [],
   "source": []
  }
 ],
 "metadata": {
  "kernelspec": {
   "display_name": "Python 3 (ipykernel)",
   "language": "python",
   "name": "python3"
  },
  "language_info": {
   "codemirror_mode": {
    "name": "ipython",
    "version": 3
   },
   "file_extension": ".py",
   "mimetype": "text/x-python",
   "name": "python",
   "nbconvert_exporter": "python",
   "pygments_lexer": "ipython3",
   "version": "3.8.11"
  }
 },
 "nbformat": 4,
 "nbformat_minor": 5
}
